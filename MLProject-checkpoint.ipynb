{
 "cells": [
  {
   "cell_type": "code",
   "execution_count": 35,
   "metadata": {},
   "outputs": [],
   "source": [
    "import pandas as pd\n",
    "import numpy as np\n",
    "import datetime"
   ]
  },
  {
   "cell_type": "code",
   "execution_count": 36,
   "metadata": {},
   "outputs": [],
   "source": [
    "path = \"C:/Users/VENKATESH/Desktop/CODE/data/SCM/data.csv\""
   ]
  },
  {
   "cell_type": "code",
   "execution_count": 37,
   "metadata": {},
   "outputs": [],
   "source": [
    "data=pd.read_csv(path, engine='python')"
   ]
  },
  {
   "cell_type": "code",
   "execution_count": 38,
   "metadata": {},
   "outputs": [
    {
     "data": {
      "text/plain": [
       "(409913, 23)"
      ]
     },
     "execution_count": 38,
     "metadata": {},
     "output_type": "execute_result"
    }
   ],
   "source": [
    "data.shape"
   ]
  },
  {
   "cell_type": "code",
   "execution_count": 39,
   "metadata": {},
   "outputs": [
    {
     "name": "stdout",
     "output_type": "stream",
     "text": [
      "<class 'pandas.core.frame.DataFrame'>\n",
      "RangeIndex: 409913 entries, 0 to 409912\n",
      "Data columns (total 23 columns):\n",
      " #   Column                        Non-Null Count   Dtype  \n",
      "---  ------                        --------------   -----  \n",
      " 0   Application Date              409913 non-null  object \n",
      " 1   Department                    409913 non-null  object \n",
      " 2   Consumption Dept.             409913 non-null  object \n",
      " 3   Accounting .Conf.Date         409913 non-null  object \n",
      " 4   Supplier Agency               409913 non-null  object \n",
      " 5   Location                      409913 non-null  object \n",
      " 6   Invoice Date                  409913 non-null  object \n",
      " 7   Supplier                      409913 non-null  object \n",
      " 8   Material Name                 409913 non-null  object \n",
      " 9   Unit                          409913 non-null  object \n",
      " 10  Invoice Qty                   351132 non-null  object \n",
      " 11  Incoming Date                 409856 non-null  object \n",
      " 12  PO YN                         409913 non-null  object \n",
      " 13  Warehouse                     409856 non-null  object \n",
      " 14  Incoming Qty                  409850 non-null  object \n",
      " 15  P/O No                        409913 non-null  object \n",
      " 16  PO Date                       408868 non-null  object \n",
      " 17  RTD                           408749 non-null  object \n",
      " 18  RTA                           408779 non-null  object \n",
      " 19  P/O Qty                       408868 non-null  object \n",
      " 20  Application Date Vs Inv Date  409913 non-null  int64  \n",
      " 21  Incoming Date Vs PO Date      408811 non-null  float64\n",
      " 22  Incoming Date Vs RTD          408603 non-null  float64\n",
      "dtypes: float64(2), int64(1), object(20)\n",
      "memory usage: 71.9+ MB\n"
     ]
    }
   ],
   "source": [
    "data.info()"
   ]
  },
  {
   "cell_type": "code",
   "execution_count": 40,
   "metadata": {},
   "outputs": [
    {
     "data": {
      "text/html": [
       "<div>\n",
       "<style scoped>\n",
       "    .dataframe tbody tr th:only-of-type {\n",
       "        vertical-align: middle;\n",
       "    }\n",
       "\n",
       "    .dataframe tbody tr th {\n",
       "        vertical-align: top;\n",
       "    }\n",
       "\n",
       "    .dataframe thead th {\n",
       "        text-align: right;\n",
       "    }\n",
       "</style>\n",
       "<table border=\"1\" class=\"dataframe\">\n",
       "  <thead>\n",
       "    <tr style=\"text-align: right;\">\n",
       "      <th></th>\n",
       "      <th>Application Date</th>\n",
       "      <th>Department</th>\n",
       "      <th>Consumption Dept.</th>\n",
       "      <th>Accounting .Conf.Date</th>\n",
       "      <th>Supplier Agency</th>\n",
       "      <th>Location</th>\n",
       "      <th>Invoice Date</th>\n",
       "      <th>Supplier</th>\n",
       "      <th>Material Name</th>\n",
       "      <th>Unit</th>\n",
       "      <th>Invoice Qty</th>\n",
       "      <th>Incoming Date</th>\n",
       "      <th>PO YN</th>\n",
       "      <th>Warehouse</th>\n",
       "      <th>Incoming Qty</th>\n",
       "      <th>P/O No</th>\n",
       "      <th>PO Date</th>\n",
       "      <th>RTD</th>\n",
       "      <th>RTA</th>\n",
       "      <th>P/O Qty</th>\n",
       "      <th>Application Date Vs Inv Date</th>\n",
       "      <th>Incoming Date Vs PO Date</th>\n",
       "      <th>Incoming Date Vs RTD</th>\n",
       "    </tr>\n",
       "  </thead>\n",
       "  <tbody>\n",
       "    <tr>\n",
       "      <th>0</th>\n",
       "      <td>2020/01/03</td>\n",
       "      <td>IT</td>\n",
       "      <td>DEVELOPMENT ( ADM )</td>\n",
       "      <td>20200212</td>\n",
       "      <td>Z01779</td>\n",
       "      <td>Local</td>\n",
       "      <td>2020/01/03</td>\n",
       "      <td>Z01779</td>\n",
       "      <td>MOUSE LOGITECH B100</td>\n",
       "      <td>UNIT</td>\n",
       "      <td>1</td>\n",
       "      <td>2020/01/03</td>\n",
       "      <td>Y</td>\n",
       "      <td>PWI Consumer W/H</td>\n",
       "      <td>1</td>\n",
       "      <td>PWI1-ESP-PO-191227-0008</td>\n",
       "      <td>2019/12/27</td>\n",
       "      <td>2019/12/27</td>\n",
       "      <td>2019/12/27</td>\n",
       "      <td>1</td>\n",
       "      <td>0</td>\n",
       "      <td>7.0</td>\n",
       "      <td>7.0</td>\n",
       "    </tr>\n",
       "    <tr>\n",
       "      <th>1</th>\n",
       "      <td>2020/01/03</td>\n",
       "      <td>IT</td>\n",
       "      <td>LABORAT</td>\n",
       "      <td>20200212</td>\n",
       "      <td>Z01779</td>\n",
       "      <td>Local</td>\n",
       "      <td>2020/01/03</td>\n",
       "      <td>Z01779</td>\n",
       "      <td>PC NONE BRAND CORE I3 SET</td>\n",
       "      <td>UNIT</td>\n",
       "      <td>1</td>\n",
       "      <td>2020/01/03</td>\n",
       "      <td>Y</td>\n",
       "      <td>PWI Consumer W/H</td>\n",
       "      <td>1</td>\n",
       "      <td>PWI1-ESP-PO-191227-0010</td>\n",
       "      <td>2019/12/27</td>\n",
       "      <td>2019/12/27</td>\n",
       "      <td>2019/12/27</td>\n",
       "      <td>1</td>\n",
       "      <td>0</td>\n",
       "      <td>7.0</td>\n",
       "      <td>7.0</td>\n",
       "    </tr>\n",
       "    <tr>\n",
       "      <th>2</th>\n",
       "      <td>2020/01/03</td>\n",
       "      <td>IT</td>\n",
       "      <td>PURCHASING</td>\n",
       "      <td>20200212</td>\n",
       "      <td>Z01779</td>\n",
       "      <td>Local</td>\n",
       "      <td>2020/01/03</td>\n",
       "      <td>Z01779</td>\n",
       "      <td>MOUSE LOGITECH B100</td>\n",
       "      <td>UNIT</td>\n",
       "      <td>1</td>\n",
       "      <td>2020/01/03</td>\n",
       "      <td>Y</td>\n",
       "      <td>PWI Consumer W/H</td>\n",
       "      <td>1</td>\n",
       "      <td>PWI1-ESP-PO-191227-0006</td>\n",
       "      <td>2019/12/27</td>\n",
       "      <td>2019/12/27</td>\n",
       "      <td>2019/12/27</td>\n",
       "      <td>1</td>\n",
       "      <td>0</td>\n",
       "      <td>7.0</td>\n",
       "      <td>7.0</td>\n",
       "    </tr>\n",
       "    <tr>\n",
       "      <th>3</th>\n",
       "      <td>2020/01/03</td>\n",
       "      <td>IT</td>\n",
       "      <td>FACTORY.1</td>\n",
       "      <td>20200212</td>\n",
       "      <td>Z01779</td>\n",
       "      <td>Local</td>\n",
       "      <td>2020/01/03</td>\n",
       "      <td>Z01779</td>\n",
       "      <td>MINI PC ASUS VM62-4030 PLUS</td>\n",
       "      <td>SET</td>\n",
       "      <td>1</td>\n",
       "      <td>2020/01/03</td>\n",
       "      <td>Y</td>\n",
       "      <td>PWI Consumer W/H</td>\n",
       "      <td>1</td>\n",
       "      <td>PWI1-ESP-PO-191227-0005</td>\n",
       "      <td>2019/12/27</td>\n",
       "      <td>2019/12/27</td>\n",
       "      <td>2019/12/27</td>\n",
       "      <td>1</td>\n",
       "      <td>0</td>\n",
       "      <td>7.0</td>\n",
       "      <td>7.0</td>\n",
       "    </tr>\n",
       "    <tr>\n",
       "      <th>4</th>\n",
       "      <td>2020/01/03</td>\n",
       "      <td>IT</td>\n",
       "      <td>FACTORY. 2 ( MEKANIK )</td>\n",
       "      <td>20200212</td>\n",
       "      <td>Z01779</td>\n",
       "      <td>Local</td>\n",
       "      <td>2020/01/03</td>\n",
       "      <td>Z01779</td>\n",
       "      <td>MAINBOARD H81M-SP2H</td>\n",
       "      <td>PCS</td>\n",
       "      <td>1</td>\n",
       "      <td>2020/01/03</td>\n",
       "      <td>Y</td>\n",
       "      <td>PWI Consumer W/H</td>\n",
       "      <td>1</td>\n",
       "      <td>PWI1-ESP-PO-191219-0004</td>\n",
       "      <td>2019/12/19</td>\n",
       "      <td>2019/12/19</td>\n",
       "      <td>2019/12/19</td>\n",
       "      <td>1</td>\n",
       "      <td>0</td>\n",
       "      <td>15.0</td>\n",
       "      <td>15.0</td>\n",
       "    </tr>\n",
       "    <tr>\n",
       "      <th>...</th>\n",
       "      <td>...</td>\n",
       "      <td>...</td>\n",
       "      <td>...</td>\n",
       "      <td>...</td>\n",
       "      <td>...</td>\n",
       "      <td>...</td>\n",
       "      <td>...</td>\n",
       "      <td>...</td>\n",
       "      <td>...</td>\n",
       "      <td>...</td>\n",
       "      <td>...</td>\n",
       "      <td>...</td>\n",
       "      <td>...</td>\n",
       "      <td>...</td>\n",
       "      <td>...</td>\n",
       "      <td>...</td>\n",
       "      <td>...</td>\n",
       "      <td>...</td>\n",
       "      <td>...</td>\n",
       "      <td>...</td>\n",
       "      <td>...</td>\n",
       "      <td>...</td>\n",
       "      <td>...</td>\n",
       "    </tr>\n",
       "    <tr>\n",
       "      <th>409908</th>\n",
       "      <td>2020/12/31</td>\n",
       "      <td>PURCHASING</td>\n",
       "      <td>PURCHASING</td>\n",
       "      <td>20210107</td>\n",
       "      <td>E00003</td>\n",
       "      <td>Import</td>\n",
       "      <td>2020/12/04</td>\n",
       "      <td>B00052</td>\n",
       "      <td>DJT 2836 JC MESH II PRIMEBLUE - EPM 5</td>\n",
       "      <td>M</td>\n",
       "      <td>15</td>\n",
       "      <td>2020/12/21</td>\n",
       "      <td>Y</td>\n",
       "      <td>PWI Mat W/H(Main)</td>\n",
       "      <td>15</td>\n",
       "      <td>PWI1-PFO-UO-201126-0030</td>\n",
       "      <td>2020/11/26</td>\n",
       "      <td>2020/11/27</td>\n",
       "      <td>2020/12/11</td>\n",
       "      <td>15</td>\n",
       "      <td>27</td>\n",
       "      <td>25.0</td>\n",
       "      <td>24.0</td>\n",
       "    </tr>\n",
       "    <tr>\n",
       "      <th>409909</th>\n",
       "      <td>2020/12/11</td>\n",
       "      <td>PURCHASING</td>\n",
       "      <td>PURCHASING</td>\n",
       "      <td>20201223</td>\n",
       "      <td>E00003</td>\n",
       "      <td>Import</td>\n",
       "      <td>2020/11/28</td>\n",
       "      <td>B00362</td>\n",
       "      <td>HF SD 10641 CDP-P - EPM 5</td>\n",
       "      <td>YARD</td>\n",
       "      <td>2</td>\n",
       "      <td>2020/12/07</td>\n",
       "      <td>Y</td>\n",
       "      <td>PWI Mat W/H(Main)</td>\n",
       "      <td>2</td>\n",
       "      <td>PWI1-PRD-UO-201114-0042</td>\n",
       "      <td>2020/11/14</td>\n",
       "      <td>2020/11/27</td>\n",
       "      <td>2020/12/11</td>\n",
       "      <td>2</td>\n",
       "      <td>13</td>\n",
       "      <td>23.0</td>\n",
       "      <td>10.0</td>\n",
       "    </tr>\n",
       "    <tr>\n",
       "      <th>409910</th>\n",
       "      <td>2020/12/23</td>\n",
       "      <td>PURCHASING</td>\n",
       "      <td>PURCHASING</td>\n",
       "      <td>20210106</td>\n",
       "      <td>E00003</td>\n",
       "      <td>Import</td>\n",
       "      <td>2020/12/18</td>\n",
       "      <td>B00362</td>\n",
       "      <td>HF ZJ 584 N</td>\n",
       "      <td>YARD</td>\n",
       "      <td>25</td>\n",
       "      <td>2020/12/28</td>\n",
       "      <td>Y</td>\n",
       "      <td>PWI Mat W/H(Main)</td>\n",
       "      <td>25</td>\n",
       "      <td>PWI1-PRD-UO-201201-0012</td>\n",
       "      <td>2020/12/01</td>\n",
       "      <td>2020/12/21</td>\n",
       "      <td>2021/01/04</td>\n",
       "      <td>25</td>\n",
       "      <td>5</td>\n",
       "      <td>27.0</td>\n",
       "      <td>7.0</td>\n",
       "    </tr>\n",
       "    <tr>\n",
       "      <th>409911</th>\n",
       "      <td>2020/12/23</td>\n",
       "      <td>PURCHASING</td>\n",
       "      <td>PURCHASING</td>\n",
       "      <td>20210106</td>\n",
       "      <td>E00003</td>\n",
       "      <td>Import</td>\n",
       "      <td>2020/12/18</td>\n",
       "      <td>Z01141</td>\n",
       "      <td>1180 AU E TPU X 25 130 BLK STM BASF (PUREBOOST...</td>\n",
       "      <td>PRS</td>\n",
       "      <td>8</td>\n",
       "      <td>2020/12/28</td>\n",
       "      <td>Y</td>\n",
       "      <td>PWI Mat W/H(Main)</td>\n",
       "      <td>8</td>\n",
       "      <td>PWI1-PRD-UO-201031-0034</td>\n",
       "      <td>2020/10/31</td>\n",
       "      <td>2020/11/27</td>\n",
       "      <td>2020/12/11</td>\n",
       "      <td>8</td>\n",
       "      <td>5</td>\n",
       "      <td>58.0</td>\n",
       "      <td>31.0</td>\n",
       "    </tr>\n",
       "    <tr>\n",
       "      <th>409912</th>\n",
       "      <td>2020/12/11</td>\n",
       "      <td>PURCHASING</td>\n",
       "      <td>PURCHASING</td>\n",
       "      <td>20201223</td>\n",
       "      <td>E00003</td>\n",
       "      <td>Import</td>\n",
       "      <td>2020/12/05</td>\n",
       "      <td>B00362</td>\n",
       "      <td>HF SD 10641 P EPM 5</td>\n",
       "      <td>YARD</td>\n",
       "      <td>178</td>\n",
       "      <td>2020/12/14</td>\n",
       "      <td>Y</td>\n",
       "      <td>PWI Mat W/H(Main)</td>\n",
       "      <td>178</td>\n",
       "      <td>PWI1-PRD-UO-201114-0042</td>\n",
       "      <td>2020/11/14</td>\n",
       "      <td>2020/11/27</td>\n",
       "      <td>2020/12/11</td>\n",
       "      <td>178</td>\n",
       "      <td>6</td>\n",
       "      <td>30.0</td>\n",
       "      <td>17.0</td>\n",
       "    </tr>\n",
       "  </tbody>\n",
       "</table>\n",
       "<p>409913 rows × 23 columns</p>\n",
       "</div>"
      ],
      "text/plain": [
       "       Application Date  Department       Consumption Dept.  \\\n",
       "0            2020/01/03          IT     DEVELOPMENT ( ADM )   \n",
       "1            2020/01/03          IT                 LABORAT   \n",
       "2            2020/01/03          IT              PURCHASING   \n",
       "3            2020/01/03          IT               FACTORY.1   \n",
       "4            2020/01/03          IT  FACTORY. 2 ( MEKANIK )   \n",
       "...                 ...         ...                     ...   \n",
       "409908       2020/12/31  PURCHASING              PURCHASING   \n",
       "409909       2020/12/11  PURCHASING              PURCHASING   \n",
       "409910       2020/12/23  PURCHASING              PURCHASING   \n",
       "409911       2020/12/23  PURCHASING              PURCHASING   \n",
       "409912       2020/12/11  PURCHASING              PURCHASING   \n",
       "\n",
       "       Accounting .Conf.Date Supplier Agency Location Invoice Date Supplier  \\\n",
       "0                   20200212          Z01779    Local   2020/01/03   Z01779   \n",
       "1                   20200212          Z01779    Local   2020/01/03   Z01779   \n",
       "2                   20200212          Z01779    Local   2020/01/03   Z01779   \n",
       "3                   20200212          Z01779    Local   2020/01/03   Z01779   \n",
       "4                   20200212          Z01779    Local   2020/01/03   Z01779   \n",
       "...                      ...             ...      ...          ...      ...   \n",
       "409908              20210107          E00003   Import   2020/12/04   B00052   \n",
       "409909              20201223          E00003   Import   2020/11/28   B00362   \n",
       "409910              20210106          E00003   Import   2020/12/18   B00362   \n",
       "409911              20210106          E00003   Import   2020/12/18   Z01141   \n",
       "409912              20201223          E00003   Import   2020/12/05   B00362   \n",
       "\n",
       "                                            Material Name  Unit Invoice Qty  \\\n",
       "0                                     MOUSE LOGITECH B100  UNIT           1   \n",
       "1                               PC NONE BRAND CORE I3 SET  UNIT           1   \n",
       "2                                     MOUSE LOGITECH B100  UNIT           1   \n",
       "3                             MINI PC ASUS VM62-4030 PLUS   SET           1   \n",
       "4                                     MAINBOARD H81M-SP2H   PCS           1   \n",
       "...                                                   ...   ...         ...   \n",
       "409908              DJT 2836 JC MESH II PRIMEBLUE - EPM 5     M          15   \n",
       "409909                          HF SD 10641 CDP-P - EPM 5  YARD           2   \n",
       "409910                                        HF ZJ 584 N  YARD          25   \n",
       "409911  1180 AU E TPU X 25 130 BLK STM BASF (PUREBOOST...   PRS           8   \n",
       "409912                                HF SD 10641 P EPM 5  YARD         178   \n",
       "\n",
       "       Incoming Date PO YN          Warehouse Incoming Qty  \\\n",
       "0         2020/01/03     Y   PWI Consumer W/H            1   \n",
       "1         2020/01/03     Y   PWI Consumer W/H            1   \n",
       "2         2020/01/03     Y   PWI Consumer W/H            1   \n",
       "3         2020/01/03     Y   PWI Consumer W/H            1   \n",
       "4         2020/01/03     Y   PWI Consumer W/H            1   \n",
       "...              ...   ...                ...          ...   \n",
       "409908    2020/12/21     Y  PWI Mat W/H(Main)           15   \n",
       "409909    2020/12/07     Y  PWI Mat W/H(Main)            2   \n",
       "409910    2020/12/28     Y  PWI Mat W/H(Main)           25   \n",
       "409911    2020/12/28     Y  PWI Mat W/H(Main)            8   \n",
       "409912    2020/12/14     Y  PWI Mat W/H(Main)          178   \n",
       "\n",
       "                         P/O No     PO Date         RTD         RTA P/O Qty  \\\n",
       "0       PWI1-ESP-PO-191227-0008  2019/12/27  2019/12/27  2019/12/27       1   \n",
       "1       PWI1-ESP-PO-191227-0010  2019/12/27  2019/12/27  2019/12/27       1   \n",
       "2       PWI1-ESP-PO-191227-0006  2019/12/27  2019/12/27  2019/12/27       1   \n",
       "3       PWI1-ESP-PO-191227-0005  2019/12/27  2019/12/27  2019/12/27       1   \n",
       "4       PWI1-ESP-PO-191219-0004  2019/12/19  2019/12/19  2019/12/19       1   \n",
       "...                         ...         ...         ...         ...     ...   \n",
       "409908  PWI1-PFO-UO-201126-0030  2020/11/26  2020/11/27  2020/12/11      15   \n",
       "409909  PWI1-PRD-UO-201114-0042  2020/11/14  2020/11/27  2020/12/11       2   \n",
       "409910  PWI1-PRD-UO-201201-0012  2020/12/01  2020/12/21  2021/01/04      25   \n",
       "409911  PWI1-PRD-UO-201031-0034  2020/10/31  2020/11/27  2020/12/11       8   \n",
       "409912  PWI1-PRD-UO-201114-0042  2020/11/14  2020/11/27  2020/12/11     178   \n",
       "\n",
       "        Application Date Vs Inv Date  Incoming Date Vs PO Date  \\\n",
       "0                                  0                       7.0   \n",
       "1                                  0                       7.0   \n",
       "2                                  0                       7.0   \n",
       "3                                  0                       7.0   \n",
       "4                                  0                      15.0   \n",
       "...                              ...                       ...   \n",
       "409908                            27                      25.0   \n",
       "409909                            13                      23.0   \n",
       "409910                             5                      27.0   \n",
       "409911                             5                      58.0   \n",
       "409912                             6                      30.0   \n",
       "\n",
       "        Incoming Date Vs RTD  \n",
       "0                        7.0  \n",
       "1                        7.0  \n",
       "2                        7.0  \n",
       "3                        7.0  \n",
       "4                       15.0  \n",
       "...                      ...  \n",
       "409908                  24.0  \n",
       "409909                  10.0  \n",
       "409910                   7.0  \n",
       "409911                  31.0  \n",
       "409912                  17.0  \n",
       "\n",
       "[409913 rows x 23 columns]"
      ]
     },
     "execution_count": 40,
     "metadata": {},
     "output_type": "execute_result"
    }
   ],
   "source": [
    "data"
   ]
  },
  {
   "cell_type": "code",
   "execution_count": 41,
   "metadata": {},
   "outputs": [
    {
     "data": {
      "text/html": [
       "<div>\n",
       "<style scoped>\n",
       "    .dataframe tbody tr th:only-of-type {\n",
       "        vertical-align: middle;\n",
       "    }\n",
       "\n",
       "    .dataframe tbody tr th {\n",
       "        vertical-align: top;\n",
       "    }\n",
       "\n",
       "    .dataframe thead th {\n",
       "        text-align: right;\n",
       "    }\n",
       "</style>\n",
       "<table border=\"1\" class=\"dataframe\">\n",
       "  <thead>\n",
       "    <tr style=\"text-align: right;\">\n",
       "      <th></th>\n",
       "      <th>Application Date Vs Inv Date</th>\n",
       "      <th>Incoming Date Vs PO Date</th>\n",
       "      <th>Incoming Date Vs RTD</th>\n",
       "    </tr>\n",
       "  </thead>\n",
       "  <tbody>\n",
       "    <tr>\n",
       "      <th>count</th>\n",
       "      <td>409913.000000</td>\n",
       "      <td>408811.000000</td>\n",
       "      <td>408603.000000</td>\n",
       "    </tr>\n",
       "    <tr>\n",
       "      <th>mean</th>\n",
       "      <td>9.274666</td>\n",
       "      <td>25.911910</td>\n",
       "      <td>17.757598</td>\n",
       "    </tr>\n",
       "    <tr>\n",
       "      <th>std</th>\n",
       "      <td>13.895989</td>\n",
       "      <td>24.668031</td>\n",
       "      <td>24.045294</td>\n",
       "    </tr>\n",
       "    <tr>\n",
       "      <th>min</th>\n",
       "      <td>-341.000000</td>\n",
       "      <td>-160.000000</td>\n",
       "      <td>-223.000000</td>\n",
       "    </tr>\n",
       "    <tr>\n",
       "      <th>25%</th>\n",
       "      <td>3.000000</td>\n",
       "      <td>9.000000</td>\n",
       "      <td>4.000000</td>\n",
       "    </tr>\n",
       "    <tr>\n",
       "      <th>50%</th>\n",
       "      <td>7.000000</td>\n",
       "      <td>22.000000</td>\n",
       "      <td>14.000000</td>\n",
       "    </tr>\n",
       "    <tr>\n",
       "      <th>75%</th>\n",
       "      <td>12.000000</td>\n",
       "      <td>36.000000</td>\n",
       "      <td>26.000000</td>\n",
       "    </tr>\n",
       "    <tr>\n",
       "      <th>max</th>\n",
       "      <td>392.000000</td>\n",
       "      <td>426.000000</td>\n",
       "      <td>489.000000</td>\n",
       "    </tr>\n",
       "  </tbody>\n",
       "</table>\n",
       "</div>"
      ],
      "text/plain": [
       "       Application Date Vs Inv Date  Incoming Date Vs PO Date  \\\n",
       "count                 409913.000000             408811.000000   \n",
       "mean                       9.274666                 25.911910   \n",
       "std                       13.895989                 24.668031   \n",
       "min                     -341.000000               -160.000000   \n",
       "25%                        3.000000                  9.000000   \n",
       "50%                        7.000000                 22.000000   \n",
       "75%                       12.000000                 36.000000   \n",
       "max                      392.000000                426.000000   \n",
       "\n",
       "       Incoming Date Vs RTD  \n",
       "count         408603.000000  \n",
       "mean              17.757598  \n",
       "std               24.045294  \n",
       "min             -223.000000  \n",
       "25%                4.000000  \n",
       "50%               14.000000  \n",
       "75%               26.000000  \n",
       "max              489.000000  "
      ]
     },
     "execution_count": 41,
     "metadata": {},
     "output_type": "execute_result"
    }
   ],
   "source": [
    "data.describe()"
   ]
  },
  {
   "cell_type": "code",
   "execution_count": 42,
   "metadata": {},
   "outputs": [],
   "source": [
    "x=data['Incoming Date Vs PO Date'].unique()"
   ]
  },
  {
   "cell_type": "code",
   "execution_count": 43,
   "metadata": {},
   "outputs": [
    {
     "data": {
      "text/plain": [
       "numpy.ndarray"
      ]
     },
     "execution_count": 43,
     "metadata": {},
     "output_type": "execute_result"
    }
   ],
   "source": [
    "type(x)"
   ]
  },
  {
   "cell_type": "code",
   "execution_count": 44,
   "metadata": {},
   "outputs": [
    {
     "data": {
      "text/plain": [
       "pandas.core.frame.DataFrame"
      ]
     },
     "execution_count": 44,
     "metadata": {},
     "output_type": "execute_result"
    }
   ],
   "source": [
    "type(data)"
   ]
  },
  {
   "cell_type": "code",
   "execution_count": 45,
   "metadata": {},
   "outputs": [],
   "source": [
    "Unique=pd.DataFrame()"
   ]
  },
  {
   "cell_type": "code",
   "execution_count": null,
   "metadata": {},
   "outputs": [],
   "source": []
  },
  {
   "cell_type": "code",
   "execution_count": null,
   "metadata": {},
   "outputs": [],
   "source": []
  },
  {
   "cell_type": "code",
   "execution_count": null,
   "metadata": {},
   "outputs": [],
   "source": []
  },
  {
   "cell_type": "code",
   "execution_count": null,
   "metadata": {},
   "outputs": [],
   "source": []
  },
  {
   "cell_type": "code",
   "execution_count": 47,
   "metadata": {},
   "outputs": [
    {
     "data": {
      "text/plain": [
       "0     0\n",
       "1     0\n",
       "2     0\n",
       "3     0\n",
       "4     0\n",
       "     ..\n",
       "95    8\n",
       "96    8\n",
       "97    8\n",
       "98    8\n",
       "99    8\n",
       "Name: Application Date Vs Inv Date, Length: 100, dtype: int64"
      ]
     },
     "execution_count": 47,
     "metadata": {},
     "output_type": "execute_result"
    }
   ],
   "source": [
    "data['Application Date Vs Inv Date'].head(100)"
   ]
  },
  {
   "cell_type": "code",
   "execution_count": 48,
   "metadata": {},
   "outputs": [
    {
     "data": {
      "text/plain": [
       "0       1\n",
       "1       1\n",
       "2       1\n",
       "3       1\n",
       "4       1\n",
       "       ..\n",
       "995    17\n",
       "996    15\n",
       "997    35\n",
       "998    15\n",
       "999    19\n",
       "Name: P/O Qty, Length: 1000, dtype: object"
      ]
     },
     "execution_count": 48,
     "metadata": {},
     "output_type": "execute_result"
    }
   ],
   "source": [
    "data['P/O Qty'].head(1000)"
   ]
  },
  {
   "cell_type": "code",
   "execution_count": 49,
   "metadata": {},
   "outputs": [
    {
     "data": {
      "text/plain": [
       "0        1\n",
       "1        1\n",
       "2        1\n",
       "3        1\n",
       "4        1\n",
       "      ... \n",
       "995     17\n",
       "996     50\n",
       "997    NaN\n",
       "998     15\n",
       "999     19\n",
       "Name: Invoice Qty, Length: 1000, dtype: object"
      ]
     },
     "execution_count": 49,
     "metadata": {},
     "output_type": "execute_result"
    }
   ],
   "source": [
    "data['Invoice Qty'].head(1000)"
   ]
  },
  {
   "cell_type": "code",
   "execution_count": 50,
   "metadata": {},
   "outputs": [
    {
     "data": {
      "text/plain": [
       "0            1\n",
       "1            1\n",
       "2            1\n",
       "3            1\n",
       "4            1\n",
       "        ...   \n",
       "95          40\n",
       "96         757\n",
       "97         120\n",
       "98    9,618.00\n",
       "99         200\n",
       "Name: Incoming Qty, Length: 100, dtype: object"
      ]
     },
     "execution_count": 50,
     "metadata": {},
     "output_type": "execute_result"
    }
   ],
   "source": [
    "data['Incoming Qty'].head(100)"
   ]
  },
  {
   "cell_type": "code",
   "execution_count": 51,
   "metadata": {},
   "outputs": [
    {
     "data": {
      "text/plain": [
       "0     UNIT\n",
       "1     UNIT\n",
       "2     UNIT\n",
       "3      SET\n",
       "4      PCS\n",
       "      ... \n",
       "95     PRS\n",
       "96     PRS\n",
       "97     PRS\n",
       "98     PRS\n",
       "99     PRS\n",
       "Name: Unit, Length: 100, dtype: object"
      ]
     },
     "execution_count": 51,
     "metadata": {},
     "output_type": "execute_result"
    }
   ],
   "source": [
    "data['Unit'].head(100)"
   ]
  },
  {
   "cell_type": "code",
   "execution_count": 52,
   "metadata": {},
   "outputs": [
    {
     "data": {
      "text/plain": [
       "array(['1', '15', '8', ..., '17,523', '6,134', '39,142'], dtype=object)"
      ]
     },
     "execution_count": 52,
     "metadata": {},
     "output_type": "execute_result"
    }
   ],
   "source": [
    "(data['P/O Qty'].unique())"
   ]
  },
  {
   "cell_type": "code",
   "execution_count": 53,
   "metadata": {},
   "outputs": [
    {
     "data": {
      "text/plain": [
       "array(['20200212', '20200210', '20200203', '20200115', '20200128', '-',\n",
       "       '20200129', '20200206', '20200217', '20200207', '20200123',\n",
       "       '20200211', '20200130', '20200127', '20200205', '20200213',\n",
       "       '20200114', '20200122', '20200214', '20200121', '20200131',\n",
       "       '20200204', '20200208', '20200201', '20200312', '20200215',\n",
       "       '20200326', '20200307', '20200303', '20200302', '20200228',\n",
       "       '20200306', '20200304', '20200309', '20200226', '20200229',\n",
       "       '20200218', '20200220', '20200305', '20200324', '20200225',\n",
       "       '20200224', '20200219', '20200331', '20200417', '20200327',\n",
       "       '20200402', '20200318', '20200406', '20200403', '20200319',\n",
       "       '20200320', '20200407', '20200323', '20200408', '20200401',\n",
       "       '20200316', '20200330', '20200428', '20200505', '20200416',\n",
       "       '20200420', '20200422', '20200413', '20200430', '20200427',\n",
       "       '20200429', '20200421', '20200423', '20200504', '20200424',\n",
       "       '20200506', '20200518', '20200514', '20200508', '20200513',\n",
       "       '20200512', '20200520', '20200609', '20200608', '20200610',\n",
       "       '20200519', '20200515', '20200529', '20200611', '20200612',\n",
       "       '20200615', '20200706', '20200619', '20200701', '20200709',\n",
       "       '20200622', '20200629', '20200626', '20200625', '20200618',\n",
       "       '20200616', '20200702', '20200707', '20200708', '20200617',\n",
       "       '20200623', '20200624', '20200727', '20200805', '20200722',\n",
       "       '20200715', '20200728', '20200729', '20200714', '20200806',\n",
       "       '20200730', '20200804', '20200810', '20200720', '20200723',\n",
       "       '20200716', '20200721', '20200807', '20200813', '20200825',\n",
       "       '20200902', '20200826', '20200907', '20200901', '20200819',\n",
       "       '20200831', '20200903', '20200904', '20200824', '20200818',\n",
       "       '20200908', '20201014', '20200909', '20201002', '20200925',\n",
       "       '20200911', '20200910', '20200914', '20200922', '20200930',\n",
       "       '20200917', '20200915', '20200918', '20200923', '20201001',\n",
       "       '20200928', '20200929', '20200916', '20201006', '20200921',\n",
       "       '20201008', '20201005', '20201007', '20201009', '20201028',\n",
       "       '20201013', '20201021', '20201102', '20201012', '20201106',\n",
       "       '20201022', '20201026', '20201103', '20201105', '20201104',\n",
       "       '20201027', '20201030', '20201019', '20201020', '20201023',\n",
       "       '20201109', '20201110', '20201201', '20201204', '20201116',\n",
       "       '20201124', '20201117', '20201130', '20201120', '20201127',\n",
       "       '20201203', '20201118', '20201119', '20201123', '20201126',\n",
       "       '20201207', '20201202', '20201113', '20201125', '20201210',\n",
       "       '20201208', '20210104', '20210106', '20201222', '20210105',\n",
       "       '20201221', '20201218', '20201224', '20201214', '20201230',\n",
       "       '20201223', '20201231', '20210107', '20201228'], dtype=object)"
      ]
     },
     "execution_count": 53,
     "metadata": {},
     "output_type": "execute_result"
    }
   ],
   "source": [
    "data['Accounting .Conf.Date'].unique()"
   ]
  },
  {
   "cell_type": "code",
   "execution_count": 54,
   "metadata": {},
   "outputs": [
    {
     "data": {
      "text/plain": [
       "Application Date                    0\n",
       "Department                          0\n",
       "Consumption Dept.                   0\n",
       "Accounting .Conf.Date               0\n",
       "Supplier Agency                     0\n",
       "Location                            0\n",
       "Invoice Date                        0\n",
       "Supplier                            0\n",
       "Material Name                       0\n",
       "Unit                                0\n",
       "Invoice Qty                     58781\n",
       "Incoming Date                      57\n",
       "PO YN                               0\n",
       "Warehouse                          57\n",
       "Incoming Qty                       63\n",
       "P/O No                              0\n",
       "PO Date                          1045\n",
       "RTD                              1164\n",
       "RTA                              1134\n",
       "P/O Qty                          1045\n",
       "Application Date Vs Inv Date        0\n",
       "Incoming Date Vs PO Date         1102\n",
       "Incoming Date Vs RTD             1310\n",
       "dtype: int64"
      ]
     },
     "execution_count": 54,
     "metadata": {},
     "output_type": "execute_result"
    }
   ],
   "source": [
    "missing_value_count=data.isnull().sum()\n",
    "missing_value_count"
   ]
  },
  {
   "cell_type": "code",
   "execution_count": 55,
   "metadata": {},
   "outputs": [
    {
     "name": "stdout",
     "output_type": "stream",
     "text": [
      "0.6974756785612726\n"
     ]
    }
   ],
   "source": [
    "total_cells=np.product(data.shape)\n",
    "total_missing=missing_value_count.sum()\n",
    "\n",
    "percentage=(total_missing/total_cells)*100\n",
    "print(percentage)"
   ]
  },
  {
   "cell_type": "code",
   "execution_count": 56,
   "metadata": {},
   "outputs": [],
   "source": [
    "data=data.dropna()"
   ]
  },
  {
   "cell_type": "code",
   "execution_count": 57,
   "metadata": {},
   "outputs": [
    {
     "data": {
      "text/plain": [
       "(349880, 23)"
      ]
     },
     "execution_count": 57,
     "metadata": {},
     "output_type": "execute_result"
    }
   ],
   "source": [
    "data.shape"
   ]
  },
  {
   "cell_type": "code",
   "execution_count": 58,
   "metadata": {},
   "outputs": [
    {
     "data": {
      "text/plain": [
       "85.35469721623858"
      ]
     },
     "execution_count": 58,
     "metadata": {},
     "output_type": "execute_result"
    }
   ],
   "source": [
    "(349880/409913)*100"
   ]
  },
  {
   "cell_type": "code",
   "execution_count": 61,
   "metadata": {},
   "outputs": [
    {
     "name": "stderr",
     "output_type": "stream",
     "text": [
      "C:\\Users\\VENKATESH\\AppData\\Local\\Programs\\Python\\Python37\\lib\\site-packages\\ipykernel_launcher.py:1: SettingWithCopyWarning: \n",
      "A value is trying to be set on a copy of a slice from a DataFrame.\n",
      "Try using .loc[row_indexer,col_indexer] = value instead\n",
      "\n",
      "See the caveats in the documentation: https://pandas.pydata.org/pandas-docs/stable/user_guide/indexing.html#returning-a-view-versus-a-copy\n",
      "  \"\"\"Entry point for launching an IPython kernel.\n"
     ]
    }
   ],
   "source": [
    "data['Application Date']=pd.to_datetime(data['Application Date'], infer_datetime_format=True)"
   ]
  },
  {
   "cell_type": "code",
   "execution_count": 62,
   "metadata": {},
   "outputs": [
    {
     "data": {
      "text/plain": [
       "0        2020-01-03\n",
       "1        2020-01-03\n",
       "2        2020-01-03\n",
       "3        2020-01-03\n",
       "4        2020-01-03\n",
       "            ...    \n",
       "409908   2020-12-31\n",
       "409909   2020-12-11\n",
       "409910   2020-12-23\n",
       "409911   2020-12-23\n",
       "409912   2020-12-11\n",
       "Name: Application Date, Length: 349880, dtype: datetime64[ns]"
      ]
     },
     "execution_count": 62,
     "metadata": {},
     "output_type": "execute_result"
    }
   ],
   "source": [
    "data['Application Date']"
   ]
  },
  {
   "cell_type": "code",
   "execution_count": null,
   "metadata": {},
   "outputs": [],
   "source": []
  },
  {
   "cell_type": "code",
   "execution_count": 63,
   "metadata": {},
   "outputs": [
    {
     "data": {
      "text/plain": [
       "0         20200212\n",
       "1         20200212\n",
       "2         20200212\n",
       "3         20200212\n",
       "4         20200212\n",
       "            ...   \n",
       "409908    20210107\n",
       "409909    20201223\n",
       "409910    20210106\n",
       "409911    20210106\n",
       "409912    20201223\n",
       "Name: Accounting .Conf.Date, Length: 349880, dtype: object"
      ]
     },
     "execution_count": 63,
     "metadata": {},
     "output_type": "execute_result"
    }
   ],
   "source": [
    "data['Accounting .Conf.Date']"
   ]
  },
  {
   "cell_type": "code",
   "execution_count": 37,
   "metadata": {},
   "outputs": [
    {
     "name": "stdout",
     "output_type": "stream",
     "text": [
      "Not equal\n"
     ]
    }
   ],
   "source": [
    "for i in range(409913):\n",
    "    if data['Supplier Agency'][i]!=data['Supplier'][i]:\n",
    "        print(\"Not equal\")\n",
    "        break"
   ]
  },
  {
   "cell_type": "code",
   "execution_count": 38,
   "metadata": {},
   "outputs": [
    {
     "data": {
      "text/plain": [
       "0         Z01779\n",
       "1         Z01779\n",
       "2         Z01779\n",
       "3         Z01779\n",
       "4         Z01779\n",
       "           ...  \n",
       "409908    E00003\n",
       "409909    E00003\n",
       "409910    E00003\n",
       "409911    E00003\n",
       "409912    E00003\n",
       "Name: Supplier Agency, Length: 409913, dtype: object"
      ]
     },
     "execution_count": 38,
     "metadata": {},
     "output_type": "execute_result"
    }
   ],
   "source": [
    "data['Supplier Agency']"
   ]
  },
  {
   "cell_type": "code",
   "execution_count": 39,
   "metadata": {},
   "outputs": [
    {
     "data": {
      "text/plain": [
       "0         Z01779\n",
       "1         Z01779\n",
       "2         Z01779\n",
       "3         Z01779\n",
       "4         Z01779\n",
       "           ...  \n",
       "409908    B00052\n",
       "409909    B00362\n",
       "409910    B00362\n",
       "409911    Z01141\n",
       "409912    B00362\n",
       "Name: Supplier, Length: 409913, dtype: object"
      ]
     },
     "execution_count": 39,
     "metadata": {},
     "output_type": "execute_result"
    }
   ],
   "source": [
    "data['Supplier']"
   ]
  },
  {
   "cell_type": "markdown",
   "metadata": {},
   "source": [
    " #   Column                        Non-Null Count   Dtype  \n",
    "---  ------                        --------------   -----  \n",
    " 0   Application Date              409913 non-null  object \n",
    " 1   Department                    409913 non-null  object \n",
    " 2   Consumption Dept.             409913 non-null  object \n",
    " 4   Supplier Agency               409913 non-null  object \n",
    " 5   Location                      409913 non-null  object \n",
    " 6   Invoice Date                  409913 non-null  object \n",
    " 7   Supplier                      409913 non-null  object \n",
    " 8   Material Name                 409913 non-null  object \n",
    " 9   Unit                          409913 non-null  object \n",
    " 10  Invoice Qty                   351132 non-null  object \n",
    " 11  Incoming Date                 409856 non-null  object \n",
    " 12  PO YN                         409913 non-null  object \n",
    " 13  Warehouse                     409856 non-null  object \n",
    " 14  Incoming Qty                  409850 non-null  object \n",
    " 15  P/O No                        409913 non-null  object \n",
    " 16  PO Date                       408868 non-null  object \n",
    " 17  RTD                           408749 non-null  object \n",
    " 18  RTA                           408779 non-null  object \n",
    " 19  P/O Qty                       408868 non-null  object \n",
    " 20  Application Date Vs Inv Date  409913 non-null  int64  \n",
    " 21  Incoming Date Vs PO Date      408811 non-null  float64\n",
    " 22  Incoming Date Vs RTD          408603 non-null  float64"
   ]
  },
  {
   "cell_type": "code",
   "execution_count": 64,
   "metadata": {},
   "outputs": [
    {
     "name": "stdout",
     "output_type": "stream",
     "text": [
      "Setup Complete\n"
     ]
    }
   ],
   "source": [
    "import pandas as pd\n",
    "pd.plotting.register_matplotlib_converters()\n",
    "import matplotlib.pyplot as plt\n",
    "%matplotlib inline\n",
    "import seaborn as sns\n",
    "print(\"Setup Complete\")"
   ]
  },
  {
   "cell_type": "code",
   "execution_count": null,
   "metadata": {},
   "outputs": [],
   "source": []
  },
  {
   "cell_type": "code",
   "execution_count": null,
   "metadata": {},
   "outputs": [],
   "source": []
  },
  {
   "cell_type": "markdown",
   "metadata": {},
   "source": [
    "Application Date   "
   ]
  },
  {
   "cell_type": "code",
   "execution_count": 65,
   "metadata": {},
   "outputs": [
    {
     "name": "stderr",
     "output_type": "stream",
     "text": [
      "C:\\Users\\VENKATESH\\AppData\\Local\\Programs\\Python\\Python37\\lib\\site-packages\\ipykernel_launcher.py:1: SettingWithCopyWarning: \n",
      "A value is trying to be set on a copy of a slice from a DataFrame.\n",
      "Try using .loc[row_indexer,col_indexer] = value instead\n",
      "\n",
      "See the caveats in the documentation: https://pandas.pydata.org/pandas-docs/stable/user_guide/indexing.html#returning-a-view-versus-a-copy\n",
      "  \"\"\"Entry point for launching an IPython kernel.\n"
     ]
    }
   ],
   "source": [
    "data['Application Date']=pd.to_datetime(data['Application Date'])"
   ]
  },
  {
   "cell_type": "code",
   "execution_count": null,
   "metadata": {},
   "outputs": [],
   "source": []
  },
  {
   "cell_type": "code",
   "execution_count": null,
   "metadata": {},
   "outputs": [],
   "source": []
  },
  {
   "cell_type": "code",
   "execution_count": null,
   "metadata": {},
   "outputs": [],
   "source": []
  },
  {
   "cell_type": "code",
   "execution_count": 66,
   "metadata": {},
   "outputs": [
    {
     "name": "stderr",
     "output_type": "stream",
     "text": [
      "C:\\Users\\VENKATESH\\AppData\\Local\\Programs\\Python\\Python37\\lib\\site-packages\\ipykernel_launcher.py:1: SettingWithCopyWarning: \n",
      "A value is trying to be set on a copy of a slice from a DataFrame.\n",
      "Try using .loc[row_indexer,col_indexer] = value instead\n",
      "\n",
      "See the caveats in the documentation: https://pandas.pydata.org/pandas-docs/stable/user_guide/indexing.html#returning-a-view-versus-a-copy\n",
      "  \"\"\"Entry point for launching an IPython kernel.\n"
     ]
    }
   ],
   "source": [
    "data['Invoice Date']=pd.to_datetime(data['Invoice Date'])"
   ]
  },
  {
   "cell_type": "code",
   "execution_count": 67,
   "metadata": {},
   "outputs": [
    {
     "data": {
      "text/plain": [
       "0        2020-01-03\n",
       "1        2020-01-03\n",
       "2        2020-01-03\n",
       "3        2020-01-03\n",
       "4        2020-01-03\n",
       "            ...    \n",
       "409908   2020-12-04\n",
       "409909   2020-11-28\n",
       "409910   2020-12-18\n",
       "409911   2020-12-18\n",
       "409912   2020-12-05\n",
       "Name: Invoice Date, Length: 349880, dtype: datetime64[ns]"
      ]
     },
     "execution_count": 67,
     "metadata": {},
     "output_type": "execute_result"
    }
   ],
   "source": [
    "data['Invoice Date']"
   ]
  },
  {
   "cell_type": "code",
   "execution_count": 68,
   "metadata": {},
   "outputs": [
    {
     "name": "stderr",
     "output_type": "stream",
     "text": [
      "C:\\Users\\VENKATESH\\AppData\\Local\\Programs\\Python\\Python37\\lib\\site-packages\\ipykernel_launcher.py:1: SettingWithCopyWarning: \n",
      "A value is trying to be set on a copy of a slice from a DataFrame.\n",
      "Try using .loc[row_indexer,col_indexer] = value instead\n",
      "\n",
      "See the caveats in the documentation: https://pandas.pydata.org/pandas-docs/stable/user_guide/indexing.html#returning-a-view-versus-a-copy\n",
      "  \"\"\"Entry point for launching an IPython kernel.\n"
     ]
    }
   ],
   "source": [
    "data['Incoming Date']=pd.to_datetime(data['Incoming Date'])"
   ]
  },
  {
   "cell_type": "code",
   "execution_count": null,
   "metadata": {},
   "outputs": [],
   "source": []
  },
  {
   "cell_type": "code",
   "execution_count": 70,
   "metadata": {},
   "outputs": [
    {
     "name": "stderr",
     "output_type": "stream",
     "text": [
      "C:\\Users\\VENKATESH\\AppData\\Local\\Programs\\Python\\Python37\\lib\\site-packages\\ipykernel_launcher.py:1: SettingWithCopyWarning: \n",
      "A value is trying to be set on a copy of a slice from a DataFrame.\n",
      "Try using .loc[row_indexer,col_indexer] = value instead\n",
      "\n",
      "See the caveats in the documentation: https://pandas.pydata.org/pandas-docs/stable/user_guide/indexing.html#returning-a-view-versus-a-copy\n",
      "  \"\"\"Entry point for launching an IPython kernel.\n"
     ]
    }
   ],
   "source": [
    "data['PO Date']=pd.to_datetime(data['PO Date'])"
   ]
  },
  {
   "cell_type": "code",
   "execution_count": 73,
   "metadata": {},
   "outputs": [
    {
     "data": {
      "text/plain": [
       "0        2019-12-27\n",
       "1        2019-12-27\n",
       "2        2019-12-27\n",
       "3        2019-12-27\n",
       "4        2019-12-19\n",
       "            ...    \n",
       "409908   2020-11-26\n",
       "409909   2020-11-14\n",
       "409910   2020-12-01\n",
       "409911   2020-10-31\n",
       "409912   2020-11-14\n",
       "Name: PO Date, Length: 349880, dtype: datetime64[ns]"
      ]
     },
     "execution_count": 73,
     "metadata": {},
     "output_type": "execute_result"
    }
   ],
   "source": [
    "data['PO Date']"
   ]
  },
  {
   "cell_type": "code",
   "execution_count": 74,
   "metadata": {},
   "outputs": [
    {
     "name": "stderr",
     "output_type": "stream",
     "text": [
      "C:\\Users\\VENKATESH\\AppData\\Local\\Programs\\Python\\Python37\\lib\\site-packages\\ipykernel_launcher.py:1: SettingWithCopyWarning: \n",
      "A value is trying to be set on a copy of a slice from a DataFrame.\n",
      "Try using .loc[row_indexer,col_indexer] = value instead\n",
      "\n",
      "See the caveats in the documentation: https://pandas.pydata.org/pandas-docs/stable/user_guide/indexing.html#returning-a-view-versus-a-copy\n",
      "  \"\"\"Entry point for launching an IPython kernel.\n"
     ]
    }
   ],
   "source": [
    "data['RTD']=pd.to_datetime(data['RTD'])"
   ]
  },
  {
   "cell_type": "code",
   "execution_count": 75,
   "metadata": {},
   "outputs": [
    {
     "ename": "NameError",
     "evalue": "name 'RTD_Date' is not defined",
     "output_type": "error",
     "traceback": [
      "\u001b[1;31m---------------------------------------------------------------------------\u001b[0m",
      "\u001b[1;31mNameError\u001b[0m                                 Traceback (most recent call last)",
      "\u001b[1;32m<ipython-input-75-4a8bca9f14f1>\u001b[0m in \u001b[0;36m<module>\u001b[1;34m\u001b[0m\n\u001b[1;32m----> 1\u001b[1;33m \u001b[0mRTD_Date\u001b[0m\u001b[1;33m\u001b[0m\u001b[1;33m\u001b[0m\u001b[0m\n\u001b[0m",
      "\u001b[1;31mNameError\u001b[0m: name 'RTD_Date' is not defined"
     ]
    }
   ],
   "source": [
    "RTD_Date"
   ]
  },
  {
   "cell_type": "code",
   "execution_count": 76,
   "metadata": {},
   "outputs": [
    {
     "name": "stderr",
     "output_type": "stream",
     "text": [
      "C:\\Users\\VENKATESH\\AppData\\Local\\Programs\\Python\\Python37\\lib\\site-packages\\ipykernel_launcher.py:1: SettingWithCopyWarning: \n",
      "A value is trying to be set on a copy of a slice from a DataFrame.\n",
      "Try using .loc[row_indexer,col_indexer] = value instead\n",
      "\n",
      "See the caveats in the documentation: https://pandas.pydata.org/pandas-docs/stable/user_guide/indexing.html#returning-a-view-versus-a-copy\n",
      "  \"\"\"Entry point for launching an IPython kernel.\n"
     ]
    }
   ],
   "source": [
    "data['RTA']=pd.to_datetime(data['RTA'])"
   ]
  },
  {
   "cell_type": "code",
   "execution_count": 82,
   "metadata": {},
   "outputs": [
    {
     "data": {
      "text/plain": [
       "0        2019-12-27\n",
       "1        2019-12-27\n",
       "2        2019-12-27\n",
       "3        2019-12-27\n",
       "4        2019-12-19\n",
       "            ...    \n",
       "409908   2020-12-11\n",
       "409909   2020-12-11\n",
       "409910   2021-01-04\n",
       "409911   2020-12-11\n",
       "409912   2020-12-11\n",
       "Name: RTA, Length: 349880, dtype: datetime64[ns]"
      ]
     },
     "execution_count": 82,
     "metadata": {},
     "output_type": "execute_result"
    }
   ],
   "source": [
    "RTA_Date"
   ]
  },
  {
   "cell_type": "code",
   "execution_count": 91,
   "metadata": {},
   "outputs": [],
   "source": [
    "Invoice_Qty=pd.to_numeric(data['Invoice Qty'], errors='ignore')"
   ]
  },
  {
   "cell_type": "code",
   "execution_count": 86,
   "metadata": {},
   "outputs": [
    {
     "data": {
      "text/plain": [
       "17"
      ]
     },
     "execution_count": 86,
     "metadata": {},
     "output_type": "execute_result"
    }
   ],
   "source": [
    "int(data['Invoice Qty'][29])"
   ]
  },
  {
   "cell_type": "code",
   "execution_count": null,
   "metadata": {},
   "outputs": [],
   "source": []
  },
  {
   "cell_type": "code",
   "execution_count": 94,
   "metadata": {},
   "outputs": [
    {
     "data": {
      "text/plain": [
       "pandas.core.series.Series"
      ]
     },
     "execution_count": 94,
     "metadata": {},
     "output_type": "execute_result"
    }
   ],
   "source": [
    "type(Invoice_Qty)"
   ]
  },
  {
   "cell_type": "code",
   "execution_count": 95,
   "metadata": {},
   "outputs": [],
   "source": [
    "from locale import atof"
   ]
  },
  {
   "cell_type": "code",
   "execution_count": 115,
   "metadata": {},
   "outputs": [
    {
     "data": {
      "text/html": [
       "<div>\n",
       "<style scoped>\n",
       "    .dataframe tbody tr th:only-of-type {\n",
       "        vertical-align: middle;\n",
       "    }\n",
       "\n",
       "    .dataframe tbody tr th {\n",
       "        vertical-align: top;\n",
       "    }\n",
       "\n",
       "    .dataframe thead th {\n",
       "        text-align: right;\n",
       "    }\n",
       "</style>\n",
       "<table border=\"1\" class=\"dataframe\">\n",
       "  <thead>\n",
       "    <tr style=\"text-align: right;\">\n",
       "      <th></th>\n",
       "    </tr>\n",
       "  </thead>\n",
       "  <tbody>\n",
       "  </tbody>\n",
       "</table>\n",
       "</div>"
      ],
      "text/plain": [
       "Empty DataFrame\n",
       "Columns: []\n",
       "Index: []"
      ]
     },
     "execution_count": 115,
     "metadata": {},
     "output_type": "execute_result"
    }
   ],
   "source": [
    "new_data.applymap(atof)"
   ]
  },
  {
   "cell_type": "code",
   "execution_count": 111,
   "metadata": {},
   "outputs": [],
   "source": [
    "new_data=pd.DataFrame()"
   ]
  },
  {
   "cell_type": "code",
   "execution_count": null,
   "metadata": {},
   "outputs": [],
   "source": []
  },
  {
   "cell_type": "code",
   "execution_count": 104,
   "metadata": {},
   "outputs": [],
   "source": [
    "new_data=[]"
   ]
  },
  {
   "cell_type": "code",
   "execution_count": 107,
   "metadata": {},
   "outputs": [
    {
     "data": {
      "text/html": [
       "<div>\n",
       "<style scoped>\n",
       "    .dataframe tbody tr th:only-of-type {\n",
       "        vertical-align: middle;\n",
       "    }\n",
       "\n",
       "    .dataframe tbody tr th {\n",
       "        vertical-align: top;\n",
       "    }\n",
       "\n",
       "    .dataframe thead th {\n",
       "        text-align: right;\n",
       "    }\n",
       "</style>\n",
       "<table border=\"1\" class=\"dataframe\">\n",
       "  <thead>\n",
       "    <tr style=\"text-align: right;\">\n",
       "      <th></th>\n",
       "    </tr>\n",
       "  </thead>\n",
       "  <tbody>\n",
       "  </tbody>\n",
       "</table>\n",
       "</div>"
      ],
      "text/plain": [
       "Empty DataFrame\n",
       "Columns: []\n",
       "Index: []"
      ]
     },
     "execution_count": 107,
     "metadata": {},
     "output_type": "execute_result"
    }
   ],
   "source": [
    "new_data"
   ]
  },
  {
   "cell_type": "code",
   "execution_count": 116,
   "metadata": {},
   "outputs": [],
   "source": [
    "new_data['Invoice_Qty']=data['Invoice Qty']"
   ]
  },
  {
   "cell_type": "code",
   "execution_count": 109,
   "metadata": {},
   "outputs": [
    {
     "data": {
      "text/html": [
       "<div>\n",
       "<style scoped>\n",
       "    .dataframe tbody tr th:only-of-type {\n",
       "        vertical-align: middle;\n",
       "    }\n",
       "\n",
       "    .dataframe tbody tr th {\n",
       "        vertical-align: top;\n",
       "    }\n",
       "\n",
       "    .dataframe thead th {\n",
       "        text-align: right;\n",
       "    }\n",
       "</style>\n",
       "<table border=\"1\" class=\"dataframe\">\n",
       "  <thead>\n",
       "    <tr style=\"text-align: right;\">\n",
       "      <th></th>\n",
       "      <th>Invoice_Qty</th>\n",
       "    </tr>\n",
       "  </thead>\n",
       "  <tbody>\n",
       "    <tr>\n",
       "      <th>0</th>\n",
       "      <td>1</td>\n",
       "    </tr>\n",
       "    <tr>\n",
       "      <th>1</th>\n",
       "      <td>1</td>\n",
       "    </tr>\n",
       "    <tr>\n",
       "      <th>2</th>\n",
       "      <td>1</td>\n",
       "    </tr>\n",
       "    <tr>\n",
       "      <th>3</th>\n",
       "      <td>1</td>\n",
       "    </tr>\n",
       "    <tr>\n",
       "      <th>4</th>\n",
       "      <td>1</td>\n",
       "    </tr>\n",
       "    <tr>\n",
       "      <th>...</th>\n",
       "      <td>...</td>\n",
       "    </tr>\n",
       "    <tr>\n",
       "      <th>409908</th>\n",
       "      <td>15</td>\n",
       "    </tr>\n",
       "    <tr>\n",
       "      <th>409909</th>\n",
       "      <td>2</td>\n",
       "    </tr>\n",
       "    <tr>\n",
       "      <th>409910</th>\n",
       "      <td>25</td>\n",
       "    </tr>\n",
       "    <tr>\n",
       "      <th>409911</th>\n",
       "      <td>8</td>\n",
       "    </tr>\n",
       "    <tr>\n",
       "      <th>409912</th>\n",
       "      <td>178</td>\n",
       "    </tr>\n",
       "  </tbody>\n",
       "</table>\n",
       "<p>349880 rows × 1 columns</p>\n",
       "</div>"
      ],
      "text/plain": [
       "       Invoice_Qty\n",
       "0                1\n",
       "1                1\n",
       "2                1\n",
       "3                1\n",
       "4                1\n",
       "...            ...\n",
       "409908          15\n",
       "409909           2\n",
       "409910          25\n",
       "409911           8\n",
       "409912         178\n",
       "\n",
       "[349880 rows x 1 columns]"
      ]
     },
     "execution_count": 109,
     "metadata": {},
     "output_type": "execute_result"
    }
   ],
   "source": [
    "new_data"
   ]
  },
  {
   "cell_type": "code",
   "execution_count": 113,
   "metadata": {},
   "outputs": [
    {
     "data": {
      "text/html": [
       "<div>\n",
       "<style scoped>\n",
       "    .dataframe tbody tr th:only-of-type {\n",
       "        vertical-align: middle;\n",
       "    }\n",
       "\n",
       "    .dataframe tbody tr th {\n",
       "        vertical-align: top;\n",
       "    }\n",
       "\n",
       "    .dataframe thead th {\n",
       "        text-align: right;\n",
       "    }\n",
       "</style>\n",
       "<table border=\"1\" class=\"dataframe\">\n",
       "  <thead>\n",
       "    <tr style=\"text-align: right;\">\n",
       "      <th></th>\n",
       "    </tr>\n",
       "  </thead>\n",
       "  <tbody>\n",
       "  </tbody>\n",
       "</table>\n",
       "</div>"
      ],
      "text/plain": [
       "Empty DataFrame\n",
       "Columns: []\n",
       "Index: []"
      ]
     },
     "execution_count": 113,
     "metadata": {},
     "output_type": "execute_result"
    }
   ],
   "source": [
    "new_data.applymap(atof)"
   ]
  },
  {
   "cell_type": "code",
   "execution_count": 114,
   "metadata": {},
   "outputs": [
    {
     "data": {
      "text/html": [
       "<div>\n",
       "<style scoped>\n",
       "    .dataframe tbody tr th:only-of-type {\n",
       "        vertical-align: middle;\n",
       "    }\n",
       "\n",
       "    .dataframe tbody tr th {\n",
       "        vertical-align: top;\n",
       "    }\n",
       "\n",
       "    .dataframe thead th {\n",
       "        text-align: right;\n",
       "    }\n",
       "</style>\n",
       "<table border=\"1\" class=\"dataframe\">\n",
       "  <thead>\n",
       "    <tr style=\"text-align: right;\">\n",
       "      <th></th>\n",
       "    </tr>\n",
       "  </thead>\n",
       "  <tbody>\n",
       "  </tbody>\n",
       "</table>\n",
       "</div>"
      ],
      "text/plain": [
       "Empty DataFrame\n",
       "Columns: []\n",
       "Index: []"
      ]
     },
     "execution_count": 114,
     "metadata": {},
     "output_type": "execute_result"
    }
   ],
   "source": [
    "new_data"
   ]
  },
  {
   "cell_type": "code",
   "execution_count": 117,
   "metadata": {},
   "outputs": [
    {
     "data": {
      "text/plain": [
       "str"
      ]
     },
     "execution_count": 117,
     "metadata": {},
     "output_type": "execute_result"
    }
   ],
   "source": [
    "type(new_data['Invoice_Qty'][0])"
   ]
  },
  {
   "cell_type": "code",
   "execution_count": 130,
   "metadata": {},
   "outputs": [],
   "source": [
    "import locale "
   ]
  },
  {
   "cell_type": "code",
   "execution_count": 131,
   "metadata": {},
   "outputs": [],
   "source": [
    "from locale import atof"
   ]
  },
  {
   "cell_type": "code",
   "execution_count": 133,
   "metadata": {},
   "outputs": [
    {
     "data": {
      "text/plain": [
       "'English_India.1252'"
      ]
     },
     "execution_count": 133,
     "metadata": {},
     "output_type": "execute_result"
    }
   ],
   "source": [
    "locale.setlocale(locale.LC_NUMERIC, '')"
   ]
  },
  {
   "cell_type": "code",
   "execution_count": 134,
   "metadata": {},
   "outputs": [
    {
     "data": {
      "text/html": [
       "<div>\n",
       "<style scoped>\n",
       "    .dataframe tbody tr th:only-of-type {\n",
       "        vertical-align: middle;\n",
       "    }\n",
       "\n",
       "    .dataframe tbody tr th {\n",
       "        vertical-align: top;\n",
       "    }\n",
       "\n",
       "    .dataframe thead th {\n",
       "        text-align: right;\n",
       "    }\n",
       "</style>\n",
       "<table border=\"1\" class=\"dataframe\">\n",
       "  <thead>\n",
       "    <tr style=\"text-align: right;\">\n",
       "      <th></th>\n",
       "      <th>Invoice_Qty</th>\n",
       "    </tr>\n",
       "  </thead>\n",
       "  <tbody>\n",
       "    <tr>\n",
       "      <th>0</th>\n",
       "      <td>1.0</td>\n",
       "    </tr>\n",
       "    <tr>\n",
       "      <th>1</th>\n",
       "      <td>1.0</td>\n",
       "    </tr>\n",
       "    <tr>\n",
       "      <th>2</th>\n",
       "      <td>1.0</td>\n",
       "    </tr>\n",
       "    <tr>\n",
       "      <th>3</th>\n",
       "      <td>1.0</td>\n",
       "    </tr>\n",
       "    <tr>\n",
       "      <th>4</th>\n",
       "      <td>1.0</td>\n",
       "    </tr>\n",
       "    <tr>\n",
       "      <th>...</th>\n",
       "      <td>...</td>\n",
       "    </tr>\n",
       "    <tr>\n",
       "      <th>409908</th>\n",
       "      <td>15.0</td>\n",
       "    </tr>\n",
       "    <tr>\n",
       "      <th>409909</th>\n",
       "      <td>2.0</td>\n",
       "    </tr>\n",
       "    <tr>\n",
       "      <th>409910</th>\n",
       "      <td>25.0</td>\n",
       "    </tr>\n",
       "    <tr>\n",
       "      <th>409911</th>\n",
       "      <td>8.0</td>\n",
       "    </tr>\n",
       "    <tr>\n",
       "      <th>409912</th>\n",
       "      <td>178.0</td>\n",
       "    </tr>\n",
       "  </tbody>\n",
       "</table>\n",
       "<p>349880 rows × 1 columns</p>\n",
       "</div>"
      ],
      "text/plain": [
       "        Invoice_Qty\n",
       "0               1.0\n",
       "1               1.0\n",
       "2               1.0\n",
       "3               1.0\n",
       "4               1.0\n",
       "...             ...\n",
       "409908         15.0\n",
       "409909          2.0\n",
       "409910         25.0\n",
       "409911          8.0\n",
       "409912        178.0\n",
       "\n",
       "[349880 rows x 1 columns]"
      ]
     },
     "execution_count": 134,
     "metadata": {},
     "output_type": "execute_result"
    }
   ],
   "source": [
    "new_data.applymap(atof)"
   ]
  },
  {
   "cell_type": "code",
   "execution_count": 136,
   "metadata": {},
   "outputs": [
    {
     "data": {
      "text/plain": [
       "pandas.core.series.Series"
      ]
     },
     "execution_count": 136,
     "metadata": {},
     "output_type": "execute_result"
    }
   ],
   "source": [
    "type(new_data['Invoice_Qty'])"
   ]
  },
  {
   "cell_type": "code",
   "execution_count": 137,
   "metadata": {},
   "outputs": [
    {
     "data": {
      "text/plain": [
       "'10,000.00'"
      ]
     },
     "execution_count": 137,
     "metadata": {},
     "output_type": "execute_result"
    }
   ],
   "source": [
    "new_data['Invoice_Qty'][100]"
   ]
  },
  {
   "cell_type": "code",
   "execution_count": null,
   "metadata": {},
   "outputs": [],
   "source": []
  },
  {
   "cell_type": "code",
   "execution_count": null,
   "metadata": {},
   "outputs": [],
   "source": []
  },
  {
   "cell_type": "code",
   "execution_count": 145,
   "metadata": {},
   "outputs": [
    {
     "data": {
      "text/plain": [
       "numpy.float64"
      ]
     },
     "execution_count": 145,
     "metadata": {},
     "output_type": "execute_result"
    }
   ],
   "source": [
    "type(new_data['Invoice_Qty'][0])"
   ]
  },
  {
   "cell_type": "code",
   "execution_count": 146,
   "metadata": {},
   "outputs": [
    {
     "data": {
      "text/plain": [
       "1700000.0"
      ]
     },
     "execution_count": 146,
     "metadata": {},
     "output_type": "execute_result"
    }
   ],
   "source": [
    "max(new_data['Invoice_Qty'])"
   ]
  },
  {
   "cell_type": "code",
   "execution_count": 77,
   "metadata": {},
   "outputs": [
    {
     "name": "stderr",
     "output_type": "stream",
     "text": [
      "C:\\Users\\VENKATESH\\AppData\\Local\\Programs\\Python\\Python37\\lib\\site-packages\\ipykernel_launcher.py:1: SettingWithCopyWarning: \n",
      "A value is trying to be set on a copy of a slice from a DataFrame.\n",
      "Try using .loc[row_indexer,col_indexer] = value instead\n",
      "\n",
      "See the caveats in the documentation: https://pandas.pydata.org/pandas-docs/stable/user_guide/indexing.html#returning-a-view-versus-a-copy\n",
      "  \"\"\"Entry point for launching an IPython kernel.\n"
     ]
    }
   ],
   "source": [
    "data['Invoice Qty']=data['Invoice Qty'].str.replace(',', '').astype(float)"
   ]
  },
  {
   "cell_type": "code",
   "execution_count": 78,
   "metadata": {},
   "outputs": [
    {
     "name": "stderr",
     "output_type": "stream",
     "text": [
      "C:\\Users\\VENKATESH\\AppData\\Local\\Programs\\Python\\Python37\\lib\\site-packages\\ipykernel_launcher.py:1: SettingWithCopyWarning: \n",
      "A value is trying to be set on a copy of a slice from a DataFrame.\n",
      "Try using .loc[row_indexer,col_indexer] = value instead\n",
      "\n",
      "See the caveats in the documentation: https://pandas.pydata.org/pandas-docs/stable/user_guide/indexing.html#returning-a-view-versus-a-copy\n",
      "  \"\"\"Entry point for launching an IPython kernel.\n"
     ]
    }
   ],
   "source": [
    "data['Incoming Qty']=data['Incoming Qty'].str.replace(',', '').astype(float)"
   ]
  },
  {
   "cell_type": "code",
   "execution_count": 79,
   "metadata": {},
   "outputs": [
    {
     "name": "stderr",
     "output_type": "stream",
     "text": [
      "C:\\Users\\VENKATESH\\AppData\\Local\\Programs\\Python\\Python37\\lib\\site-packages\\ipykernel_launcher.py:1: SettingWithCopyWarning: \n",
      "A value is trying to be set on a copy of a slice from a DataFrame.\n",
      "Try using .loc[row_indexer,col_indexer] = value instead\n",
      "\n",
      "See the caveats in the documentation: https://pandas.pydata.org/pandas-docs/stable/user_guide/indexing.html#returning-a-view-versus-a-copy\n",
      "  \"\"\"Entry point for launching an IPython kernel.\n"
     ]
    }
   ],
   "source": [
    "data['P/O Qty']=data['P/O Qty'].str.replace(',', '').astype(float)"
   ]
  },
  {
   "cell_type": "code",
   "execution_count": 80,
   "metadata": {},
   "outputs": [
    {
     "name": "stdout",
     "output_type": "stream",
     "text": [
      "       Application Date  Department       Consumption Dept.  \\\n",
      "0            2020-01-03          IT     DEVELOPMENT ( ADM )   \n",
      "1            2020-01-03          IT                 LABORAT   \n",
      "2            2020-01-03          IT              PURCHASING   \n",
      "3            2020-01-03          IT               FACTORY.1   \n",
      "4            2020-01-03          IT  FACTORY. 2 ( MEKANIK )   \n",
      "...                 ...         ...                     ...   \n",
      "409908       2020-12-31  PURCHASING              PURCHASING   \n",
      "409909       2020-12-11  PURCHASING              PURCHASING   \n",
      "409910       2020-12-23  PURCHASING              PURCHASING   \n",
      "409911       2020-12-23  PURCHASING              PURCHASING   \n",
      "409912       2020-12-11  PURCHASING              PURCHASING   \n",
      "\n",
      "       Accounting .Conf.Date Supplier Agency Location Invoice Date Supplier  \\\n",
      "0                   20200212          Z01779    Local   2020-01-03   Z01779   \n",
      "1                   20200212          Z01779    Local   2020-01-03   Z01779   \n",
      "2                   20200212          Z01779    Local   2020-01-03   Z01779   \n",
      "3                   20200212          Z01779    Local   2020-01-03   Z01779   \n",
      "4                   20200212          Z01779    Local   2020-01-03   Z01779   \n",
      "...                      ...             ...      ...          ...      ...   \n",
      "409908              20210107          E00003   Import   2020-12-04   B00052   \n",
      "409909              20201223          E00003   Import   2020-11-28   B00362   \n",
      "409910              20210106          E00003   Import   2020-12-18   B00362   \n",
      "409911              20210106          E00003   Import   2020-12-18   Z01141   \n",
      "409912              20201223          E00003   Import   2020-12-05   B00362   \n",
      "\n",
      "                                            Material Name  Unit  Invoice Qty  \\\n",
      "0                                     MOUSE LOGITECH B100  UNIT          1.0   \n",
      "1                               PC NONE BRAND CORE I3 SET  UNIT          1.0   \n",
      "2                                     MOUSE LOGITECH B100  UNIT          1.0   \n",
      "3                             MINI PC ASUS VM62-4030 PLUS   SET          1.0   \n",
      "4                                     MAINBOARD H81M-SP2H   PCS          1.0   \n",
      "...                                                   ...   ...          ...   \n",
      "409908              DJT 2836 JC MESH II PRIMEBLUE - EPM 5     M         15.0   \n",
      "409909                          HF SD 10641 CDP-P - EPM 5  YARD          2.0   \n",
      "409910                                        HF ZJ 584 N  YARD         25.0   \n",
      "409911  1180 AU E TPU X 25 130 BLK STM BASF (PUREBOOST...   PRS          8.0   \n",
      "409912                                HF SD 10641 P EPM 5  YARD        178.0   \n",
      "\n",
      "       Incoming Date PO YN          Warehouse  Incoming Qty  \\\n",
      "0         2020-01-03     Y   PWI Consumer W/H           1.0   \n",
      "1         2020-01-03     Y   PWI Consumer W/H           1.0   \n",
      "2         2020-01-03     Y   PWI Consumer W/H           1.0   \n",
      "3         2020-01-03     Y   PWI Consumer W/H           1.0   \n",
      "4         2020-01-03     Y   PWI Consumer W/H           1.0   \n",
      "...              ...   ...                ...           ...   \n",
      "409908    2020-12-21     Y  PWI Mat W/H(Main)          15.0   \n",
      "409909    2020-12-07     Y  PWI Mat W/H(Main)           2.0   \n",
      "409910    2020-12-28     Y  PWI Mat W/H(Main)          25.0   \n",
      "409911    2020-12-28     Y  PWI Mat W/H(Main)           8.0   \n",
      "409912    2020-12-14     Y  PWI Mat W/H(Main)         178.0   \n",
      "\n",
      "                         P/O No    PO Date        RTD        RTA  P/O Qty  \\\n",
      "0       PWI1-ESP-PO-191227-0008 2019-12-27 2019-12-27 2019-12-27      1.0   \n",
      "1       PWI1-ESP-PO-191227-0010 2019-12-27 2019-12-27 2019-12-27      1.0   \n",
      "2       PWI1-ESP-PO-191227-0006 2019-12-27 2019-12-27 2019-12-27      1.0   \n",
      "3       PWI1-ESP-PO-191227-0005 2019-12-27 2019-12-27 2019-12-27      1.0   \n",
      "4       PWI1-ESP-PO-191219-0004 2019-12-19 2019-12-19 2019-12-19      1.0   \n",
      "...                         ...        ...        ...        ...      ...   \n",
      "409908  PWI1-PFO-UO-201126-0030 2020-11-26 2020-11-27 2020-12-11     15.0   \n",
      "409909  PWI1-PRD-UO-201114-0042 2020-11-14 2020-11-27 2020-12-11      2.0   \n",
      "409910  PWI1-PRD-UO-201201-0012 2020-12-01 2020-12-21 2021-01-04     25.0   \n",
      "409911  PWI1-PRD-UO-201031-0034 2020-10-31 2020-11-27 2020-12-11      8.0   \n",
      "409912  PWI1-PRD-UO-201114-0042 2020-11-14 2020-11-27 2020-12-11    178.0   \n",
      "\n",
      "        Application Date Vs Inv Date  Incoming Date Vs PO Date  \\\n",
      "0                                  0                       7.0   \n",
      "1                                  0                       7.0   \n",
      "2                                  0                       7.0   \n",
      "3                                  0                       7.0   \n",
      "4                                  0                      15.0   \n",
      "...                              ...                       ...   \n",
      "409908                            27                      25.0   \n",
      "409909                            13                      23.0   \n",
      "409910                             5                      27.0   \n",
      "409911                             5                      58.0   \n",
      "409912                             6                      30.0   \n",
      "\n",
      "        Incoming Date Vs RTD  \n",
      "0                        7.0  \n",
      "1                        7.0  \n",
      "2                        7.0  \n",
      "3                        7.0  \n",
      "4                       15.0  \n",
      "...                      ...  \n",
      "409908                  24.0  \n",
      "409909                  10.0  \n",
      "409910                   7.0  \n",
      "409911                  31.0  \n",
      "409912                  17.0  \n",
      "\n",
      "[349880 rows x 23 columns]\n"
     ]
    }
   ],
   "source": [
    "print(data)"
   ]
  },
  {
   "cell_type": "code",
   "execution_count": 81,
   "metadata": {},
   "outputs": [
    {
     "name": "stdout",
     "output_type": "stream",
     "text": [
      "Setup Complete\n"
     ]
    }
   ],
   "source": [
    "import pandas as pd\n",
    "pd.plotting.register_matplotlib_converters()\n",
    "import matplotlib.pyplot as plt\n",
    "%matplotlib inline\n",
    "import seaborn as sns\n",
    "print(\"Setup Complete\")"
   ]
  },
  {
   "cell_type": "code",
   "execution_count": 82,
   "metadata": {},
   "outputs": [],
   "source": [
    "df=pd.DataFrame()"
   ]
  },
  {
   "cell_type": "code",
   "execution_count": 83,
   "metadata": {},
   "outputs": [
    {
     "data": {
      "text/plain": [
       "pandas.core.frame.DataFrame"
      ]
     },
     "execution_count": 83,
     "metadata": {},
     "output_type": "execute_result"
    }
   ],
   "source": [
    "type(df)"
   ]
  },
  {
   "cell_type": "code",
   "execution_count": 140,
   "metadata": {},
   "outputs": [],
   "source": [
    "df['Application_date']=data['Application Date']\n",
    "df['Department']=data['Department']\n",
    "df['Consumption_Dept']=data['Consumption Dept.']\n",
    "df['Supplier_Agency']=data['Supplier Agency']\n",
    "df['Location']=data['Location']\n",
    "df['Invoice_Date']=data['Invoice Date']\n",
    "df['Supplier']=data['Supplier']\n",
    "df['Material_Name']=data['Material Name']\n",
    "df['Invoice_Qty']=data['Invoice Qty']\n",
    "df['Incoming_Date']=data['Incoming Date']\n",
    "df['Warehouse']=data['Warehouse']\n",
    "df['Incoming_Qty']=data['Incoming Qty']\n",
    "df['P/O_No']=data['P/O No']\n",
    "df['PO_Date']=data['PO Date']\n",
    "df['RTD']=data['RTD']\n",
    "df['RTA']=data['RTA']\n",
    "df['P/O_Qty']=data['P/O Qty']\n",
    "df['Application_Date_Vs_Inv_Date']=data['Application Date Vs Inv Date']\n",
    "df['Incoming Date_Vs_PO_Date']=data['Incoming Date Vs PO Date']\n",
    "df['Incoming Date_Vs_RTD']=data['Incoming Date Vs RTD']\n",
    "df['Department']=data['Department']"
   ]
  },
  {
   "cell_type": "code",
   "execution_count": 134,
   "metadata": {},
   "outputs": [
    {
     "data": {
      "text/html": [
       "<div>\n",
       "<style scoped>\n",
       "    .dataframe tbody tr th:only-of-type {\n",
       "        vertical-align: middle;\n",
       "    }\n",
       "\n",
       "    .dataframe tbody tr th {\n",
       "        vertical-align: top;\n",
       "    }\n",
       "\n",
       "    .dataframe thead th {\n",
       "        text-align: right;\n",
       "    }\n",
       "</style>\n",
       "<table border=\"1\" class=\"dataframe\">\n",
       "  <thead>\n",
       "    <tr style=\"text-align: right;\">\n",
       "      <th></th>\n",
       "      <th>Application_date</th>\n",
       "      <th>Department</th>\n",
       "      <th>Consumption_Dept</th>\n",
       "      <th>Supplier_Agency</th>\n",
       "      <th>Location</th>\n",
       "      <th>Invoice_Date</th>\n",
       "      <th>Supplier</th>\n",
       "      <th>Material_Name</th>\n",
       "      <th>Invoice_Qty</th>\n",
       "      <th>Incoming_Date</th>\n",
       "      <th>Warehouse</th>\n",
       "      <th>Incoming_Qty</th>\n",
       "      <th>P/O_No</th>\n",
       "      <th>PO_Date</th>\n",
       "      <th>RTD</th>\n",
       "      <th>RTA</th>\n",
       "      <th>P/O_Qty</th>\n",
       "      <th>Application_Date_Vs_Inv_Date</th>\n",
       "      <th>Incoming Date_Vs_PO_Date</th>\n",
       "      <th>Incoming Date_Vs_RTD</th>\n",
       "      <th>Application_month</th>\n",
       "      <th>Application_week</th>\n",
       "    </tr>\n",
       "  </thead>\n",
       "  <tbody>\n",
       "    <tr>\n",
       "      <th>0</th>\n",
       "      <td>2020-01-03</td>\n",
       "      <td>IT</td>\n",
       "      <td>DEVELOPMENT ( ADM )</td>\n",
       "      <td>Z01779</td>\n",
       "      <td>Local</td>\n",
       "      <td>2020-01-03</td>\n",
       "      <td>Z01779</td>\n",
       "      <td>MOUSE LOGITECH B100</td>\n",
       "      <td>1.0</td>\n",
       "      <td>2020-01-03</td>\n",
       "      <td>PWI Consumer W/H</td>\n",
       "      <td>1.0</td>\n",
       "      <td>PWI1-ESP-PO-191227-0008</td>\n",
       "      <td>2019-12-27</td>\n",
       "      <td>2019-12-27</td>\n",
       "      <td>2019-12-27</td>\n",
       "      <td>1.0</td>\n",
       "      <td>0</td>\n",
       "      <td>7.0</td>\n",
       "      <td>7.0</td>\n",
       "      <td>1</td>\n",
       "      <td>1</td>\n",
       "    </tr>\n",
       "    <tr>\n",
       "      <th>1</th>\n",
       "      <td>2020-01-03</td>\n",
       "      <td>IT</td>\n",
       "      <td>LABORAT</td>\n",
       "      <td>Z01779</td>\n",
       "      <td>Local</td>\n",
       "      <td>2020-01-03</td>\n",
       "      <td>Z01779</td>\n",
       "      <td>PC NONE BRAND CORE I3 SET</td>\n",
       "      <td>1.0</td>\n",
       "      <td>2020-01-03</td>\n",
       "      <td>PWI Consumer W/H</td>\n",
       "      <td>1.0</td>\n",
       "      <td>PWI1-ESP-PO-191227-0010</td>\n",
       "      <td>2019-12-27</td>\n",
       "      <td>2019-12-27</td>\n",
       "      <td>2019-12-27</td>\n",
       "      <td>1.0</td>\n",
       "      <td>0</td>\n",
       "      <td>7.0</td>\n",
       "      <td>7.0</td>\n",
       "      <td>1</td>\n",
       "      <td>1</td>\n",
       "    </tr>\n",
       "    <tr>\n",
       "      <th>2</th>\n",
       "      <td>2020-01-03</td>\n",
       "      <td>IT</td>\n",
       "      <td>PURCHASING</td>\n",
       "      <td>Z01779</td>\n",
       "      <td>Local</td>\n",
       "      <td>2020-01-03</td>\n",
       "      <td>Z01779</td>\n",
       "      <td>MOUSE LOGITECH B100</td>\n",
       "      <td>1.0</td>\n",
       "      <td>2020-01-03</td>\n",
       "      <td>PWI Consumer W/H</td>\n",
       "      <td>1.0</td>\n",
       "      <td>PWI1-ESP-PO-191227-0006</td>\n",
       "      <td>2019-12-27</td>\n",
       "      <td>2019-12-27</td>\n",
       "      <td>2019-12-27</td>\n",
       "      <td>1.0</td>\n",
       "      <td>0</td>\n",
       "      <td>7.0</td>\n",
       "      <td>7.0</td>\n",
       "      <td>1</td>\n",
       "      <td>1</td>\n",
       "    </tr>\n",
       "    <tr>\n",
       "      <th>3</th>\n",
       "      <td>2020-01-03</td>\n",
       "      <td>IT</td>\n",
       "      <td>FACTORY.1</td>\n",
       "      <td>Z01779</td>\n",
       "      <td>Local</td>\n",
       "      <td>2020-01-03</td>\n",
       "      <td>Z01779</td>\n",
       "      <td>MINI PC ASUS VM62-4030 PLUS</td>\n",
       "      <td>1.0</td>\n",
       "      <td>2020-01-03</td>\n",
       "      <td>PWI Consumer W/H</td>\n",
       "      <td>1.0</td>\n",
       "      <td>PWI1-ESP-PO-191227-0005</td>\n",
       "      <td>2019-12-27</td>\n",
       "      <td>2019-12-27</td>\n",
       "      <td>2019-12-27</td>\n",
       "      <td>1.0</td>\n",
       "      <td>0</td>\n",
       "      <td>7.0</td>\n",
       "      <td>7.0</td>\n",
       "      <td>1</td>\n",
       "      <td>1</td>\n",
       "    </tr>\n",
       "    <tr>\n",
       "      <th>4</th>\n",
       "      <td>2020-01-03</td>\n",
       "      <td>IT</td>\n",
       "      <td>FACTORY. 2 ( MEKANIK )</td>\n",
       "      <td>Z01779</td>\n",
       "      <td>Local</td>\n",
       "      <td>2020-01-03</td>\n",
       "      <td>Z01779</td>\n",
       "      <td>MAINBOARD H81M-SP2H</td>\n",
       "      <td>1.0</td>\n",
       "      <td>2020-01-03</td>\n",
       "      <td>PWI Consumer W/H</td>\n",
       "      <td>1.0</td>\n",
       "      <td>PWI1-ESP-PO-191219-0004</td>\n",
       "      <td>2019-12-19</td>\n",
       "      <td>2019-12-19</td>\n",
       "      <td>2019-12-19</td>\n",
       "      <td>1.0</td>\n",
       "      <td>0</td>\n",
       "      <td>15.0</td>\n",
       "      <td>15.0</td>\n",
       "      <td>1</td>\n",
       "      <td>1</td>\n",
       "    </tr>\n",
       "    <tr>\n",
       "      <th>...</th>\n",
       "      <td>...</td>\n",
       "      <td>...</td>\n",
       "      <td>...</td>\n",
       "      <td>...</td>\n",
       "      <td>...</td>\n",
       "      <td>...</td>\n",
       "      <td>...</td>\n",
       "      <td>...</td>\n",
       "      <td>...</td>\n",
       "      <td>...</td>\n",
       "      <td>...</td>\n",
       "      <td>...</td>\n",
       "      <td>...</td>\n",
       "      <td>...</td>\n",
       "      <td>...</td>\n",
       "      <td>...</td>\n",
       "      <td>...</td>\n",
       "      <td>...</td>\n",
       "      <td>...</td>\n",
       "      <td>...</td>\n",
       "      <td>...</td>\n",
       "      <td>...</td>\n",
       "    </tr>\n",
       "    <tr>\n",
       "      <th>409908</th>\n",
       "      <td>2020-12-31</td>\n",
       "      <td>PURCHASING</td>\n",
       "      <td>PURCHASING</td>\n",
       "      <td>E00003</td>\n",
       "      <td>Import</td>\n",
       "      <td>2020-12-04</td>\n",
       "      <td>B00052</td>\n",
       "      <td>DJT 2836 JC MESH II PRIMEBLUE - EPM 5</td>\n",
       "      <td>15.0</td>\n",
       "      <td>2020-12-21</td>\n",
       "      <td>PWI Mat W/H(Main)</td>\n",
       "      <td>15.0</td>\n",
       "      <td>PWI1-PFO-UO-201126-0030</td>\n",
       "      <td>2020-11-26</td>\n",
       "      <td>2020-11-27</td>\n",
       "      <td>2020-12-11</td>\n",
       "      <td>15.0</td>\n",
       "      <td>27</td>\n",
       "      <td>25.0</td>\n",
       "      <td>24.0</td>\n",
       "      <td>12</td>\n",
       "      <td>53</td>\n",
       "    </tr>\n",
       "    <tr>\n",
       "      <th>409909</th>\n",
       "      <td>2020-12-11</td>\n",
       "      <td>PURCHASING</td>\n",
       "      <td>PURCHASING</td>\n",
       "      <td>E00003</td>\n",
       "      <td>Import</td>\n",
       "      <td>2020-11-28</td>\n",
       "      <td>B00362</td>\n",
       "      <td>HF SD 10641 CDP-P - EPM 5</td>\n",
       "      <td>2.0</td>\n",
       "      <td>2020-12-07</td>\n",
       "      <td>PWI Mat W/H(Main)</td>\n",
       "      <td>2.0</td>\n",
       "      <td>PWI1-PRD-UO-201114-0042</td>\n",
       "      <td>2020-11-14</td>\n",
       "      <td>2020-11-27</td>\n",
       "      <td>2020-12-11</td>\n",
       "      <td>2.0</td>\n",
       "      <td>13</td>\n",
       "      <td>23.0</td>\n",
       "      <td>10.0</td>\n",
       "      <td>12</td>\n",
       "      <td>50</td>\n",
       "    </tr>\n",
       "    <tr>\n",
       "      <th>409910</th>\n",
       "      <td>2020-12-23</td>\n",
       "      <td>PURCHASING</td>\n",
       "      <td>PURCHASING</td>\n",
       "      <td>E00003</td>\n",
       "      <td>Import</td>\n",
       "      <td>2020-12-18</td>\n",
       "      <td>B00362</td>\n",
       "      <td>HF ZJ 584 N</td>\n",
       "      <td>25.0</td>\n",
       "      <td>2020-12-28</td>\n",
       "      <td>PWI Mat W/H(Main)</td>\n",
       "      <td>25.0</td>\n",
       "      <td>PWI1-PRD-UO-201201-0012</td>\n",
       "      <td>2020-12-01</td>\n",
       "      <td>2020-12-21</td>\n",
       "      <td>2021-01-04</td>\n",
       "      <td>25.0</td>\n",
       "      <td>5</td>\n",
       "      <td>27.0</td>\n",
       "      <td>7.0</td>\n",
       "      <td>12</td>\n",
       "      <td>52</td>\n",
       "    </tr>\n",
       "    <tr>\n",
       "      <th>409911</th>\n",
       "      <td>2020-12-23</td>\n",
       "      <td>PURCHASING</td>\n",
       "      <td>PURCHASING</td>\n",
       "      <td>E00003</td>\n",
       "      <td>Import</td>\n",
       "      <td>2020-12-18</td>\n",
       "      <td>Z01141</td>\n",
       "      <td>1180 AU E TPU X 25 130 BLK STM BASF (PUREBOOST...</td>\n",
       "      <td>8.0</td>\n",
       "      <td>2020-12-28</td>\n",
       "      <td>PWI Mat W/H(Main)</td>\n",
       "      <td>8.0</td>\n",
       "      <td>PWI1-PRD-UO-201031-0034</td>\n",
       "      <td>2020-10-31</td>\n",
       "      <td>2020-11-27</td>\n",
       "      <td>2020-12-11</td>\n",
       "      <td>8.0</td>\n",
       "      <td>5</td>\n",
       "      <td>58.0</td>\n",
       "      <td>31.0</td>\n",
       "      <td>12</td>\n",
       "      <td>52</td>\n",
       "    </tr>\n",
       "    <tr>\n",
       "      <th>409912</th>\n",
       "      <td>2020-12-11</td>\n",
       "      <td>PURCHASING</td>\n",
       "      <td>PURCHASING</td>\n",
       "      <td>E00003</td>\n",
       "      <td>Import</td>\n",
       "      <td>2020-12-05</td>\n",
       "      <td>B00362</td>\n",
       "      <td>HF SD 10641 P EPM 5</td>\n",
       "      <td>178.0</td>\n",
       "      <td>2020-12-14</td>\n",
       "      <td>PWI Mat W/H(Main)</td>\n",
       "      <td>178.0</td>\n",
       "      <td>PWI1-PRD-UO-201114-0042</td>\n",
       "      <td>2020-11-14</td>\n",
       "      <td>2020-11-27</td>\n",
       "      <td>2020-12-11</td>\n",
       "      <td>178.0</td>\n",
       "      <td>6</td>\n",
       "      <td>30.0</td>\n",
       "      <td>17.0</td>\n",
       "      <td>12</td>\n",
       "      <td>50</td>\n",
       "    </tr>\n",
       "  </tbody>\n",
       "</table>\n",
       "<p>349880 rows × 22 columns</p>\n",
       "</div>"
      ],
      "text/plain": [
       "       Application_date  Department        Consumption_Dept Supplier_Agency  \\\n",
       "0            2020-01-03          IT     DEVELOPMENT ( ADM )          Z01779   \n",
       "1            2020-01-03          IT                 LABORAT          Z01779   \n",
       "2            2020-01-03          IT              PURCHASING          Z01779   \n",
       "3            2020-01-03          IT               FACTORY.1          Z01779   \n",
       "4            2020-01-03          IT  FACTORY. 2 ( MEKANIK )          Z01779   \n",
       "...                 ...         ...                     ...             ...   \n",
       "409908       2020-12-31  PURCHASING              PURCHASING          E00003   \n",
       "409909       2020-12-11  PURCHASING              PURCHASING          E00003   \n",
       "409910       2020-12-23  PURCHASING              PURCHASING          E00003   \n",
       "409911       2020-12-23  PURCHASING              PURCHASING          E00003   \n",
       "409912       2020-12-11  PURCHASING              PURCHASING          E00003   \n",
       "\n",
       "       Location Invoice_Date Supplier  \\\n",
       "0         Local   2020-01-03   Z01779   \n",
       "1         Local   2020-01-03   Z01779   \n",
       "2         Local   2020-01-03   Z01779   \n",
       "3         Local   2020-01-03   Z01779   \n",
       "4         Local   2020-01-03   Z01779   \n",
       "...         ...          ...      ...   \n",
       "409908   Import   2020-12-04   B00052   \n",
       "409909   Import   2020-11-28   B00362   \n",
       "409910   Import   2020-12-18   B00362   \n",
       "409911   Import   2020-12-18   Z01141   \n",
       "409912   Import   2020-12-05   B00362   \n",
       "\n",
       "                                            Material_Name  Invoice_Qty  \\\n",
       "0                                     MOUSE LOGITECH B100          1.0   \n",
       "1                               PC NONE BRAND CORE I3 SET          1.0   \n",
       "2                                     MOUSE LOGITECH B100          1.0   \n",
       "3                             MINI PC ASUS VM62-4030 PLUS          1.0   \n",
       "4                                     MAINBOARD H81M-SP2H          1.0   \n",
       "...                                                   ...          ...   \n",
       "409908              DJT 2836 JC MESH II PRIMEBLUE - EPM 5         15.0   \n",
       "409909                          HF SD 10641 CDP-P - EPM 5          2.0   \n",
       "409910                                        HF ZJ 584 N         25.0   \n",
       "409911  1180 AU E TPU X 25 130 BLK STM BASF (PUREBOOST...          8.0   \n",
       "409912                                HF SD 10641 P EPM 5        178.0   \n",
       "\n",
       "       Incoming_Date          Warehouse  Incoming_Qty  \\\n",
       "0         2020-01-03   PWI Consumer W/H           1.0   \n",
       "1         2020-01-03   PWI Consumer W/H           1.0   \n",
       "2         2020-01-03   PWI Consumer W/H           1.0   \n",
       "3         2020-01-03   PWI Consumer W/H           1.0   \n",
       "4         2020-01-03   PWI Consumer W/H           1.0   \n",
       "...              ...                ...           ...   \n",
       "409908    2020-12-21  PWI Mat W/H(Main)          15.0   \n",
       "409909    2020-12-07  PWI Mat W/H(Main)           2.0   \n",
       "409910    2020-12-28  PWI Mat W/H(Main)          25.0   \n",
       "409911    2020-12-28  PWI Mat W/H(Main)           8.0   \n",
       "409912    2020-12-14  PWI Mat W/H(Main)         178.0   \n",
       "\n",
       "                         P/O_No    PO_Date        RTD        RTA  P/O_Qty  \\\n",
       "0       PWI1-ESP-PO-191227-0008 2019-12-27 2019-12-27 2019-12-27      1.0   \n",
       "1       PWI1-ESP-PO-191227-0010 2019-12-27 2019-12-27 2019-12-27      1.0   \n",
       "2       PWI1-ESP-PO-191227-0006 2019-12-27 2019-12-27 2019-12-27      1.0   \n",
       "3       PWI1-ESP-PO-191227-0005 2019-12-27 2019-12-27 2019-12-27      1.0   \n",
       "4       PWI1-ESP-PO-191219-0004 2019-12-19 2019-12-19 2019-12-19      1.0   \n",
       "...                         ...        ...        ...        ...      ...   \n",
       "409908  PWI1-PFO-UO-201126-0030 2020-11-26 2020-11-27 2020-12-11     15.0   \n",
       "409909  PWI1-PRD-UO-201114-0042 2020-11-14 2020-11-27 2020-12-11      2.0   \n",
       "409910  PWI1-PRD-UO-201201-0012 2020-12-01 2020-12-21 2021-01-04     25.0   \n",
       "409911  PWI1-PRD-UO-201031-0034 2020-10-31 2020-11-27 2020-12-11      8.0   \n",
       "409912  PWI1-PRD-UO-201114-0042 2020-11-14 2020-11-27 2020-12-11    178.0   \n",
       "\n",
       "        Application_Date_Vs_Inv_Date  Incoming Date_Vs_PO_Date  \\\n",
       "0                                  0                       7.0   \n",
       "1                                  0                       7.0   \n",
       "2                                  0                       7.0   \n",
       "3                                  0                       7.0   \n",
       "4                                  0                      15.0   \n",
       "...                              ...                       ...   \n",
       "409908                            27                      25.0   \n",
       "409909                            13                      23.0   \n",
       "409910                             5                      27.0   \n",
       "409911                             5                      58.0   \n",
       "409912                             6                      30.0   \n",
       "\n",
       "        Incoming Date_Vs_RTD  Application_month  Application_week  \n",
       "0                        7.0                  1                 1  \n",
       "1                        7.0                  1                 1  \n",
       "2                        7.0                  1                 1  \n",
       "3                        7.0                  1                 1  \n",
       "4                       15.0                  1                 1  \n",
       "...                      ...                ...               ...  \n",
       "409908                  24.0                 12                53  \n",
       "409909                  10.0                 12                50  \n",
       "409910                   7.0                 12                52  \n",
       "409911                  31.0                 12                52  \n",
       "409912                  17.0                 12                50  \n",
       "\n",
       "[349880 rows x 22 columns]"
      ]
     },
     "execution_count": 134,
     "metadata": {},
     "output_type": "execute_result"
    }
   ],
   "source": [
    "pd.set_option('display.max_columns', None)\n",
    "df"
   ]
  },
  {
   "cell_type": "code",
   "execution_count": null,
   "metadata": {},
   "outputs": [],
   "source": []
  },
  {
   "cell_type": "code",
   "execution_count": 93,
   "metadata": {},
   "outputs": [
    {
     "data": {
      "text/plain": [
       "[<matplotlib.lines.Line2D at 0x24626baf630>]"
      ]
     },
     "execution_count": 93,
     "metadata": {},
     "output_type": "execute_result"
    },
    {
     "data": {
      "image/png": "[encoded data removed]",
      "text/plain": [
       "<Figure size 3600x1008 with 1 Axes>"
      ]
     },
     "metadata": {
      "needs_background": "light"
     },
     "output_type": "display_data"
    }
   ],
   "source": [
    "rcParams['figure.figsize'] = 50,14\n",
    "plt.plot(df['Invoice_Qty'], df['Application_date'].dt.month)"
   ]
  },
  {
   "cell_type": "code",
   "execution_count": null,
   "metadata": {},
   "outputs": [],
   "source": []
  },
  {
   "cell_type": "code",
   "execution_count": null,
   "metadata": {},
   "outputs": [],
   "source": [
    "x=df['Application_date'][0].month"
   ]
  },
  {
   "cell_type": "code",
   "execution_count": null,
   "metadata": {},
   "outputs": [],
   "source": [
    "p=np.array([1, 2, 3, 4, 5, 6, 7, 8, 9, 10, 11, 12])"
   ]
  },
  {
   "cell_type": "code",
   "execution_count": null,
   "metadata": {},
   "outputs": [],
   "source": [
    "p"
   ]
  },
  {
   "cell_type": "code",
   "execution_count": 211,
   "metadata": {},
   "outputs": [
    {
     "data": {
      "text/plain": [
       "int"
      ]
     },
     "execution_count": 211,
     "metadata": {},
     "output_type": "execute_result"
    }
   ],
   "source": [
    "type(x)"
   ]
  },
  {
   "cell_type": "code",
   "execution_count": 213,
   "metadata": {},
   "outputs": [
    {
     "data": {
      "text/plain": [
       "numpy.float64"
      ]
     },
     "execution_count": 213,
     "metadata": {},
     "output_type": "execute_result"
    }
   ],
   "source": [
    "type(df['Invoice Qty'][0])"
   ]
  },
  {
   "cell_type": "code",
   "execution_count": 248,
   "metadata": {},
   "outputs": [
    {
     "data": {
      "text/plain": [
       "(Timestamp('2020-01-03 00:00:00'), Timestamp('2020-12-31 00:00:00'))"
      ]
     },
     "execution_count": 248,
     "metadata": {},
     "output_type": "execute_result"
    }
   ],
   "source": [
    "df['Application_date'].min() , df['Application_date'].max()"
   ]
  },
  {
   "cell_type": "code",
   "execution_count": 90,
   "metadata": {},
   "outputs": [
    {
     "name": "stderr",
     "output_type": "stream",
     "text": [
      "C:\\Users\\VENKATESH\\AppData\\Local\\Programs\\Python\\Python37\\lib\\site-packages\\seaborn\\_decorators.py:43: FutureWarning: Pass the following variable as a keyword arg: x. From version 0.12, the only valid positional argument will be `data`, and passing other arguments without an explicit keyword will result in an error or misinterpretation.\n",
      "  FutureWarning\n"
     ]
    },
    {
     "data": {
      "text/plain": [
       "<matplotlib.axes._subplots.AxesSubplot at 0x246274ceb70>"
      ]
     },
     "execution_count": 90,
     "metadata": {},
     "output_type": "execute_result"
    },
    {
     "data": {
      "image/png": "[encoded data removed]",
      "text/plain": [
       "<Figure size 3600x1008 with 1 Axes>"
      ]
     },
     "metadata": {
      "needs_background": "light"
     },
     "output_type": "display_data"
    }
   ],
   "source": [
    "from matplotlib import rcParams\n",
    "rcParams['figure.figsize'] = 50,14\n",
    "sns.countplot(df['Department'].sort_values(ascending = True))"
   ]
  },
  {
   "cell_type": "code",
   "execution_count": 276,
   "metadata": {},
   "outputs": [
    {
     "data": {
      "text/plain": [
       "array(['MOUSE LOGITECH B100', 'PC NONE BRAND CORE I3 SET',\n",
       "       'MINI PC ASUS VM62-4030 PLUS', ...,\n",
       "       'FX6659 / PRINTING + GLOSSY / HEEL',\n",
       "       'FX6882 / STITCHING UPPER + SCREEN PRINTING + EMBROIDERY / UPPER',\n",
       "       'HF SD13006 P CDP JACQUARD'], dtype=object)"
      ]
     },
     "execution_count": 276,
     "metadata": {},
     "output_type": "execute_result"
    }
   ],
   "source": [
    "df['Material Name'].unique()"
   ]
  },
  {
   "cell_type": "code",
   "execution_count": 285,
   "metadata": {},
   "outputs": [
    {
     "name": "stderr",
     "output_type": "stream",
     "text": [
      "C:\\Users\\VENKATESH\\AppData\\Local\\Programs\\Python\\Python37\\lib\\site-packages\\seaborn\\_decorators.py:43: FutureWarning: Pass the following variable as a keyword arg: x. From version 0.12, the only valid positional argument will be `data`, and passing other arguments without an explicit keyword will result in an error or misinterpretation.\n",
      "  FutureWarning\n"
     ]
    },
    {
     "data": {
      "text/plain": [
       "<matplotlib.axes._subplots.AxesSubplot at 0x1fd2c1288d0>"
      ]
     },
     "execution_count": 285,
     "metadata": {},
     "output_type": "execute_result"
    },
    {
     "data": {
      "image/png": "[encoded data removed]",
      "text/plain": [
       "<Figure size 3600x1008 with 1 Axes>"
      ]
     },
     "metadata": {
      "needs_background": "light"
     },
     "output_type": "display_data"
    }
   ],
   "source": [
    "rcParams['figure.figsize'] = 50,14\n",
    "sns.countplot(df['Warehouse'].sort_values(ascending = True))"
   ]
  },
  {
   "cell_type": "code",
   "execution_count": 288,
   "metadata": {},
   "outputs": [],
   "source": [
    "import statsmodels.api as sm\n",
    "from statsmodels.tsa.statespace.sarimax import SARIMAX"
   ]
  },
  {
   "cell_type": "code",
   "execution_count": 141,
   "metadata": {},
   "outputs": [
    {
     "data": {
      "text/html": [
       "<div>\n",
       "<style scoped>\n",
       "    .dataframe tbody tr th:only-of-type {\n",
       "        vertical-align: middle;\n",
       "    }\n",
       "\n",
       "    .dataframe tbody tr th {\n",
       "        vertical-align: top;\n",
       "    }\n",
       "\n",
       "    .dataframe thead th {\n",
       "        text-align: right;\n",
       "    }\n",
       "</style>\n",
       "<table border=\"1\" class=\"dataframe\">\n",
       "  <thead>\n",
       "    <tr style=\"text-align: right;\">\n",
       "      <th></th>\n",
       "      <th>Application_date</th>\n",
       "      <th>Department</th>\n",
       "      <th>Consumption_Dept</th>\n",
       "      <th>Supplier_Agency</th>\n",
       "      <th>Location</th>\n",
       "      <th>Invoice_Date</th>\n",
       "      <th>Supplier</th>\n",
       "      <th>Material_Name</th>\n",
       "      <th>Invoice_Qty</th>\n",
       "      <th>Incoming_Date</th>\n",
       "      <th>Warehouse</th>\n",
       "      <th>Incoming_Qty</th>\n",
       "      <th>P/O_No</th>\n",
       "      <th>PO_Date</th>\n",
       "      <th>RTD</th>\n",
       "      <th>RTA</th>\n",
       "      <th>P/O_Qty</th>\n",
       "      <th>Application_Date_Vs_Inv_Date</th>\n",
       "      <th>Incoming Date_Vs_PO_Date</th>\n",
       "      <th>Incoming Date_Vs_RTD</th>\n",
       "      <th>Application_month</th>\n",
       "      <th>Application_week</th>\n",
       "    </tr>\n",
       "  </thead>\n",
       "  <tbody>\n",
       "    <tr>\n",
       "      <th>0</th>\n",
       "      <td>2020-01-03</td>\n",
       "      <td>IT</td>\n",
       "      <td>DEVELOPMENT ( ADM )</td>\n",
       "      <td>Z01779</td>\n",
       "      <td>Local</td>\n",
       "      <td>2020-01-03</td>\n",
       "      <td>Z01779</td>\n",
       "      <td>MOUSE LOGITECH B100</td>\n",
       "      <td>1.0</td>\n",
       "      <td>2020-01-03</td>\n",
       "      <td>PWI Consumer W/H</td>\n",
       "      <td>1.0</td>\n",
       "      <td>PWI1-ESP-PO-191227-0008</td>\n",
       "      <td>2019-12-27</td>\n",
       "      <td>2019-12-27</td>\n",
       "      <td>2019-12-27</td>\n",
       "      <td>1.0</td>\n",
       "      <td>0</td>\n",
       "      <td>7.0</td>\n",
       "      <td>7.0</td>\n",
       "      <td>1</td>\n",
       "      <td>1</td>\n",
       "    </tr>\n",
       "    <tr>\n",
       "      <th>1</th>\n",
       "      <td>2020-01-03</td>\n",
       "      <td>IT</td>\n",
       "      <td>LABORAT</td>\n",
       "      <td>Z01779</td>\n",
       "      <td>Local</td>\n",
       "      <td>2020-01-03</td>\n",
       "      <td>Z01779</td>\n",
       "      <td>PC NONE BRAND CORE I3 SET</td>\n",
       "      <td>1.0</td>\n",
       "      <td>2020-01-03</td>\n",
       "      <td>PWI Consumer W/H</td>\n",
       "      <td>1.0</td>\n",
       "      <td>PWI1-ESP-PO-191227-0010</td>\n",
       "      <td>2019-12-27</td>\n",
       "      <td>2019-12-27</td>\n",
       "      <td>2019-12-27</td>\n",
       "      <td>1.0</td>\n",
       "      <td>0</td>\n",
       "      <td>7.0</td>\n",
       "      <td>7.0</td>\n",
       "      <td>1</td>\n",
       "      <td>1</td>\n",
       "    </tr>\n",
       "    <tr>\n",
       "      <th>2</th>\n",
       "      <td>2020-01-03</td>\n",
       "      <td>IT</td>\n",
       "      <td>PURCHASING</td>\n",
       "      <td>Z01779</td>\n",
       "      <td>Local</td>\n",
       "      <td>2020-01-03</td>\n",
       "      <td>Z01779</td>\n",
       "      <td>MOUSE LOGITECH B100</td>\n",
       "      <td>1.0</td>\n",
       "      <td>2020-01-03</td>\n",
       "      <td>PWI Consumer W/H</td>\n",
       "      <td>1.0</td>\n",
       "      <td>PWI1-ESP-PO-191227-0006</td>\n",
       "      <td>2019-12-27</td>\n",
       "      <td>2019-12-27</td>\n",
       "      <td>2019-12-27</td>\n",
       "      <td>1.0</td>\n",
       "      <td>0</td>\n",
       "      <td>7.0</td>\n",
       "      <td>7.0</td>\n",
       "      <td>1</td>\n",
       "      <td>1</td>\n",
       "    </tr>\n",
       "    <tr>\n",
       "      <th>3</th>\n",
       "      <td>2020-01-03</td>\n",
       "      <td>IT</td>\n",
       "      <td>FACTORY.1</td>\n",
       "      <td>Z01779</td>\n",
       "      <td>Local</td>\n",
       "      <td>2020-01-03</td>\n",
       "      <td>Z01779</td>\n",
       "      <td>MINI PC ASUS VM62-4030 PLUS</td>\n",
       "      <td>1.0</td>\n",
       "      <td>2020-01-03</td>\n",
       "      <td>PWI Consumer W/H</td>\n",
       "      <td>1.0</td>\n",
       "      <td>PWI1-ESP-PO-191227-0005</td>\n",
       "      <td>2019-12-27</td>\n",
       "      <td>2019-12-27</td>\n",
       "      <td>2019-12-27</td>\n",
       "      <td>1.0</td>\n",
       "      <td>0</td>\n",
       "      <td>7.0</td>\n",
       "      <td>7.0</td>\n",
       "      <td>1</td>\n",
       "      <td>1</td>\n",
       "    </tr>\n",
       "    <tr>\n",
       "      <th>4</th>\n",
       "      <td>2020-01-03</td>\n",
       "      <td>IT</td>\n",
       "      <td>FACTORY. 2 ( MEKANIK )</td>\n",
       "      <td>Z01779</td>\n",
       "      <td>Local</td>\n",
       "      <td>2020-01-03</td>\n",
       "      <td>Z01779</td>\n",
       "      <td>MAINBOARD H81M-SP2H</td>\n",
       "      <td>1.0</td>\n",
       "      <td>2020-01-03</td>\n",
       "      <td>PWI Consumer W/H</td>\n",
       "      <td>1.0</td>\n",
       "      <td>PWI1-ESP-PO-191219-0004</td>\n",
       "      <td>2019-12-19</td>\n",
       "      <td>2019-12-19</td>\n",
       "      <td>2019-12-19</td>\n",
       "      <td>1.0</td>\n",
       "      <td>0</td>\n",
       "      <td>15.0</td>\n",
       "      <td>15.0</td>\n",
       "      <td>1</td>\n",
       "      <td>1</td>\n",
       "    </tr>\n",
       "    <tr>\n",
       "      <th>...</th>\n",
       "      <td>...</td>\n",
       "      <td>...</td>\n",
       "      <td>...</td>\n",
       "      <td>...</td>\n",
       "      <td>...</td>\n",
       "      <td>...</td>\n",
       "      <td>...</td>\n",
       "      <td>...</td>\n",
       "      <td>...</td>\n",
       "      <td>...</td>\n",
       "      <td>...</td>\n",
       "      <td>...</td>\n",
       "      <td>...</td>\n",
       "      <td>...</td>\n",
       "      <td>...</td>\n",
       "      <td>...</td>\n",
       "      <td>...</td>\n",
       "      <td>...</td>\n",
       "      <td>...</td>\n",
       "      <td>...</td>\n",
       "      <td>...</td>\n",
       "      <td>...</td>\n",
       "    </tr>\n",
       "    <tr>\n",
       "      <th>409908</th>\n",
       "      <td>2020-12-31</td>\n",
       "      <td>PURCHASING</td>\n",
       "      <td>PURCHASING</td>\n",
       "      <td>E00003</td>\n",
       "      <td>Import</td>\n",
       "      <td>2020-12-04</td>\n",
       "      <td>B00052</td>\n",
       "      <td>DJT 2836 JC MESH II PRIMEBLUE - EPM 5</td>\n",
       "      <td>15.0</td>\n",
       "      <td>2020-12-21</td>\n",
       "      <td>PWI Mat W/H(Main)</td>\n",
       "      <td>15.0</td>\n",
       "      <td>PWI1-PFO-UO-201126-0030</td>\n",
       "      <td>2020-11-26</td>\n",
       "      <td>2020-11-27</td>\n",
       "      <td>2020-12-11</td>\n",
       "      <td>15.0</td>\n",
       "      <td>27</td>\n",
       "      <td>25.0</td>\n",
       "      <td>24.0</td>\n",
       "      <td>12</td>\n",
       "      <td>53</td>\n",
       "    </tr>\n",
       "    <tr>\n",
       "      <th>409909</th>\n",
       "      <td>2020-12-11</td>\n",
       "      <td>PURCHASING</td>\n",
       "      <td>PURCHASING</td>\n",
       "      <td>E00003</td>\n",
       "      <td>Import</td>\n",
       "      <td>2020-11-28</td>\n",
       "      <td>B00362</td>\n",
       "      <td>HF SD 10641 CDP-P - EPM 5</td>\n",
       "      <td>2.0</td>\n",
       "      <td>2020-12-07</td>\n",
       "      <td>PWI Mat W/H(Main)</td>\n",
       "      <td>2.0</td>\n",
       "      <td>PWI1-PRD-UO-201114-0042</td>\n",
       "      <td>2020-11-14</td>\n",
       "      <td>2020-11-27</td>\n",
       "      <td>2020-12-11</td>\n",
       "      <td>2.0</td>\n",
       "      <td>13</td>\n",
       "      <td>23.0</td>\n",
       "      <td>10.0</td>\n",
       "      <td>12</td>\n",
       "      <td>50</td>\n",
       "    </tr>\n",
       "    <tr>\n",
       "      <th>409910</th>\n",
       "      <td>2020-12-23</td>\n",
       "      <td>PURCHASING</td>\n",
       "      <td>PURCHASING</td>\n",
       "      <td>E00003</td>\n",
       "      <td>Import</td>\n",
       "      <td>2020-12-18</td>\n",
       "      <td>B00362</td>\n",
       "      <td>HF ZJ 584 N</td>\n",
       "      <td>25.0</td>\n",
       "      <td>2020-12-28</td>\n",
       "      <td>PWI Mat W/H(Main)</td>\n",
       "      <td>25.0</td>\n",
       "      <td>PWI1-PRD-UO-201201-0012</td>\n",
       "      <td>2020-12-01</td>\n",
       "      <td>2020-12-21</td>\n",
       "      <td>2021-01-04</td>\n",
       "      <td>25.0</td>\n",
       "      <td>5</td>\n",
       "      <td>27.0</td>\n",
       "      <td>7.0</td>\n",
       "      <td>12</td>\n",
       "      <td>52</td>\n",
       "    </tr>\n",
       "    <tr>\n",
       "      <th>409911</th>\n",
       "      <td>2020-12-23</td>\n",
       "      <td>PURCHASING</td>\n",
       "      <td>PURCHASING</td>\n",
       "      <td>E00003</td>\n",
       "      <td>Import</td>\n",
       "      <td>2020-12-18</td>\n",
       "      <td>Z01141</td>\n",
       "      <td>1180 AU E TPU X 25 130 BLK STM BASF (PUREBOOST...</td>\n",
       "      <td>8.0</td>\n",
       "      <td>2020-12-28</td>\n",
       "      <td>PWI Mat W/H(Main)</td>\n",
       "      <td>8.0</td>\n",
       "      <td>PWI1-PRD-UO-201031-0034</td>\n",
       "      <td>2020-10-31</td>\n",
       "      <td>2020-11-27</td>\n",
       "      <td>2020-12-11</td>\n",
       "      <td>8.0</td>\n",
       "      <td>5</td>\n",
       "      <td>58.0</td>\n",
       "      <td>31.0</td>\n",
       "      <td>12</td>\n",
       "      <td>52</td>\n",
       "    </tr>\n",
       "    <tr>\n",
       "      <th>409912</th>\n",
       "      <td>2020-12-11</td>\n",
       "      <td>PURCHASING</td>\n",
       "      <td>PURCHASING</td>\n",
       "      <td>E00003</td>\n",
       "      <td>Import</td>\n",
       "      <td>2020-12-05</td>\n",
       "      <td>B00362</td>\n",
       "      <td>HF SD 10641 P EPM 5</td>\n",
       "      <td>178.0</td>\n",
       "      <td>2020-12-14</td>\n",
       "      <td>PWI Mat W/H(Main)</td>\n",
       "      <td>178.0</td>\n",
       "      <td>PWI1-PRD-UO-201114-0042</td>\n",
       "      <td>2020-11-14</td>\n",
       "      <td>2020-11-27</td>\n",
       "      <td>2020-12-11</td>\n",
       "      <td>178.0</td>\n",
       "      <td>6</td>\n",
       "      <td>30.0</td>\n",
       "      <td>17.0</td>\n",
       "      <td>12</td>\n",
       "      <td>50</td>\n",
       "    </tr>\n",
       "  </tbody>\n",
       "</table>\n",
       "<p>349880 rows × 22 columns</p>\n",
       "</div>"
      ],
      "text/plain": [
       "       Application_date  Department        Consumption_Dept Supplier_Agency  \\\n",
       "0            2020-01-03          IT     DEVELOPMENT ( ADM )          Z01779   \n",
       "1            2020-01-03          IT                 LABORAT          Z01779   \n",
       "2            2020-01-03          IT              PURCHASING          Z01779   \n",
       "3            2020-01-03          IT               FACTORY.1          Z01779   \n",
       "4            2020-01-03          IT  FACTORY. 2 ( MEKANIK )          Z01779   \n",
       "...                 ...         ...                     ...             ...   \n",
       "409908       2020-12-31  PURCHASING              PURCHASING          E00003   \n",
       "409909       2020-12-11  PURCHASING              PURCHASING          E00003   \n",
       "409910       2020-12-23  PURCHASING              PURCHASING          E00003   \n",
       "409911       2020-12-23  PURCHASING              PURCHASING          E00003   \n",
       "409912       2020-12-11  PURCHASING              PURCHASING          E00003   \n",
       "\n",
       "       Location Invoice_Date Supplier  \\\n",
       "0         Local   2020-01-03   Z01779   \n",
       "1         Local   2020-01-03   Z01779   \n",
       "2         Local   2020-01-03   Z01779   \n",
       "3         Local   2020-01-03   Z01779   \n",
       "4         Local   2020-01-03   Z01779   \n",
       "...         ...          ...      ...   \n",
       "409908   Import   2020-12-04   B00052   \n",
       "409909   Import   2020-11-28   B00362   \n",
       "409910   Import   2020-12-18   B00362   \n",
       "409911   Import   2020-12-18   Z01141   \n",
       "409912   Import   2020-12-05   B00362   \n",
       "\n",
       "                                            Material_Name  Invoice_Qty  \\\n",
       "0                                     MOUSE LOGITECH B100          1.0   \n",
       "1                               PC NONE BRAND CORE I3 SET          1.0   \n",
       "2                                     MOUSE LOGITECH B100          1.0   \n",
       "3                             MINI PC ASUS VM62-4030 PLUS          1.0   \n",
       "4                                     MAINBOARD H81M-SP2H          1.0   \n",
       "...                                                   ...          ...   \n",
       "409908              DJT 2836 JC MESH II PRIMEBLUE - EPM 5         15.0   \n",
       "409909                          HF SD 10641 CDP-P - EPM 5          2.0   \n",
       "409910                                        HF ZJ 584 N         25.0   \n",
       "409911  1180 AU E TPU X 25 130 BLK STM BASF (PUREBOOST...          8.0   \n",
       "409912                                HF SD 10641 P EPM 5        178.0   \n",
       "\n",
       "       Incoming_Date          Warehouse  Incoming_Qty  \\\n",
       "0         2020-01-03   PWI Consumer W/H           1.0   \n",
       "1         2020-01-03   PWI Consumer W/H           1.0   \n",
       "2         2020-01-03   PWI Consumer W/H           1.0   \n",
       "3         2020-01-03   PWI Consumer W/H           1.0   \n",
       "4         2020-01-03   PWI Consumer W/H           1.0   \n",
       "...              ...                ...           ...   \n",
       "409908    2020-12-21  PWI Mat W/H(Main)          15.0   \n",
       "409909    2020-12-07  PWI Mat W/H(Main)           2.0   \n",
       "409910    2020-12-28  PWI Mat W/H(Main)          25.0   \n",
       "409911    2020-12-28  PWI Mat W/H(Main)           8.0   \n",
       "409912    2020-12-14  PWI Mat W/H(Main)         178.0   \n",
       "\n",
       "                         P/O_No    PO_Date        RTD        RTA  P/O_Qty  \\\n",
       "0       PWI1-ESP-PO-191227-0008 2019-12-27 2019-12-27 2019-12-27      1.0   \n",
       "1       PWI1-ESP-PO-191227-0010 2019-12-27 2019-12-27 2019-12-27      1.0   \n",
       "2       PWI1-ESP-PO-191227-0006 2019-12-27 2019-12-27 2019-12-27      1.0   \n",
       "3       PWI1-ESP-PO-191227-0005 2019-12-27 2019-12-27 2019-12-27      1.0   \n",
       "4       PWI1-ESP-PO-191219-0004 2019-12-19 2019-12-19 2019-12-19      1.0   \n",
       "...                         ...        ...        ...        ...      ...   \n",
       "409908  PWI1-PFO-UO-201126-0030 2020-11-26 2020-11-27 2020-12-11     15.0   \n",
       "409909  PWI1-PRD-UO-201114-0042 2020-11-14 2020-11-27 2020-12-11      2.0   \n",
       "409910  PWI1-PRD-UO-201201-0012 2020-12-01 2020-12-21 2021-01-04     25.0   \n",
       "409911  PWI1-PRD-UO-201031-0034 2020-10-31 2020-11-27 2020-12-11      8.0   \n",
       "409912  PWI1-PRD-UO-201114-0042 2020-11-14 2020-11-27 2020-12-11    178.0   \n",
       "\n",
       "        Application_Date_Vs_Inv_Date  Incoming Date_Vs_PO_Date  \\\n",
       "0                                  0                       7.0   \n",
       "1                                  0                       7.0   \n",
       "2                                  0                       7.0   \n",
       "3                                  0                       7.0   \n",
       "4                                  0                      15.0   \n",
       "...                              ...                       ...   \n",
       "409908                            27                      25.0   \n",
       "409909                            13                      23.0   \n",
       "409910                             5                      27.0   \n",
       "409911                             5                      58.0   \n",
       "409912                             6                      30.0   \n",
       "\n",
       "        Incoming Date_Vs_RTD  Application_month  Application_week  \n",
       "0                        7.0                  1                 1  \n",
       "1                        7.0                  1                 1  \n",
       "2                        7.0                  1                 1  \n",
       "3                        7.0                  1                 1  \n",
       "4                       15.0                  1                 1  \n",
       "...                      ...                ...               ...  \n",
       "409908                  24.0                 12                53  \n",
       "409909                  10.0                 12                50  \n",
       "409910                   7.0                 12                52  \n",
       "409911                  31.0                 12                52  \n",
       "409912                  17.0                 12                50  \n",
       "\n",
       "[349880 rows x 22 columns]"
      ]
     },
     "execution_count": 141,
     "metadata": {},
     "output_type": "execute_result"
    }
   ],
   "source": [
    "df"
   ]
  },
  {
   "cell_type": "code",
   "execution_count": null,
   "metadata": {},
   "outputs": [],
   "source": []
  },
  {
   "cell_type": "code",
   "execution_count": null,
   "metadata": {},
   "outputs": [],
   "source": []
  },
  {
   "cell_type": "code",
   "execution_count": null,
   "metadata": {},
   "outputs": [],
   "source": []
  },
  {
   "cell_type": "code",
   "execution_count": 301,
   "metadata": {},
   "outputs": [],
   "source": [
    "X=df[train_features]\n",
    "y=df['Invoice Qty']"
   ]
  },
  {
   "cell_type": "code",
   "execution_count": 22,
   "metadata": {},
   "outputs": [],
   "source": [
    "from sklearn.model_selection import train_test_split"
   ]
  },
  {
   "cell_type": "code",
   "execution_count": 21,
   "metadata": {},
   "outputs": [],
   "source": [
    "from sklearn.ensemble import RandomForestRegressor\n",
    "from sklearn.metrics import mean_absolute_error"
   ]
  },
  {
   "cell_type": "code",
   "execution_count": 135,
   "metadata": {},
   "outputs": [],
   "source": [
    "df['Application_month']=df['Application_date'].dt.month\n",
    "df['Application_week']=df['Application_date'].dt.week\n",
    "df['Invoice_Date']=df['Invoice_Date'].dt.month"
   ]
  },
  {
   "cell_type": "code",
   "execution_count": 136,
   "metadata": {},
   "outputs": [
    {
     "data": {
      "text/html": [
       "<div>\n",
       "<style scoped>\n",
       "    .dataframe tbody tr th:only-of-type {\n",
       "        vertical-align: middle;\n",
       "    }\n",
       "\n",
       "    .dataframe tbody tr th {\n",
       "        vertical-align: top;\n",
       "    }\n",
       "\n",
       "    .dataframe thead th {\n",
       "        text-align: right;\n",
       "    }\n",
       "</style>\n",
       "<table border=\"1\" class=\"dataframe\">\n",
       "  <thead>\n",
       "    <tr style=\"text-align: right;\">\n",
       "      <th></th>\n",
       "      <th>Application_date</th>\n",
       "      <th>Department</th>\n",
       "      <th>Consumption_Dept</th>\n",
       "      <th>Supplier_Agency</th>\n",
       "      <th>Location</th>\n",
       "      <th>Invoice_Date</th>\n",
       "      <th>Supplier</th>\n",
       "      <th>Material_Name</th>\n",
       "      <th>Invoice_Qty</th>\n",
       "      <th>Incoming_Date</th>\n",
       "      <th>Warehouse</th>\n",
       "      <th>Incoming_Qty</th>\n",
       "      <th>P/O_No</th>\n",
       "      <th>PO_Date</th>\n",
       "      <th>RTD</th>\n",
       "      <th>RTA</th>\n",
       "      <th>P/O_Qty</th>\n",
       "      <th>Application_Date_Vs_Inv_Date</th>\n",
       "      <th>Incoming Date_Vs_PO_Date</th>\n",
       "      <th>Incoming Date_Vs_RTD</th>\n",
       "      <th>Application_month</th>\n",
       "      <th>Application_week</th>\n",
       "    </tr>\n",
       "  </thead>\n",
       "  <tbody>\n",
       "    <tr>\n",
       "      <th>0</th>\n",
       "      <td>2020-01-03</td>\n",
       "      <td>IT</td>\n",
       "      <td>DEVELOPMENT ( ADM )</td>\n",
       "      <td>Z01779</td>\n",
       "      <td>Local</td>\n",
       "      <td>1</td>\n",
       "      <td>Z01779</td>\n",
       "      <td>MOUSE LOGITECH B100</td>\n",
       "      <td>1.0</td>\n",
       "      <td>2020-01-03</td>\n",
       "      <td>PWI Consumer W/H</td>\n",
       "      <td>1.0</td>\n",
       "      <td>PWI1-ESP-PO-191227-0008</td>\n",
       "      <td>2019-12-27</td>\n",
       "      <td>2019-12-27</td>\n",
       "      <td>2019-12-27</td>\n",
       "      <td>1.0</td>\n",
       "      <td>0</td>\n",
       "      <td>7.0</td>\n",
       "      <td>7.0</td>\n",
       "      <td>1</td>\n",
       "      <td>1</td>\n",
       "    </tr>\n",
       "    <tr>\n",
       "      <th>1</th>\n",
       "      <td>2020-01-03</td>\n",
       "      <td>IT</td>\n",
       "      <td>LABORAT</td>\n",
       "      <td>Z01779</td>\n",
       "      <td>Local</td>\n",
       "      <td>1</td>\n",
       "      <td>Z01779</td>\n",
       "      <td>PC NONE BRAND CORE I3 SET</td>\n",
       "      <td>1.0</td>\n",
       "      <td>2020-01-03</td>\n",
       "      <td>PWI Consumer W/H</td>\n",
       "      <td>1.0</td>\n",
       "      <td>PWI1-ESP-PO-191227-0010</td>\n",
       "      <td>2019-12-27</td>\n",
       "      <td>2019-12-27</td>\n",
       "      <td>2019-12-27</td>\n",
       "      <td>1.0</td>\n",
       "      <td>0</td>\n",
       "      <td>7.0</td>\n",
       "      <td>7.0</td>\n",
       "      <td>1</td>\n",
       "      <td>1</td>\n",
       "    </tr>\n",
       "  </tbody>\n",
       "</table>\n",
       "</div>"
      ],
      "text/plain": [
       "  Application_date Department     Consumption_Dept Supplier_Agency Location  \\\n",
       "0       2020-01-03         IT  DEVELOPMENT ( ADM )          Z01779    Local   \n",
       "1       2020-01-03         IT              LABORAT          Z01779    Local   \n",
       "\n",
       "   Invoice_Date Supplier              Material_Name  Invoice_Qty  \\\n",
       "0             1   Z01779        MOUSE LOGITECH B100          1.0   \n",
       "1             1   Z01779  PC NONE BRAND CORE I3 SET          1.0   \n",
       "\n",
       "  Incoming_Date         Warehouse  Incoming_Qty                   P/O_No  \\\n",
       "0    2020-01-03  PWI Consumer W/H           1.0  PWI1-ESP-PO-191227-0008   \n",
       "1    2020-01-03  PWI Consumer W/H           1.0  PWI1-ESP-PO-191227-0010   \n",
       "\n",
       "     PO_Date        RTD        RTA  P/O_Qty  Application_Date_Vs_Inv_Date  \\\n",
       "0 2019-12-27 2019-12-27 2019-12-27      1.0                             0   \n",
       "1 2019-12-27 2019-12-27 2019-12-27      1.0                             0   \n",
       "\n",
       "   Incoming Date_Vs_PO_Date  Incoming Date_Vs_RTD  Application_month  \\\n",
       "0                       7.0                   7.0                  1   \n",
       "1                       7.0                   7.0                  1   \n",
       "\n",
       "   Application_week  \n",
       "0                 1  \n",
       "1                 1  "
      ]
     },
     "execution_count": 136,
     "metadata": {},
     "output_type": "execute_result"
    }
   ],
   "source": [
    "df.head(2)"
   ]
  },
  {
   "cell_type": "code",
   "execution_count": null,
   "metadata": {},
   "outputs": [],
   "source": []
  },
  {
   "cell_type": "code",
   "execution_count": 153,
   "metadata": {},
   "outputs": [
    {
     "name": "stderr",
     "output_type": "stream",
     "text": [
      "C:\\Users\\VENKATESH\\AppData\\Local\\Programs\\Python\\Python37\\lib\\site-packages\\ipykernel_launcher.py:11: SettingWithCopyWarning: \n",
      "A value is trying to be set on a copy of a slice from a DataFrame.\n",
      "Try using .loc[row_indexer,col_indexer] = value instead\n",
      "\n",
      "See the caveats in the documentation: https://pandas.pydata.org/pandas-docs/stable/user_guide/indexing.html#returning-a-view-versus-a-copy\n",
      "  # This is added back by InteractiveShellApp.init_path()\n",
      "C:\\Users\\VENKATESH\\AppData\\Local\\Programs\\Python\\Python37\\lib\\site-packages\\ipykernel_launcher.py:12: SettingWithCopyWarning: \n",
      "A value is trying to be set on a copy of a slice from a DataFrame.\n",
      "Try using .loc[row_indexer,col_indexer] = value instead\n",
      "\n",
      "See the caveats in the documentation: https://pandas.pydata.org/pandas-docs/stable/user_guide/indexing.html#returning-a-view-versus-a-copy\n",
      "  if sys.path[0] == '':\n",
      "C:\\Users\\VENKATESH\\AppData\\Local\\Programs\\Python\\Python37\\lib\\site-packages\\ipykernel_launcher.py:13: SettingWithCopyWarning: \n",
      "A value is trying to be set on a copy of a slice from a DataFrame.\n",
      "Try using .loc[row_indexer,col_indexer] = value instead\n",
      "\n",
      "See the caveats in the documentation: https://pandas.pydata.org/pandas-docs/stable/user_guide/indexing.html#returning-a-view-versus-a-copy\n",
      "  del sys.path[0]\n",
      "C:\\Users\\VENKATESH\\AppData\\Local\\Programs\\Python\\Python37\\lib\\site-packages\\ipykernel_launcher.py:14: SettingWithCopyWarning: \n",
      "A value is trying to be set on a copy of a slice from a DataFrame.\n",
      "Try using .loc[row_indexer,col_indexer] = value instead\n",
      "\n",
      "See the caveats in the documentation: https://pandas.pydata.org/pandas-docs/stable/user_guide/indexing.html#returning-a-view-versus-a-copy\n",
      "  \n",
      "C:\\Users\\VENKATESH\\AppData\\Local\\Programs\\Python\\Python37\\lib\\site-packages\\ipykernel_launcher.py:15: SettingWithCopyWarning: \n",
      "A value is trying to be set on a copy of a slice from a DataFrame.\n",
      "Try using .loc[row_indexer,col_indexer] = value instead\n",
      "\n",
      "See the caveats in the documentation: https://pandas.pydata.org/pandas-docs/stable/user_guide/indexing.html#returning-a-view-versus-a-copy\n",
      "  from ipykernel import kernelapp as app\n",
      "C:\\Users\\VENKATESH\\AppData\\Local\\Programs\\Python\\Python37\\lib\\site-packages\\ipykernel_launcher.py:16: SettingWithCopyWarning: \n",
      "A value is trying to be set on a copy of a slice from a DataFrame.\n",
      "Try using .loc[row_indexer,col_indexer] = value instead\n",
      "\n",
      "See the caveats in the documentation: https://pandas.pydata.org/pandas-docs/stable/user_guide/indexing.html#returning-a-view-versus-a-copy\n",
      "  app.launch_new_instance()\n",
      "C:\\Users\\VENKATESH\\AppData\\Local\\Programs\\Python\\Python37\\lib\\site-packages\\ipykernel_launcher.py:17: SettingWithCopyWarning: \n",
      "A value is trying to be set on a copy of a slice from a DataFrame.\n",
      "Try using .loc[row_indexer,col_indexer] = value instead\n",
      "\n",
      "See the caveats in the documentation: https://pandas.pydata.org/pandas-docs/stable/user_guide/indexing.html#returning-a-view-versus-a-copy\n",
      "C:\\Users\\VENKATESH\\AppData\\Local\\Programs\\Python\\Python37\\lib\\site-packages\\ipykernel_launcher.py:18: SettingWithCopyWarning: \n",
      "A value is trying to be set on a copy of a slice from a DataFrame.\n",
      "Try using .loc[row_indexer,col_indexer] = value instead\n",
      "\n",
      "See the caveats in the documentation: https://pandas.pydata.org/pandas-docs/stable/user_guide/indexing.html#returning-a-view-versus-a-copy\n"
     ]
    },
    {
     "name": "stdout",
     "output_type": "stream",
     "text": [
      "Mean Absolute Error : 555.2100958575153\n",
      "Train Score : 0.9017475429867824\n",
      "Test Score : 0.7925042927551798\n"
     ]
    }
   ],
   "source": [
    "train_features = ['Application_date', 'Department', 'Supplier_Agency', 'Consumption_Dept',\n",
    "                        'Location', 'Invoice_Date', 'Material_Name', 'Warehouse']\n",
    "\n",
    "X=df[train_features]\n",
    "y=df['Invoice_Qty']\n",
    "\n",
    "\n",
    "from sklearn.preprocessing import LabelEncoder\n",
    "le=LabelEncoder()\n",
    "\n",
    "X['Department']=le.fit_transform(X['Department'])\n",
    "X['Supplier_Agency']=le.fit_transform(X['Supplier_Agency'])\n",
    "X['Consumption_Dept']=le.fit_transform(X['Consumption_Dept'])\n",
    "X['Location']=le.fit_transform(X['Location'])\n",
    "X['Material_Name']=le.fit_transform(X['Material_Name'])\n",
    "X['Warehouse']=le.fit_transform(X['Warehouse'])\n",
    "X['Invoice_Date']=le.fit_transform(X['Invoice_Date'])\n",
    "X['Application_date']=le.fit_transform(X['Application_date'])\n",
    "\n",
    "from sklearn.ensemble import RandomForestRegressor\n",
    "from sklearn.metrics import mean_absolute_error\n",
    "from sklearn.model_selection import train_test_split\n",
    "\n",
    "train_X, test_X, train_y, test_y = train_test_split(X, y,random_state = 0)\n",
    "\n",
    "\n",
    "\n",
    "\n",
    "forest_model = RandomForestRegressor(random_state=1)\n",
    "\n",
    "\n",
    "\n",
    "\n",
    "\n",
    "forest_model.fit(train_X, train_y)\n",
    "predict = forest_model.predict(test_X)\n",
    "print(f'Mean Absolute Error : {mean_absolute_error(test_y, predict)}')\n",
    "print(f'Train Score : {forest_model.score(train_X, train_y)}')\n",
    "print(f'Test Score : {forest_model.score(test_X, test_y)}')"
   ]
  },
  {
   "cell_type": "code",
   "execution_count": 166,
   "metadata": {},
   "outputs": [],
   "source": [
    "import matplotlib  as mpl\n",
    "mpl.rcParams['agg.path.chunksize']=10000"
   ]
  },
  {
   "cell_type": "code",
   "execution_count": 149,
   "metadata": {},
   "outputs": [
    {
     "data": {
      "text/plain": [
       "0.9012948389572684"
      ]
     },
     "execution_count": 149,
     "metadata": {},
     "output_type": "execute_result"
    }
   ],
   "source": [
    "forest_model.score(train_X, train_y)"
   ]
  },
  {
   "cell_type": "code",
   "execution_count": 157,
   "metadata": {},
   "outputs": [
    {
     "name": "stderr",
     "output_type": "stream",
     "text": [
      "C:\\Users\\VENKATESH\\AppData\\Local\\Programs\\Python\\Python37\\lib\\site-packages\\ipykernel_launcher.py:11: SettingWithCopyWarning: \n",
      "A value is trying to be set on a copy of a slice from a DataFrame.\n",
      "Try using .loc[row_indexer,col_indexer] = value instead\n",
      "\n",
      "See the caveats in the documentation: https://pandas.pydata.org/pandas-docs/stable/user_guide/indexing.html#returning-a-view-versus-a-copy\n",
      "  # This is added back by InteractiveShellApp.init_path()\n",
      "C:\\Users\\VENKATESH\\AppData\\Local\\Programs\\Python\\Python37\\lib\\site-packages\\ipykernel_launcher.py:12: SettingWithCopyWarning: \n",
      "A value is trying to be set on a copy of a slice from a DataFrame.\n",
      "Try using .loc[row_indexer,col_indexer] = value instead\n",
      "\n",
      "See the caveats in the documentation: https://pandas.pydata.org/pandas-docs/stable/user_guide/indexing.html#returning-a-view-versus-a-copy\n",
      "  if sys.path[0] == '':\n",
      "C:\\Users\\VENKATESH\\AppData\\Local\\Programs\\Python\\Python37\\lib\\site-packages\\ipykernel_launcher.py:13: SettingWithCopyWarning: \n",
      "A value is trying to be set on a copy of a slice from a DataFrame.\n",
      "Try using .loc[row_indexer,col_indexer] = value instead\n",
      "\n",
      "See the caveats in the documentation: https://pandas.pydata.org/pandas-docs/stable/user_guide/indexing.html#returning-a-view-versus-a-copy\n",
      "  del sys.path[0]\n",
      "C:\\Users\\VENKATESH\\AppData\\Local\\Programs\\Python\\Python37\\lib\\site-packages\\ipykernel_launcher.py:14: SettingWithCopyWarning: \n",
      "A value is trying to be set on a copy of a slice from a DataFrame.\n",
      "Try using .loc[row_indexer,col_indexer] = value instead\n",
      "\n",
      "See the caveats in the documentation: https://pandas.pydata.org/pandas-docs/stable/user_guide/indexing.html#returning-a-view-versus-a-copy\n",
      "  \n",
      "C:\\Users\\VENKATESH\\AppData\\Local\\Programs\\Python\\Python37\\lib\\site-packages\\ipykernel_launcher.py:15: SettingWithCopyWarning: \n",
      "A value is trying to be set on a copy of a slice from a DataFrame.\n",
      "Try using .loc[row_indexer,col_indexer] = value instead\n",
      "\n",
      "See the caveats in the documentation: https://pandas.pydata.org/pandas-docs/stable/user_guide/indexing.html#returning-a-view-versus-a-copy\n",
      "  from ipykernel import kernelapp as app\n",
      "C:\\Users\\VENKATESH\\AppData\\Local\\Programs\\Python\\Python37\\lib\\site-packages\\ipykernel_launcher.py:16: SettingWithCopyWarning: \n",
      "A value is trying to be set on a copy of a slice from a DataFrame.\n",
      "Try using .loc[row_indexer,col_indexer] = value instead\n",
      "\n",
      "See the caveats in the documentation: https://pandas.pydata.org/pandas-docs/stable/user_guide/indexing.html#returning-a-view-versus-a-copy\n",
      "  app.launch_new_instance()\n",
      "C:\\Users\\VENKATESH\\AppData\\Local\\Programs\\Python\\Python37\\lib\\site-packages\\ipykernel_launcher.py:17: SettingWithCopyWarning: \n",
      "A value is trying to be set on a copy of a slice from a DataFrame.\n",
      "Try using .loc[row_indexer,col_indexer] = value instead\n",
      "\n",
      "See the caveats in the documentation: https://pandas.pydata.org/pandas-docs/stable/user_guide/indexing.html#returning-a-view-versus-a-copy\n"
     ]
    },
    {
     "name": "stdout",
     "output_type": "stream",
     "text": [
      "ANALYSIS FOR MONTH\n",
      "Mean Absolute Error : 558.2065600818665\n",
      "Train Score : 0.9012948389572684\n",
      "Test Score : 0.768986990605733\n"
     ]
    }
   ],
   "source": [
    "train_features = ['Application_month', 'Department', 'Supplier_Agency', 'Consumption_Dept',\n",
    "                        'Location', 'Invoice_Date', 'Material_Name', 'Warehouse']\n",
    "\n",
    "X=df[train_features]\n",
    "y=df['Invoice_Qty']\n",
    "\n",
    "\n",
    "from sklearn.preprocessing import LabelEncoder\n",
    "le=LabelEncoder()\n",
    "\n",
    "X['Department']=le.fit_transform(X['Department'])\n",
    "X['Supplier_Agency']=le.fit_transform(X['Supplier_Agency'])\n",
    "X['Consumption_Dept']=le.fit_transform(X['Consumption_Dept'])\n",
    "X['Location']=le.fit_transform(X['Location'])\n",
    "X['Material_Name']=le.fit_transform(X['Material_Name'])\n",
    "X['Warehouse']=le.fit_transform(X['Warehouse'])\n",
    "X['Invoice_Date']=le.fit_transform(X['Invoice_Date'])\n",
    "\n",
    "from sklearn.ensemble import RandomForestRegressor\n",
    "from sklearn.metrics import mean_absolute_error\n",
    "from sklearn.model_selection import train_test_split\n",
    "\n",
    "train_X, test_X, train_y, test_y = train_test_split(X, y,random_state = 0)\n",
    "\n",
    "\n",
    "\n",
    "\n",
    "forest_model = RandomForestRegressor(random_state=1)\n",
    "\n",
    "\n",
    "\n",
    "\n",
    "\n",
    "forest_model.fit(train_X, train_y)\n",
    "predict = forest_model.predict(test_X)\n",
    "\n",
    "print(\"ANALYSIS FOR MONTH\")\n",
    "print(f'Mean Absolute Error : {mean_absolute_error(test_y, predict)}')\n",
    "print(f'Train Score : {forest_model.score(train_X, train_y)}')\n",
    "print(f'Test Score : {forest_model.score(test_X, test_y)}')\n",
    "\n",
    "\n",
    "\n"
   ]
  },
  {
   "cell_type": "code",
   "execution_count": 187,
   "metadata": {},
   "outputs": [
    {
     "name": "stderr",
     "output_type": "stream",
     "text": [
      "C:\\Users\\VENKATESH\\AppData\\Local\\Programs\\Python\\Python37\\lib\\site-packages\\seaborn\\_decorators.py:43: FutureWarning: Pass the following variables as keyword args: x, y. From version 0.12, the only valid positional argument will be `data`, and passing other arguments without an explicit keyword will result in an error or misinterpretation.\n",
      "  FutureWarning\n"
     ]
    },
    {
     "data": {
      "text/plain": [
       "<matplotlib.legend.Legend at 0x24624060c50>"
      ]
     },
     "execution_count": 187,
     "metadata": {},
     "output_type": "execute_result"
    },
    {
     "data": {
      "image/png": "[encoded data removed]",
      "text/plain": [
       "<Figure size 3600x1008 with 1 Axes>"
      ]
     },
     "metadata": {
      "needs_background": "light"
     },
     "output_type": "display_data"
    }
   ],
   "source": [
    "sns.lineplot(test_X.Application_month, test_y, label=\"Testing data\")\n",
    "\n",
    "plt.legend()"
   ]
  },
  {
   "cell_type": "code",
   "execution_count": 186,
   "metadata": {},
   "outputs": [
    {
     "name": "stderr",
     "output_type": "stream",
     "text": [
      "C:\\Users\\VENKATESH\\AppData\\Local\\Programs\\Python\\Python37\\lib\\site-packages\\seaborn\\_decorators.py:43: FutureWarning: Pass the following variables as keyword args: x, y. From version 0.12, the only valid positional argument will be `data`, and passing other arguments without an explicit keyword will result in an error or misinterpretation.\n",
      "  FutureWarning\n"
     ]
    },
    {
     "data": {
      "text/plain": [
       "<matplotlib.legend.Legend at 0x24622324ef0>"
      ]
     },
     "execution_count": 186,
     "metadata": {},
     "output_type": "execute_result"
    },
    {
     "data": {
      "image/png": "[encoded data removed]",
      "text/plain": [
       "<Figure size 3600x1008 with 1 Axes>"
      ]
     },
     "metadata": {
      "needs_background": "light"
     },
     "output_type": "display_data"
    }
   ],
   "source": [
    "sns.lineplot(test_X.Application_month, predict, label=\"Predict data\")\n",
    "\n",
    "plt.legend()"
   ]
  },
  {
   "cell_type": "code",
   "execution_count": null,
   "metadata": {},
   "outputs": [],
   "source": []
  },
  {
   "cell_type": "code",
   "execution_count": null,
   "metadata": {},
   "outputs": [],
   "source": []
  },
  {
   "cell_type": "code",
   "execution_count": null,
   "metadata": {},
   "outputs": [],
   "source": []
  },
  {
   "cell_type": "code",
   "execution_count": null,
   "metadata": {},
   "outputs": [],
   "source": []
  },
  {
   "cell_type": "code",
   "execution_count": null,
   "metadata": {},
   "outputs": [],
   "source": []
  },
  {
   "cell_type": "code",
   "execution_count": null,
   "metadata": {},
   "outputs": [],
   "source": []
  },
  {
   "cell_type": "code",
   "execution_count": null,
   "metadata": {},
   "outputs": [],
   "source": []
  }
 ],
 "metadata": {
  "kernelspec": {
   "display_name": "Python 3",
   "language": "python",
   "name": "python3"
  },
  "language_info": {
   "codemirror_mode": {
    "name": "ipython",
    "version": 3
   },
   "file_extension": ".py",
   "mimetype": "text/x-python",
   "name": "python",
   "nbconvert_exporter": "python",
   "pygments_lexer": "ipython3",
   "version": "3.7.3"
  }
 },
 "nbformat": 4,
 "nbformat_minor": 4
}
