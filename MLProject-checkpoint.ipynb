{
 "cells": [
  {
   "cell_type": "code",
   "execution_count": 1,
   "metadata": {},
   "outputs": [],
   "source": [
    "import pandas as pd\n",
    "import numpy as np\n",
    "import datetime"
   ]
  },
  {
   "cell_type": "code",
   "execution_count": 2,
   "metadata": {},
   "outputs": [],
   "source": [
    "path = \"C:/Users/VENKATESH/Desktop/CODE/data/SCM/data.csv\""
   ]
  },
  {
   "cell_type": "code",
   "execution_count": 64,
   "metadata": {},
   "outputs": [],
   "source": [
    "data=pd.read_csv(path, engine='python')"
   ]
  },
  {
   "cell_type": "code",
   "execution_count": 4,
   "metadata": {},
   "outputs": [
    {
     "data": {
      "text/plain": [
       "(409913, 23)"
      ]
     },
     "execution_count": 4,
     "metadata": {},
     "output_type": "execute_result"
    }
   ],
   "source": [
    "data.shape"
   ]
  },
  {
   "cell_type": "code",
   "execution_count": 8,
   "metadata": {},
   "outputs": [
    {
     "name": "stdout",
     "output_type": "stream",
     "text": [
      "<class 'pandas.core.frame.DataFrame'>\n",
      "RangeIndex: 409913 entries, 0 to 409912\n",
      "Data columns (total 23 columns):\n",
      " #   Column                        Non-Null Count   Dtype  \n",
      "---  ------                        --------------   -----  \n",
      " 0   Application Date              409913 non-null  object \n",
      " 1   Department                    409913 non-null  object \n",
      " 2   Consumption Dept.             409913 non-null  object \n",
      " 3   Accounting .Conf.Date         409913 non-null  object \n",
      " 4   Supplier Agency               409913 non-null  object \n",
      " 5   Location                      409913 non-null  object \n",
      " 6   Invoice Date                  409913 non-null  object \n",
      " 7   Supplier                      409913 non-null  object \n",
      " 8   Material Name                 409913 non-null  object \n",
      " 9   Unit                          409913 non-null  object \n",
      " 10  Invoice Qty                   351132 non-null  object \n",
      " 11  Incoming Date                 409856 non-null  object \n",
      " 12  PO YN                         409913 non-null  object \n",
      " 13  Warehouse                     409856 non-null  object \n",
      " 14  Incoming Qty                  409850 non-null  object \n",
      " 15  P/O No                        409913 non-null  object \n",
      " 16  PO Date                       408868 non-null  object \n",
      " 17  RTD                           408749 non-null  object \n",
      " 18  RTA                           408779 non-null  object \n",
      " 19  P/O Qty                       408868 non-null  object \n",
      " 20  Application Date Vs Inv Date  409913 non-null  int64  \n",
      " 21  Incoming Date Vs PO Date      408811 non-null  float64\n",
      " 22  Incoming Date Vs RTD          408603 non-null  float64\n",
      "dtypes: float64(2), int64(1), object(20)\n",
      "memory usage: 71.9+ MB\n"
     ]
    }
   ],
   "source": [
    "data.info()"
   ]
  },
  {
   "cell_type": "code",
   "execution_count": 44,
   "metadata": {},
   "outputs": [
    {
     "data": {
      "text/html": [
       "<div>\n",
       "<style scoped>\n",
       "    .dataframe tbody tr th:only-of-type {\n",
       "        vertical-align: middle;\n",
       "    }\n",
       "\n",
       "    .dataframe tbody tr th {\n",
       "        vertical-align: top;\n",
       "    }\n",
       "\n",
       "    .dataframe thead th {\n",
       "        text-align: right;\n",
       "    }\n",
       "</style>\n",
       "<table border=\"1\" class=\"dataframe\">\n",
       "  <thead>\n",
       "    <tr style=\"text-align: right;\">\n",
       "      <th></th>\n",
       "      <th>Application Date</th>\n",
       "      <th>Department</th>\n",
       "      <th>Consumption Dept.</th>\n",
       "      <th>Accounting .Conf.Date</th>\n",
       "      <th>Supplier Agency</th>\n",
       "      <th>Location</th>\n",
       "      <th>Invoice Date</th>\n",
       "      <th>Supplier</th>\n",
       "      <th>Material Name</th>\n",
       "      <th>Unit</th>\n",
       "      <th>...</th>\n",
       "      <th>Warehouse</th>\n",
       "      <th>Incoming Qty</th>\n",
       "      <th>P/O No</th>\n",
       "      <th>PO Date</th>\n",
       "      <th>RTD</th>\n",
       "      <th>RTA</th>\n",
       "      <th>P/O Qty</th>\n",
       "      <th>Application Date Vs Inv Date</th>\n",
       "      <th>Incoming Date Vs PO Date</th>\n",
       "      <th>Incoming Date Vs RTD</th>\n",
       "    </tr>\n",
       "  </thead>\n",
       "  <tbody>\n",
       "    <tr>\n",
       "      <th>0</th>\n",
       "      <td>2020/01/03</td>\n",
       "      <td>IT</td>\n",
       "      <td>DEVELOPMENT ( ADM )</td>\n",
       "      <td>20200212</td>\n",
       "      <td>Z01779</td>\n",
       "      <td>Local</td>\n",
       "      <td>2020/01/03</td>\n",
       "      <td>Z01779</td>\n",
       "      <td>MOUSE LOGITECH B100</td>\n",
       "      <td>UNIT</td>\n",
       "      <td>...</td>\n",
       "      <td>PWI Consumer W/H</td>\n",
       "      <td>1</td>\n",
       "      <td>PWI1-ESP-PO-191227-0008</td>\n",
       "      <td>2019/12/27</td>\n",
       "      <td>2019/12/27</td>\n",
       "      <td>2019/12/27</td>\n",
       "      <td>1</td>\n",
       "      <td>0</td>\n",
       "      <td>7.0</td>\n",
       "      <td>7.0</td>\n",
       "    </tr>\n",
       "    <tr>\n",
       "      <th>1</th>\n",
       "      <td>2020/01/03</td>\n",
       "      <td>IT</td>\n",
       "      <td>LABORAT</td>\n",
       "      <td>20200212</td>\n",
       "      <td>Z01779</td>\n",
       "      <td>Local</td>\n",
       "      <td>2020/01/03</td>\n",
       "      <td>Z01779</td>\n",
       "      <td>PC NONE BRAND CORE I3 SET</td>\n",
       "      <td>UNIT</td>\n",
       "      <td>...</td>\n",
       "      <td>PWI Consumer W/H</td>\n",
       "      <td>1</td>\n",
       "      <td>PWI1-ESP-PO-191227-0010</td>\n",
       "      <td>2019/12/27</td>\n",
       "      <td>2019/12/27</td>\n",
       "      <td>2019/12/27</td>\n",
       "      <td>1</td>\n",
       "      <td>0</td>\n",
       "      <td>7.0</td>\n",
       "      <td>7.0</td>\n",
       "    </tr>\n",
       "    <tr>\n",
       "      <th>2</th>\n",
       "      <td>2020/01/03</td>\n",
       "      <td>IT</td>\n",
       "      <td>PURCHASING</td>\n",
       "      <td>20200212</td>\n",
       "      <td>Z01779</td>\n",
       "      <td>Local</td>\n",
       "      <td>2020/01/03</td>\n",
       "      <td>Z01779</td>\n",
       "      <td>MOUSE LOGITECH B100</td>\n",
       "      <td>UNIT</td>\n",
       "      <td>...</td>\n",
       "      <td>PWI Consumer W/H</td>\n",
       "      <td>1</td>\n",
       "      <td>PWI1-ESP-PO-191227-0006</td>\n",
       "      <td>2019/12/27</td>\n",
       "      <td>2019/12/27</td>\n",
       "      <td>2019/12/27</td>\n",
       "      <td>1</td>\n",
       "      <td>0</td>\n",
       "      <td>7.0</td>\n",
       "      <td>7.0</td>\n",
       "    </tr>\n",
       "    <tr>\n",
       "      <th>3</th>\n",
       "      <td>2020/01/03</td>\n",
       "      <td>IT</td>\n",
       "      <td>FACTORY.1</td>\n",
       "      <td>20200212</td>\n",
       "      <td>Z01779</td>\n",
       "      <td>Local</td>\n",
       "      <td>2020/01/03</td>\n",
       "      <td>Z01779</td>\n",
       "      <td>MINI PC ASUS VM62-4030 PLUS</td>\n",
       "      <td>SET</td>\n",
       "      <td>...</td>\n",
       "      <td>PWI Consumer W/H</td>\n",
       "      <td>1</td>\n",
       "      <td>PWI1-ESP-PO-191227-0005</td>\n",
       "      <td>2019/12/27</td>\n",
       "      <td>2019/12/27</td>\n",
       "      <td>2019/12/27</td>\n",
       "      <td>1</td>\n",
       "      <td>0</td>\n",
       "      <td>7.0</td>\n",
       "      <td>7.0</td>\n",
       "    </tr>\n",
       "    <tr>\n",
       "      <th>4</th>\n",
       "      <td>2020/01/03</td>\n",
       "      <td>IT</td>\n",
       "      <td>FACTORY. 2 ( MEKANIK )</td>\n",
       "      <td>20200212</td>\n",
       "      <td>Z01779</td>\n",
       "      <td>Local</td>\n",
       "      <td>2020/01/03</td>\n",
       "      <td>Z01779</td>\n",
       "      <td>MAINBOARD H81M-SP2H</td>\n",
       "      <td>PCS</td>\n",
       "      <td>...</td>\n",
       "      <td>PWI Consumer W/H</td>\n",
       "      <td>1</td>\n",
       "      <td>PWI1-ESP-PO-191219-0004</td>\n",
       "      <td>2019/12/19</td>\n",
       "      <td>2019/12/19</td>\n",
       "      <td>2019/12/19</td>\n",
       "      <td>1</td>\n",
       "      <td>0</td>\n",
       "      <td>15.0</td>\n",
       "      <td>15.0</td>\n",
       "    </tr>\n",
       "    <tr>\n",
       "      <th>...</th>\n",
       "      <td>...</td>\n",
       "      <td>...</td>\n",
       "      <td>...</td>\n",
       "      <td>...</td>\n",
       "      <td>...</td>\n",
       "      <td>...</td>\n",
       "      <td>...</td>\n",
       "      <td>...</td>\n",
       "      <td>...</td>\n",
       "      <td>...</td>\n",
       "      <td>...</td>\n",
       "      <td>...</td>\n",
       "      <td>...</td>\n",
       "      <td>...</td>\n",
       "      <td>...</td>\n",
       "      <td>...</td>\n",
       "      <td>...</td>\n",
       "      <td>...</td>\n",
       "      <td>...</td>\n",
       "      <td>...</td>\n",
       "      <td>...</td>\n",
       "    </tr>\n",
       "    <tr>\n",
       "      <th>409908</th>\n",
       "      <td>2020/12/31</td>\n",
       "      <td>PURCHASING</td>\n",
       "      <td>PURCHASING</td>\n",
       "      <td>20210107</td>\n",
       "      <td>E00003</td>\n",
       "      <td>Import</td>\n",
       "      <td>2020/12/04</td>\n",
       "      <td>B00052</td>\n",
       "      <td>DJT 2836 JC MESH II PRIMEBLUE - EPM 5</td>\n",
       "      <td>M</td>\n",
       "      <td>...</td>\n",
       "      <td>PWI Mat W/H(Main)</td>\n",
       "      <td>15</td>\n",
       "      <td>PWI1-PFO-UO-201126-0030</td>\n",
       "      <td>2020/11/26</td>\n",
       "      <td>2020/11/27</td>\n",
       "      <td>2020/12/11</td>\n",
       "      <td>15</td>\n",
       "      <td>27</td>\n",
       "      <td>25.0</td>\n",
       "      <td>24.0</td>\n",
       "    </tr>\n",
       "    <tr>\n",
       "      <th>409909</th>\n",
       "      <td>2020/12/11</td>\n",
       "      <td>PURCHASING</td>\n",
       "      <td>PURCHASING</td>\n",
       "      <td>20201223</td>\n",
       "      <td>E00003</td>\n",
       "      <td>Import</td>\n",
       "      <td>2020/11/28</td>\n",
       "      <td>B00362</td>\n",
       "      <td>HF SD 10641 CDP-P - EPM 5</td>\n",
       "      <td>YARD</td>\n",
       "      <td>...</td>\n",
       "      <td>PWI Mat W/H(Main)</td>\n",
       "      <td>2</td>\n",
       "      <td>PWI1-PRD-UO-201114-0042</td>\n",
       "      <td>2020/11/14</td>\n",
       "      <td>2020/11/27</td>\n",
       "      <td>2020/12/11</td>\n",
       "      <td>2</td>\n",
       "      <td>13</td>\n",
       "      <td>23.0</td>\n",
       "      <td>10.0</td>\n",
       "    </tr>\n",
       "    <tr>\n",
       "      <th>409910</th>\n",
       "      <td>2020/12/23</td>\n",
       "      <td>PURCHASING</td>\n",
       "      <td>PURCHASING</td>\n",
       "      <td>20210106</td>\n",
       "      <td>E00003</td>\n",
       "      <td>Import</td>\n",
       "      <td>2020/12/18</td>\n",
       "      <td>B00362</td>\n",
       "      <td>HF ZJ 584 N</td>\n",
       "      <td>YARD</td>\n",
       "      <td>...</td>\n",
       "      <td>PWI Mat W/H(Main)</td>\n",
       "      <td>25</td>\n",
       "      <td>PWI1-PRD-UO-201201-0012</td>\n",
       "      <td>2020/12/01</td>\n",
       "      <td>2020/12/21</td>\n",
       "      <td>2021/01/04</td>\n",
       "      <td>25</td>\n",
       "      <td>5</td>\n",
       "      <td>27.0</td>\n",
       "      <td>7.0</td>\n",
       "    </tr>\n",
       "    <tr>\n",
       "      <th>409911</th>\n",
       "      <td>2020/12/23</td>\n",
       "      <td>PURCHASING</td>\n",
       "      <td>PURCHASING</td>\n",
       "      <td>20210106</td>\n",
       "      <td>E00003</td>\n",
       "      <td>Import</td>\n",
       "      <td>2020/12/18</td>\n",
       "      <td>Z01141</td>\n",
       "      <td>1180 AU E TPU X 25 130 BLK STM BASF (PUREBOOST...</td>\n",
       "      <td>PRS</td>\n",
       "      <td>...</td>\n",
       "      <td>PWI Mat W/H(Main)</td>\n",
       "      <td>8</td>\n",
       "      <td>PWI1-PRD-UO-201031-0034</td>\n",
       "      <td>2020/10/31</td>\n",
       "      <td>2020/11/27</td>\n",
       "      <td>2020/12/11</td>\n",
       "      <td>8</td>\n",
       "      <td>5</td>\n",
       "      <td>58.0</td>\n",
       "      <td>31.0</td>\n",
       "    </tr>\n",
       "    <tr>\n",
       "      <th>409912</th>\n",
       "      <td>2020/12/11</td>\n",
       "      <td>PURCHASING</td>\n",
       "      <td>PURCHASING</td>\n",
       "      <td>20201223</td>\n",
       "      <td>E00003</td>\n",
       "      <td>Import</td>\n",
       "      <td>2020/12/05</td>\n",
       "      <td>B00362</td>\n",
       "      <td>HF SD 10641 P EPM 5</td>\n",
       "      <td>YARD</td>\n",
       "      <td>...</td>\n",
       "      <td>PWI Mat W/H(Main)</td>\n",
       "      <td>178</td>\n",
       "      <td>PWI1-PRD-UO-201114-0042</td>\n",
       "      <td>2020/11/14</td>\n",
       "      <td>2020/11/27</td>\n",
       "      <td>2020/12/11</td>\n",
       "      <td>178</td>\n",
       "      <td>6</td>\n",
       "      <td>30.0</td>\n",
       "      <td>17.0</td>\n",
       "    </tr>\n",
       "  </tbody>\n",
       "</table>\n",
       "<p>409913 rows × 23 columns</p>\n",
       "</div>"
      ],
      "text/plain": [
       "       Application Date  Department       Consumption Dept.  \\\n",
       "0            2020/01/03          IT     DEVELOPMENT ( ADM )   \n",
       "1            2020/01/03          IT                 LABORAT   \n",
       "2            2020/01/03          IT              PURCHASING   \n",
       "3            2020/01/03          IT               FACTORY.1   \n",
       "4            2020/01/03          IT  FACTORY. 2 ( MEKANIK )   \n",
       "...                 ...         ...                     ...   \n",
       "409908       2020/12/31  PURCHASING              PURCHASING   \n",
       "409909       2020/12/11  PURCHASING              PURCHASING   \n",
       "409910       2020/12/23  PURCHASING              PURCHASING   \n",
       "409911       2020/12/23  PURCHASING              PURCHASING   \n",
       "409912       2020/12/11  PURCHASING              PURCHASING   \n",
       "\n",
       "       Accounting .Conf.Date Supplier Agency Location Invoice Date Supplier  \\\n",
       "0                   20200212          Z01779    Local   2020/01/03   Z01779   \n",
       "1                   20200212          Z01779    Local   2020/01/03   Z01779   \n",
       "2                   20200212          Z01779    Local   2020/01/03   Z01779   \n",
       "3                   20200212          Z01779    Local   2020/01/03   Z01779   \n",
       "4                   20200212          Z01779    Local   2020/01/03   Z01779   \n",
       "...                      ...             ...      ...          ...      ...   \n",
       "409908              20210107          E00003   Import   2020/12/04   B00052   \n",
       "409909              20201223          E00003   Import   2020/11/28   B00362   \n",
       "409910              20210106          E00003   Import   2020/12/18   B00362   \n",
       "409911              20210106          E00003   Import   2020/12/18   Z01141   \n",
       "409912              20201223          E00003   Import   2020/12/05   B00362   \n",
       "\n",
       "                                            Material Name  Unit  ...  \\\n",
       "0                                     MOUSE LOGITECH B100  UNIT  ...   \n",
       "1                               PC NONE BRAND CORE I3 SET  UNIT  ...   \n",
       "2                                     MOUSE LOGITECH B100  UNIT  ...   \n",
       "3                             MINI PC ASUS VM62-4030 PLUS   SET  ...   \n",
       "4                                     MAINBOARD H81M-SP2H   PCS  ...   \n",
       "...                                                   ...   ...  ...   \n",
       "409908              DJT 2836 JC MESH II PRIMEBLUE - EPM 5     M  ...   \n",
       "409909                          HF SD 10641 CDP-P - EPM 5  YARD  ...   \n",
       "409910                                        HF ZJ 584 N  YARD  ...   \n",
       "409911  1180 AU E TPU X 25 130 BLK STM BASF (PUREBOOST...   PRS  ...   \n",
       "409912                                HF SD 10641 P EPM 5  YARD  ...   \n",
       "\n",
       "                Warehouse Incoming Qty                   P/O No     PO Date  \\\n",
       "0        PWI Consumer W/H            1  PWI1-ESP-PO-191227-0008  2019/12/27   \n",
       "1        PWI Consumer W/H            1  PWI1-ESP-PO-191227-0010  2019/12/27   \n",
       "2        PWI Consumer W/H            1  PWI1-ESP-PO-191227-0006  2019/12/27   \n",
       "3        PWI Consumer W/H            1  PWI1-ESP-PO-191227-0005  2019/12/27   \n",
       "4        PWI Consumer W/H            1  PWI1-ESP-PO-191219-0004  2019/12/19   \n",
       "...                   ...          ...                      ...         ...   \n",
       "409908  PWI Mat W/H(Main)           15  PWI1-PFO-UO-201126-0030  2020/11/26   \n",
       "409909  PWI Mat W/H(Main)            2  PWI1-PRD-UO-201114-0042  2020/11/14   \n",
       "409910  PWI Mat W/H(Main)           25  PWI1-PRD-UO-201201-0012  2020/12/01   \n",
       "409911  PWI Mat W/H(Main)            8  PWI1-PRD-UO-201031-0034  2020/10/31   \n",
       "409912  PWI Mat W/H(Main)          178  PWI1-PRD-UO-201114-0042  2020/11/14   \n",
       "\n",
       "               RTD         RTA P/O Qty Application Date Vs Inv Date  \\\n",
       "0       2019/12/27  2019/12/27       1                            0   \n",
       "1       2019/12/27  2019/12/27       1                            0   \n",
       "2       2019/12/27  2019/12/27       1                            0   \n",
       "3       2019/12/27  2019/12/27       1                            0   \n",
       "4       2019/12/19  2019/12/19       1                            0   \n",
       "...            ...         ...     ...                          ...   \n",
       "409908  2020/11/27  2020/12/11      15                           27   \n",
       "409909  2020/11/27  2020/12/11       2                           13   \n",
       "409910  2020/12/21  2021/01/04      25                            5   \n",
       "409911  2020/11/27  2020/12/11       8                            5   \n",
       "409912  2020/11/27  2020/12/11     178                            6   \n",
       "\n",
       "       Incoming Date Vs PO Date Incoming Date Vs RTD  \n",
       "0                           7.0                  7.0  \n",
       "1                           7.0                  7.0  \n",
       "2                           7.0                  7.0  \n",
       "3                           7.0                  7.0  \n",
       "4                          15.0                 15.0  \n",
       "...                         ...                  ...  \n",
       "409908                     25.0                 24.0  \n",
       "409909                     23.0                 10.0  \n",
       "409910                     27.0                  7.0  \n",
       "409911                     58.0                 31.0  \n",
       "409912                     30.0                 17.0  \n",
       "\n",
       "[409913 rows x 23 columns]"
      ]
     },
     "execution_count": 44,
     "metadata": {},
     "output_type": "execute_result"
    }
   ],
   "source": [
    "data"
   ]
  },
  {
   "cell_type": "code",
   "execution_count": 7,
   "metadata": {},
   "outputs": [
    {
     "data": {
      "text/html": [
       "<div>\n",
       "<style scoped>\n",
       "    .dataframe tbody tr th:only-of-type {\n",
       "        vertical-align: middle;\n",
       "    }\n",
       "\n",
       "    .dataframe tbody tr th {\n",
       "        vertical-align: top;\n",
       "    }\n",
       "\n",
       "    .dataframe thead th {\n",
       "        text-align: right;\n",
       "    }\n",
       "</style>\n",
       "<table border=\"1\" class=\"dataframe\">\n",
       "  <thead>\n",
       "    <tr style=\"text-align: right;\">\n",
       "      <th></th>\n",
       "      <th>Application Date Vs Inv Date</th>\n",
       "      <th>Incoming Date Vs PO Date</th>\n",
       "      <th>Incoming Date Vs RTD</th>\n",
       "    </tr>\n",
       "  </thead>\n",
       "  <tbody>\n",
       "    <tr>\n",
       "      <th>count</th>\n",
       "      <td>409913.000000</td>\n",
       "      <td>408811.000000</td>\n",
       "      <td>408603.000000</td>\n",
       "    </tr>\n",
       "    <tr>\n",
       "      <th>mean</th>\n",
       "      <td>9.274666</td>\n",
       "      <td>25.911910</td>\n",
       "      <td>17.757598</td>\n",
       "    </tr>\n",
       "    <tr>\n",
       "      <th>std</th>\n",
       "      <td>13.895989</td>\n",
       "      <td>24.668031</td>\n",
       "      <td>24.045294</td>\n",
       "    </tr>\n",
       "    <tr>\n",
       "      <th>min</th>\n",
       "      <td>-341.000000</td>\n",
       "      <td>-160.000000</td>\n",
       "      <td>-223.000000</td>\n",
       "    </tr>\n",
       "    <tr>\n",
       "      <th>25%</th>\n",
       "      <td>3.000000</td>\n",
       "      <td>9.000000</td>\n",
       "      <td>4.000000</td>\n",
       "    </tr>\n",
       "    <tr>\n",
       "      <th>50%</th>\n",
       "      <td>7.000000</td>\n",
       "      <td>22.000000</td>\n",
       "      <td>14.000000</td>\n",
       "    </tr>\n",
       "    <tr>\n",
       "      <th>75%</th>\n",
       "      <td>12.000000</td>\n",
       "      <td>36.000000</td>\n",
       "      <td>26.000000</td>\n",
       "    </tr>\n",
       "    <tr>\n",
       "      <th>max</th>\n",
       "      <td>392.000000</td>\n",
       "      <td>426.000000</td>\n",
       "      <td>489.000000</td>\n",
       "    </tr>\n",
       "  </tbody>\n",
       "</table>\n",
       "</div>"
      ],
      "text/plain": [
       "       Application Date Vs Inv Date  Incoming Date Vs PO Date  \\\n",
       "count                 409913.000000             408811.000000   \n",
       "mean                       9.274666                 25.911910   \n",
       "std                       13.895989                 24.668031   \n",
       "min                     -341.000000               -160.000000   \n",
       "25%                        3.000000                  9.000000   \n",
       "50%                        7.000000                 22.000000   \n",
       "75%                       12.000000                 36.000000   \n",
       "max                      392.000000                426.000000   \n",
       "\n",
       "       Incoming Date Vs RTD  \n",
       "count         408603.000000  \n",
       "mean              17.757598  \n",
       "std               24.045294  \n",
       "min             -223.000000  \n",
       "25%                4.000000  \n",
       "50%               14.000000  \n",
       "75%               26.000000  \n",
       "max              489.000000  "
      ]
     },
     "execution_count": 7,
     "metadata": {},
     "output_type": "execute_result"
    }
   ],
   "source": [
    "data.describe()"
   ]
  },
  {
   "cell_type": "code",
   "execution_count": 8,
   "metadata": {},
   "outputs": [],
   "source": [
    "x=data['Incoming Date Vs PO Date'].unique()"
   ]
  },
  {
   "cell_type": "code",
   "execution_count": 74,
   "metadata": {},
   "outputs": [
    {
     "data": {
      "text/plain": [
       "numpy.ndarray"
      ]
     },
     "execution_count": 74,
     "metadata": {},
     "output_type": "execute_result"
    }
   ],
   "source": [
    "type(x)"
   ]
  },
  {
   "cell_type": "code",
   "execution_count": 42,
   "metadata": {},
   "outputs": [
    {
     "data": {
      "text/plain": [
       "pandas.core.frame.DataFrame"
      ]
     },
     "execution_count": 42,
     "metadata": {},
     "output_type": "execute_result"
    }
   ],
   "source": [
    "type(data)"
   ]
  },
  {
   "cell_type": "code",
   "execution_count": 43,
   "metadata": {},
   "outputs": [],
   "source": [
    "Unique=pd.DataFrame()"
   ]
  },
  {
   "cell_type": "code",
   "execution_count": 85,
   "metadata": {},
   "outputs": [
    {
     "data": {
      "text/html": [
       "<div>\n",
       "<style scoped>\n",
       "    .dataframe tbody tr th:only-of-type {\n",
       "        vertical-align: middle;\n",
       "    }\n",
       "\n",
       "    .dataframe tbody tr th {\n",
       "        vertical-align: top;\n",
       "    }\n",
       "\n",
       "    .dataframe thead th {\n",
       "        text-align: right;\n",
       "    }\n",
       "</style>\n",
       "<table border=\"1\" class=\"dataframe\">\n",
       "  <thead>\n",
       "    <tr style=\"text-align: right;\">\n",
       "      <th></th>\n",
       "      <th>0</th>\n",
       "      <th>1</th>\n",
       "      <th>2</th>\n",
       "      <th>3</th>\n",
       "      <th>4</th>\n",
       "      <th>5</th>\n",
       "      <th>6</th>\n",
       "      <th>7</th>\n",
       "      <th>8</th>\n",
       "      <th>9</th>\n",
       "      <th>10</th>\n",
       "      <th>11</th>\n",
       "      <th>12</th>\n",
       "      <th>13</th>\n",
       "      <th>14</th>\n",
       "    </tr>\n",
       "  </thead>\n",
       "  <tbody>\n",
       "    <tr>\n",
       "      <th>Name</th>\n",
       "      <td>IT</td>\n",
       "      <td>DEV. MOLD(OFF)</td>\n",
       "      <td>DEV. COMMERZ</td>\n",
       "      <td>S-IT</td>\n",
       "      <td>PLAN</td>\n",
       "      <td>MEK SEWING</td>\n",
       "      <td>PURCHASING</td>\n",
       "      <td>MARKETING</td>\n",
       "      <td>ENGINEERING</td>\n",
       "      <td>PLAN SUPPORT</td>\n",
       "      <td>DEV. SAMPLE</td>\n",
       "      <td>SIT</td>\n",
       "      <td>HRD</td>\n",
       "      <td>STRATEGIC PLAN</td>\n",
       "      <td>DEV. ADM</td>\n",
       "    </tr>\n",
       "  </tbody>\n",
       "</table>\n",
       "</div>"
      ],
      "text/plain": [
       "      0               1             2     3     4           5           6   \\\n",
       "Name  IT  DEV. MOLD(OFF)  DEV. COMMERZ  S-IT  PLAN  MEK SEWING  PURCHASING   \n",
       "\n",
       "             7            8             9            10   11   12  \\\n",
       "Name  MARKETING  ENGINEERING  PLAN SUPPORT  DEV. SAMPLE  SIT  HRD   \n",
       "\n",
       "                  13        14  \n",
       "Name  STRATEGIC PLAN  DEV. ADM  "
      ]
     },
     "execution_count": 85,
     "metadata": {},
     "output_type": "execute_result"
    }
   ],
   "source": [
    "Unique.append(x)"
   ]
  },
  {
   "cell_type": "code",
   "execution_count": 83,
   "metadata": {},
   "outputs": [],
   "source": [
    "x=pd.Series(x, name='Name')"
   ]
  },
  {
   "cell_type": "code",
   "execution_count": 9,
   "metadata": {},
   "outputs": [
    {
     "data": {
      "text/plain": [
       "array([   7.,   15.,   57.,    8.,   nan,   14.,    3.,   47.,   25.,\n",
       "         16.,    6.,    2.,    5.,   31.,  -16.,    0.,   24.,   17.,\n",
       "         10.,   62.,   48.,   35.,   29.,   19.,   21.,   20.,   18.,\n",
       "         53.,   50.,   39.,   64.,   33.,   30.,   26.,   27.,   22.,\n",
       "         28.,   34.,    1.,   13.,   23.,  130.,   97.,  107.,   66.,\n",
       "         98.,   45.,   43.,    9.,    4.,   63.,   60.,   77.,   46.,\n",
       "         38.,   12.,   36.,   52.,   74.,   87.,   80.,   75.,   56.,\n",
       "         49.,   51.,   32.,   11.,   90.,   68.,   61.,   55.,   54.,\n",
       "         41.,   67.,   40.,   37.,  -11.,   -6.,   42.,   -1.,  133.,\n",
       "         72.,   83.,   86.,  111.,  102.,  121.,   89.,   44.,  123.,\n",
       "         91.,   58.,   84.,   79.,   -4.,   69.,   -8.,  136.,  171.,\n",
       "        109.,   76.,  101.,   73.,   82.,  149.,  139.,  141.,  110.,\n",
       "        100.,   95.,   59.,   93.,  170.,  119.,  103.,   65.,   -2.,\n",
       "         -9.,   -5.,  -21.,  -10.,  117.,  140.,  148.,  -17.,  -13.,\n",
       "        -44.,   96.,   81., -160.,  118.,   70.,   78.,  160.,  108.,\n",
       "        124.,  112.,   88.,  116.,   94.,  154.,  151.,  -12.,   -7.,\n",
       "        105.,   99.,  104.,  114.,  115.,   -3.,  -20.,  -39.,  155.,\n",
       "        -15.,  126.,   71.,  -14.,  -22.,  -19.,  156.,  -33.,  -28.,\n",
       "       -117.,  -18.,  135.,  176.,  167.,  209.,  181.,  157.,  143.,\n",
       "        129.,  182.,  153.,   85.,  113.,  202.,  127.,  -27.,  183.,\n",
       "        159.,  -24.,  199.,  178.,  218.,  203.,  238.,  150.,  215.,\n",
       "         92.,  194.,  180.,  -41.,  173.,  161.,  125.,  131.,  206.,\n",
       "        165.,  169.,  134.,  216.,  175.,  164.,  128.,  132.,  106.,\n",
       "        234.,  237.,  122.,  137.,  195.,  147.,  373.,  288.,  120.,\n",
       "        -26.,  298.,  -55.,  276.,  -23.,  146.,  230.,  225.,  158.,\n",
       "        236.,  138.,  144.,  204.,  -31.,  300.,  388.,  -25.,  200.,\n",
       "        145.,  -36.,  142.,  186.,  179.,  313.,  172.,  166.,  -29.,\n",
       "        162.,  152.,  254.,  227.,  239.,  223.,  268.,  177.,  163.,\n",
       "        362.,  426.,  191.,  190.,  189.,  348.,  284.,  196.,  330.,\n",
       "        320.,  248.,  273.,  188.,  391.,  -32.,  193.,  187.,  217.,\n",
       "        207.,  244.,  174.,  309.,  210.,  -70.,  -30.,  224.,  249.,\n",
       "        213.,  197.,  214.])"
      ]
     },
     "execution_count": 9,
     "metadata": {},
     "output_type": "execute_result"
    }
   ],
   "source": [
    "x"
   ]
  },
  {
   "cell_type": "code",
   "execution_count": 71,
   "metadata": {},
   "outputs": [
    {
     "data": {
      "text/html": [
       "<div>\n",
       "<style scoped>\n",
       "    .dataframe tbody tr th:only-of-type {\n",
       "        vertical-align: middle;\n",
       "    }\n",
       "\n",
       "    .dataframe tbody tr th {\n",
       "        vertical-align: top;\n",
       "    }\n",
       "\n",
       "    .dataframe thead th {\n",
       "        text-align: right;\n",
       "    }\n",
       "</style>\n",
       "<table border=\"1\" class=\"dataframe\">\n",
       "  <thead>\n",
       "    <tr style=\"text-align: right;\">\n",
       "      <th></th>\n",
       "    </tr>\n",
       "  </thead>\n",
       "  <tbody>\n",
       "  </tbody>\n",
       "</table>\n",
       "</div>"
      ],
      "text/plain": [
       "Empty DataFrame\n",
       "Columns: []\n",
       "Index: []"
      ]
     },
     "execution_count": 71,
     "metadata": {},
     "output_type": "execute_result"
    }
   ],
   "source": [
    "Unique.head()"
   ]
  },
  {
   "cell_type": "code",
   "execution_count": 21,
   "metadata": {},
   "outputs": [
    {
     "data": {
      "text/plain": [
       "0     0\n",
       "1     0\n",
       "2     0\n",
       "3     0\n",
       "4     0\n",
       "     ..\n",
       "95    8\n",
       "96    8\n",
       "97    8\n",
       "98    8\n",
       "99    8\n",
       "Name: Application Date Vs Inv Date, Length: 100, dtype: int64"
      ]
     },
     "execution_count": 21,
     "metadata": {},
     "output_type": "execute_result"
    }
   ],
   "source": [
    "data['Application Date Vs Inv Date'].head(100)"
   ]
  },
  {
   "cell_type": "code",
   "execution_count": 10,
   "metadata": {},
   "outputs": [
    {
     "data": {
      "text/plain": [
       "0       1\n",
       "1       1\n",
       "2       1\n",
       "3       1\n",
       "4       1\n",
       "       ..\n",
       "995    17\n",
       "996    15\n",
       "997    35\n",
       "998    15\n",
       "999    19\n",
       "Name: P/O Qty, Length: 1000, dtype: object"
      ]
     },
     "execution_count": 10,
     "metadata": {},
     "output_type": "execute_result"
    }
   ],
   "source": [
    "data['P/O Qty'].head(1000)"
   ]
  },
  {
   "cell_type": "code",
   "execution_count": 11,
   "metadata": {},
   "outputs": [
    {
     "data": {
      "text/plain": [
       "0        1\n",
       "1        1\n",
       "2        1\n",
       "3        1\n",
       "4        1\n",
       "      ... \n",
       "995     17\n",
       "996     50\n",
       "997    NaN\n",
       "998     15\n",
       "999     19\n",
       "Name: Invoice Qty, Length: 1000, dtype: object"
      ]
     },
     "execution_count": 11,
     "metadata": {},
     "output_type": "execute_result"
    }
   ],
   "source": [
    "data['Invoice Qty'].head(1000)"
   ]
  },
  {
   "cell_type": "code",
   "execution_count": 8,
   "metadata": {},
   "outputs": [
    {
     "data": {
      "text/plain": [
       "0            1\n",
       "1            1\n",
       "2            1\n",
       "3            1\n",
       "4            1\n",
       "        ...   \n",
       "95          40\n",
       "96         757\n",
       "97         120\n",
       "98    9,618.00\n",
       "99         200\n",
       "Name: Incoming Qty, Length: 100, dtype: object"
      ]
     },
     "execution_count": 8,
     "metadata": {},
     "output_type": "execute_result"
    }
   ],
   "source": [
    "data['Incoming Qty'].head(100)"
   ]
  },
  {
   "cell_type": "code",
   "execution_count": 27,
   "metadata": {},
   "outputs": [
    {
     "data": {
      "text/plain": [
       "0     UNIT\n",
       "1     UNIT\n",
       "2     UNIT\n",
       "3      SET\n",
       "4      PCS\n",
       "      ... \n",
       "95     PRS\n",
       "96     PRS\n",
       "97     PRS\n",
       "98     PRS\n",
       "99     PRS\n",
       "Name: Unit, Length: 100, dtype: object"
      ]
     },
     "execution_count": 27,
     "metadata": {},
     "output_type": "execute_result"
    }
   ],
   "source": [
    "data['Unit'].head(100)"
   ]
  },
  {
   "cell_type": "code",
   "execution_count": 11,
   "metadata": {},
   "outputs": [
    {
     "data": {
      "text/plain": [
       "array(['1', '15', '8', ..., '17,523', '6,134', '39,142'], dtype=object)"
      ]
     },
     "execution_count": 11,
     "metadata": {},
     "output_type": "execute_result"
    }
   ],
   "source": [
    "(data['P/O Qty'].unique())"
   ]
  },
  {
   "cell_type": "code",
   "execution_count": 6,
   "metadata": {},
   "outputs": [
    {
     "data": {
      "text/plain": [
       "array(['20200212', '20200210', '20200203', '20200115', '20200128', '-',\n",
       "       '20200129', '20200206', '20200217', '20200207', '20200123',\n",
       "       '20200211', '20200130', '20200127', '20200205', '20200213',\n",
       "       '20200114', '20200122', '20200214', '20200121', '20200131',\n",
       "       '20200204', '20200208', '20200201', '20200312', '20200215',\n",
       "       '20200326', '20200307', '20200303', '20200302', '20200228',\n",
       "       '20200306', '20200304', '20200309', '20200226', '20200229',\n",
       "       '20200218', '20200220', '20200305', '20200324', '20200225',\n",
       "       '20200224', '20200219', '20200331', '20200417', '20200327',\n",
       "       '20200402', '20200318', '20200406', '20200403', '20200319',\n",
       "       '20200320', '20200407', '20200323', '20200408', '20200401',\n",
       "       '20200316', '20200330', '20200428', '20200505', '20200416',\n",
       "       '20200420', '20200422', '20200413', '20200430', '20200427',\n",
       "       '20200429', '20200421', '20200423', '20200504', '20200424',\n",
       "       '20200506', '20200518', '20200514', '20200508', '20200513',\n",
       "       '20200512', '20200520', '20200609', '20200608', '20200610',\n",
       "       '20200519', '20200515', '20200529', '20200611', '20200612',\n",
       "       '20200615', '20200706', '20200619', '20200701', '20200709',\n",
       "       '20200622', '20200629', '20200626', '20200625', '20200618',\n",
       "       '20200616', '20200702', '20200707', '20200708', '20200617',\n",
       "       '20200623', '20200624', '20200727', '20200805', '20200722',\n",
       "       '20200715', '20200728', '20200729', '20200714', '20200806',\n",
       "       '20200730', '20200804', '20200810', '20200720', '20200723',\n",
       "       '20200716', '20200721', '20200807', '20200813', '20200825',\n",
       "       '20200902', '20200826', '20200907', '20200901', '20200819',\n",
       "       '20200831', '20200903', '20200904', '20200824', '20200818',\n",
       "       '20200908', '20201014', '20200909', '20201002', '20200925',\n",
       "       '20200911', '20200910', '20200914', '20200922', '20200930',\n",
       "       '20200917', '20200915', '20200918', '20200923', '20201001',\n",
       "       '20200928', '20200929', '20200916', '20201006', '20200921',\n",
       "       '20201008', '20201005', '20201007', '20201009', '20201028',\n",
       "       '20201013', '20201021', '20201102', '20201012', '20201106',\n",
       "       '20201022', '20201026', '20201103', '20201105', '20201104',\n",
       "       '20201027', '20201030', '20201019', '20201020', '20201023',\n",
       "       '20201109', '20201110', '20201201', '20201204', '20201116',\n",
       "       '20201124', '20201117', '20201130', '20201120', '20201127',\n",
       "       '20201203', '20201118', '20201119', '20201123', '20201126',\n",
       "       '20201207', '20201202', '20201113', '20201125', '20201210',\n",
       "       '20201208', '20210104', '20210106', '20201222', '20210105',\n",
       "       '20201221', '20201218', '20201224', '20201214', '20201230',\n",
       "       '20201223', '20201231', '20210107', '20201228'], dtype=object)"
      ]
     },
     "execution_count": 6,
     "metadata": {},
     "output_type": "execute_result"
    }
   ],
   "source": [
    "data['Accounting .Conf.Date'].unique()"
   ]
  },
  {
   "cell_type": "code",
   "execution_count": 13,
   "metadata": {},
   "outputs": [
    {
     "data": {
      "text/plain": [
       "Application Date                    0\n",
       "Department                          0\n",
       "Consumption Dept.                   0\n",
       "Accounting .Conf.Date               0\n",
       "Supplier Agency                     0\n",
       "Location                            0\n",
       "Invoice Date                        0\n",
       "Supplier                            0\n",
       "Material Name                       0\n",
       "Unit                                0\n",
       "Invoice Qty                     58781\n",
       "Incoming Date                      57\n",
       "PO YN                               0\n",
       "Warehouse                          57\n",
       "Incoming Qty                       63\n",
       "P/O No                              0\n",
       "PO Date                          1045\n",
       "RTD                              1164\n",
       "RTA                              1134\n",
       "P/O Qty                          1045\n",
       "Application Date Vs Inv Date        0\n",
       "Incoming Date Vs PO Date         1102\n",
       "Incoming Date Vs RTD             1310\n",
       "dtype: int64"
      ]
     },
     "execution_count": 13,
     "metadata": {},
     "output_type": "execute_result"
    }
   ],
   "source": [
    "missing_value_count=data.isnull().sum()\n",
    "missing_value_count"
   ]
  },
  {
   "cell_type": "code",
   "execution_count": 17,
   "metadata": {},
   "outputs": [
    {
     "name": "stdout",
     "output_type": "stream",
     "text": [
      "0.6974756785612726\n"
     ]
    }
   ],
   "source": [
    "total_cells=np.product(data.shape)\n",
    "total_missing=missing_value_count.sum()\n",
    "\n",
    "percentage=(total_missing/total_cells)*100\n",
    "print(percentage)"
   ]
  },
  {
   "cell_type": "code",
   "execution_count": 65,
   "metadata": {},
   "outputs": [],
   "source": [
    "data=data.dropna()"
   ]
  },
  {
   "cell_type": "code",
   "execution_count": 66,
   "metadata": {},
   "outputs": [
    {
     "data": {
      "text/plain": [
       "(349880, 23)"
      ]
     },
     "execution_count": 66,
     "metadata": {},
     "output_type": "execute_result"
    }
   ],
   "source": [
    "data.shape"
   ]
  },
  {
   "cell_type": "code",
   "execution_count": 67,
   "metadata": {},
   "outputs": [
    {
     "data": {
      "text/plain": [
       "85.35469721623858"
      ]
     },
     "execution_count": 67,
     "metadata": {},
     "output_type": "execute_result"
    }
   ],
   "source": [
    "(349880/409913)*100"
   ]
  },
  {
   "cell_type": "code",
   "execution_count": 68,
   "metadata": {},
   "outputs": [],
   "source": [
    "data['Application Date']=pd.to_datetime(data['Application Date'], infer_datetime_format=True)"
   ]
  },
  {
   "cell_type": "code",
   "execution_count": 69,
   "metadata": {},
   "outputs": [
    {
     "data": {
      "text/plain": [
       "0        2020-01-03\n",
       "1        2020-01-03\n",
       "2        2020-01-03\n",
       "3        2020-01-03\n",
       "4        2020-01-03\n",
       "            ...    \n",
       "409908   2020-12-31\n",
       "409909   2020-12-11\n",
       "409910   2020-12-23\n",
       "409911   2020-12-23\n",
       "409912   2020-12-11\n",
       "Name: Application Date, Length: 349880, dtype: datetime64[ns]"
      ]
     },
     "execution_count": 69,
     "metadata": {},
     "output_type": "execute_result"
    }
   ],
   "source": [
    "data['Application Date']"
   ]
  },
  {
   "cell_type": "code",
   "execution_count": null,
   "metadata": {},
   "outputs": [],
   "source": []
  },
  {
   "cell_type": "code",
   "execution_count": 9,
   "metadata": {},
   "outputs": [
    {
     "data": {
      "text/plain": [
       "0         20200212\n",
       "1         20200212\n",
       "2         20200212\n",
       "3         20200212\n",
       "4         20200212\n",
       "            ...   \n",
       "409908    20210107\n",
       "409909    20201223\n",
       "409910    20210106\n",
       "409911    20210106\n",
       "409912    20201223\n",
       "Name: Accounting .Conf.Date, Length: 409913, dtype: object"
      ]
     },
     "execution_count": 9,
     "metadata": {},
     "output_type": "execute_result"
    }
   ],
   "source": [
    "data['Accounting .Conf.Date']"
   ]
  },
  {
   "cell_type": "code",
   "execution_count": 37,
   "metadata": {},
   "outputs": [
    {
     "name": "stdout",
     "output_type": "stream",
     "text": [
      "Not equal\n"
     ]
    }
   ],
   "source": [
    "for i in range(409913):\n",
    "    if data['Supplier Agency'][i]!=data['Supplier'][i]:\n",
    "        print(\"Not equal\")\n",
    "        break"
   ]
  },
  {
   "cell_type": "code",
   "execution_count": 38,
   "metadata": {},
   "outputs": [
    {
     "data": {
      "text/plain": [
       "0         Z01779\n",
       "1         Z01779\n",
       "2         Z01779\n",
       "3         Z01779\n",
       "4         Z01779\n",
       "           ...  \n",
       "409908    E00003\n",
       "409909    E00003\n",
       "409910    E00003\n",
       "409911    E00003\n",
       "409912    E00003\n",
       "Name: Supplier Agency, Length: 409913, dtype: object"
      ]
     },
     "execution_count": 38,
     "metadata": {},
     "output_type": "execute_result"
    }
   ],
   "source": [
    "data['Supplier Agency']"
   ]
  },
  {
   "cell_type": "code",
   "execution_count": 39,
   "metadata": {},
   "outputs": [
    {
     "data": {
      "text/plain": [
       "0         Z01779\n",
       "1         Z01779\n",
       "2         Z01779\n",
       "3         Z01779\n",
       "4         Z01779\n",
       "           ...  \n",
       "409908    B00052\n",
       "409909    B00362\n",
       "409910    B00362\n",
       "409911    Z01141\n",
       "409912    B00362\n",
       "Name: Supplier, Length: 409913, dtype: object"
      ]
     },
     "execution_count": 39,
     "metadata": {},
     "output_type": "execute_result"
    }
   ],
   "source": [
    "data['Supplier']"
   ]
  },
  {
   "cell_type": "markdown",
   "metadata": {},
   "source": [
    " #   Column                        Non-Null Count   Dtype  \n",
    "---  ------                        --------------   -----  \n",
    " 0   Application Date              409913 non-null  object \n",
    " 1   Department                    409913 non-null  object \n",
    " 2   Consumption Dept.             409913 non-null  object \n",
    " 4   Supplier Agency               409913 non-null  object \n",
    " 5   Location                      409913 non-null  object \n",
    " 6   Invoice Date                  409913 non-null  object \n",
    " 7   Supplier                      409913 non-null  object \n",
    " 8   Material Name                 409913 non-null  object \n",
    " 9   Unit                          409913 non-null  object \n",
    " 10  Invoice Qty                   351132 non-null  object \n",
    " 11  Incoming Date                 409856 non-null  object \n",
    " 12  PO YN                         409913 non-null  object \n",
    " 13  Warehouse                     409856 non-null  object \n",
    " 14  Incoming Qty                  409850 non-null  object \n",
    " 15  P/O No                        409913 non-null  object \n",
    " 16  PO Date                       408868 non-null  object \n",
    " 17  RTD                           408749 non-null  object \n",
    " 18  RTA                           408779 non-null  object \n",
    " 19  P/O Qty                       408868 non-null  object \n",
    " 20  Application Date Vs Inv Date  409913 non-null  int64  \n",
    " 21  Incoming Date Vs PO Date      408811 non-null  float64\n",
    " 22  Incoming Date Vs RTD          408603 non-null  float64"
   ]
  },
  {
   "cell_type": "code",
   "execution_count": 257,
   "metadata": {},
   "outputs": [
    {
     "name": "stdout",
     "output_type": "stream",
     "text": [
      "Setup Complete\n"
     ]
    }
   ],
   "source": [
    "import pandas as pd\n",
    "pd.plotting.register_matplotlib_converters()\n",
    "import matplotlib.pyplot as plt\n",
    "%matplotlib inline\n",
    "import seaborn as sns\n",
    "print(\"Setup Complete\")"
   ]
  },
  {
   "cell_type": "code",
   "execution_count": 57,
   "metadata": {},
   "outputs": [
    {
     "name": "stderr",
     "output_type": "stream",
     "text": [
      "C:\\Users\\VENKATESH\\AppData\\Local\\Programs\\Python\\Python37\\lib\\site-packages\\seaborn\\_decorators.py:43: FutureWarning: Pass the following variables as keyword args: x, y. From version 0.12, the only valid positional argument will be `data`, and passing other arguments without an explicit keyword will result in an error or misinterpretation.\n",
      "  FutureWarning\n"
     ]
    },
    {
     "data": {
      "text/plain": [
       "<matplotlib.axes._subplots.AxesSubplot at 0x2b2fbd2d2b0>"
      ]
     },
     "execution_count": 57,
     "metadata": {},
     "output_type": "execute_result"
    },
    {
     "data": {
      "image/png": "[encoded data removed]",
      "text/plain": [
       "<Figure size 1152x432 with 1 Axes>"
      ]
     },
     "metadata": {
      "needs_background": "light"
     },
     "output_type": "display_data"
    }
   ],
   "source": [
    "plt.figure(figsize=(16,6))\n",
    "\n",
    "# Line chart showing how FIFA rankings evolved over time \n",
    "sns.lineplot(data['Application Date'], data['Department'])"
   ]
  },
  {
   "cell_type": "code",
   "execution_count": 17,
   "metadata": {},
   "outputs": [
    {
     "data": {
      "text/plain": [
       "1"
      ]
     },
     "execution_count": 17,
     "metadata": {},
     "output_type": "execute_result"
    }
   ],
   "source": [
    "(data['P/O Qty'])"
   ]
  },
  {
   "cell_type": "markdown",
   "metadata": {},
   "source": [
    "Application Date   "
   ]
  },
  {
   "cell_type": "code",
   "execution_count": 150,
   "metadata": {},
   "outputs": [],
   "source": [
    "data['Application Date']=pd.to_datetime(data['Application Date'])"
   ]
  },
  {
   "cell_type": "code",
   "execution_count": 151,
   "metadata": {},
   "outputs": [
    {
     "data": {
      "text/plain": [
       "0        2020-01-03\n",
       "1        2020-01-03\n",
       "2        2020-01-03\n",
       "3        2020-01-03\n",
       "4        2020-01-03\n",
       "            ...    \n",
       "409908   2020-12-31\n",
       "409909   2020-12-11\n",
       "409910   2020-12-23\n",
       "409911   2020-12-23\n",
       "409912   2020-12-11\n",
       "Name: Application Date, Length: 349880, dtype: datetime64[ns]"
      ]
     },
     "execution_count": 151,
     "metadata": {},
     "output_type": "execute_result"
    }
   ],
   "source": [
    "Application_Date"
   ]
  },
  {
   "cell_type": "code",
   "execution_count": null,
   "metadata": {},
   "outputs": [],
   "source": []
  },
  {
   "cell_type": "code",
   "execution_count": 152,
   "metadata": {},
   "outputs": [
    {
     "data": {
      "text/plain": [
       "12"
      ]
     },
     "execution_count": 152,
     "metadata": {},
     "output_type": "execute_result"
    }
   ],
   "source": [
    "Application_Date[409909].month"
   ]
  },
  {
   "cell_type": "code",
   "execution_count": 154,
   "metadata": {},
   "outputs": [],
   "source": [
    "data['Invoice Date']=pd.to_datetime(data['Invoice Date'])"
   ]
  },
  {
   "cell_type": "code",
   "execution_count": 155,
   "metadata": {},
   "outputs": [
    {
     "data": {
      "text/plain": [
       "0        2020-01-03\n",
       "1        2020-01-03\n",
       "2        2020-01-03\n",
       "3        2020-01-03\n",
       "4        2020-01-03\n",
       "            ...    \n",
       "409908   2020-12-04\n",
       "409909   2020-11-28\n",
       "409910   2020-12-18\n",
       "409911   2020-12-18\n",
       "409912   2020-12-05\n",
       "Name: Invoice Date, Length: 349880, dtype: datetime64[ns]"
      ]
     },
     "execution_count": 155,
     "metadata": {},
     "output_type": "execute_result"
    }
   ],
   "source": [
    "Invoice_Date"
   ]
  },
  {
   "cell_type": "code",
   "execution_count": 156,
   "metadata": {},
   "outputs": [],
   "source": [
    "data['Incoming Date']=pd.to_datetime(data['Incoming Date'])"
   ]
  },
  {
   "cell_type": "code",
   "execution_count": 75,
   "metadata": {},
   "outputs": [
    {
     "data": {
      "text/plain": [
       "0        2020-01-03\n",
       "1        2020-01-03\n",
       "2        2020-01-03\n",
       "3        2020-01-03\n",
       "4        2020-01-03\n",
       "            ...    \n",
       "409908   2020-12-21\n",
       "409909   2020-12-07\n",
       "409910   2020-12-28\n",
       "409911   2020-12-28\n",
       "409912   2020-12-14\n",
       "Name: Incoming Date, Length: 349880, dtype: datetime64[ns]"
      ]
     },
     "execution_count": 75,
     "metadata": {},
     "output_type": "execute_result"
    }
   ],
   "source": [
    "Incoming_Date"
   ]
  },
  {
   "cell_type": "code",
   "execution_count": 157,
   "metadata": {},
   "outputs": [],
   "source": [
    "data['PO Date']=pd.to_datetime(data['PO Date'])"
   ]
  },
  {
   "cell_type": "code",
   "execution_count": 158,
   "metadata": {},
   "outputs": [
    {
     "data": {
      "text/plain": [
       "0        2019-12-27\n",
       "1        2019-12-27\n",
       "2        2019-12-27\n",
       "3        2019-12-27\n",
       "4        2019-12-19\n",
       "            ...    \n",
       "409908   2020-11-26\n",
       "409909   2020-11-14\n",
       "409910   2020-12-01\n",
       "409911   2020-10-31\n",
       "409912   2020-11-14\n",
       "Name: PO Date, Length: 349880, dtype: datetime64[ns]"
      ]
     },
     "execution_count": 158,
     "metadata": {},
     "output_type": "execute_result"
    }
   ],
   "source": [
    "PO_Date"
   ]
  },
  {
   "cell_type": "code",
   "execution_count": 159,
   "metadata": {},
   "outputs": [],
   "source": [
    "data['RTD']=pd.to_datetime(data['RTD'])"
   ]
  },
  {
   "cell_type": "code",
   "execution_count": 79,
   "metadata": {},
   "outputs": [
    {
     "data": {
      "text/plain": [
       "0        2019-12-27\n",
       "1        2019-12-27\n",
       "2        2019-12-27\n",
       "3        2019-12-27\n",
       "4        2019-12-19\n",
       "            ...    \n",
       "409908   2020-11-27\n",
       "409909   2020-11-27\n",
       "409910   2020-12-21\n",
       "409911   2020-11-27\n",
       "409912   2020-11-27\n",
       "Name: RTD, Length: 349880, dtype: datetime64[ns]"
      ]
     },
     "execution_count": 79,
     "metadata": {},
     "output_type": "execute_result"
    }
   ],
   "source": [
    "RTD_Date"
   ]
  },
  {
   "cell_type": "code",
   "execution_count": 160,
   "metadata": {},
   "outputs": [],
   "source": [
    "data['RTA']=pd.to_datetime(data['RTA'])"
   ]
  },
  {
   "cell_type": "code",
   "execution_count": 82,
   "metadata": {},
   "outputs": [
    {
     "data": {
      "text/plain": [
       "0        2019-12-27\n",
       "1        2019-12-27\n",
       "2        2019-12-27\n",
       "3        2019-12-27\n",
       "4        2019-12-19\n",
       "            ...    \n",
       "409908   2020-12-11\n",
       "409909   2020-12-11\n",
       "409910   2021-01-04\n",
       "409911   2020-12-11\n",
       "409912   2020-12-11\n",
       "Name: RTA, Length: 349880, dtype: datetime64[ns]"
      ]
     },
     "execution_count": 82,
     "metadata": {},
     "output_type": "execute_result"
    }
   ],
   "source": [
    "RTA_Date"
   ]
  },
  {
   "cell_type": "code",
   "execution_count": 91,
   "metadata": {},
   "outputs": [],
   "source": [
    "Invoice_Qty=pd.to_numeric(data['Invoice Qty'], errors='ignore')"
   ]
  },
  {
   "cell_type": "code",
   "execution_count": 86,
   "metadata": {},
   "outputs": [
    {
     "data": {
      "text/plain": [
       "17"
      ]
     },
     "execution_count": 86,
     "metadata": {},
     "output_type": "execute_result"
    }
   ],
   "source": [
    "int(data['Invoice Qty'][29])"
   ]
  },
  {
   "cell_type": "code",
   "execution_count": 92,
   "metadata": {},
   "outputs": [
    {
     "ename": "TypeError",
     "evalue": "'>' not supported between instances of 'str' and 'int'",
     "output_type": "error",
     "traceback": [
      "\u001b[1;31m---------------------------------------------------------------------------\u001b[0m",
      "\u001b[1;31mTypeError\u001b[0m                                 Traceback (most recent call last)",
      "\u001b[1;32m<ipython-input-92-0fdb2ef0f089>\u001b[0m in \u001b[0;36m<module>\u001b[1;34m\u001b[0m\n\u001b[0;32m      1\u001b[0m \u001b[1;32mfor\u001b[0m \u001b[0mi\u001b[0m \u001b[1;32min\u001b[0m \u001b[0mrange\u001b[0m\u001b[1;33m(\u001b[0m\u001b[0mlen\u001b[0m\u001b[1;33m(\u001b[0m\u001b[0mInvoice_Qty\u001b[0m\u001b[1;33m)\u001b[0m\u001b[1;33m)\u001b[0m\u001b[1;33m:\u001b[0m\u001b[1;33m\u001b[0m\u001b[1;33m\u001b[0m\u001b[0m\n\u001b[1;32m----> 2\u001b[1;33m     \u001b[1;32mif\u001b[0m\u001b[1;33m(\u001b[0m\u001b[0mInvoice_Qty\u001b[0m\u001b[1;33m[\u001b[0m\u001b[0mi\u001b[0m\u001b[1;33m]\u001b[0m\u001b[1;33m>\u001b[0m\u001b[1;36m10000\u001b[0m\u001b[1;33m)\u001b[0m\u001b[1;33m:\u001b[0m\u001b[1;33m\u001b[0m\u001b[1;33m\u001b[0m\u001b[0m\n\u001b[0m\u001b[0;32m      3\u001b[0m         \u001b[0mprint\u001b[0m\u001b[1;33m(\u001b[0m\u001b[0mInvoice_Qty\u001b[0m\u001b[1;33m[\u001b[0m\u001b[0mi\u001b[0m\u001b[1;33m]\u001b[0m\u001b[1;33m)\u001b[0m\u001b[1;33m\u001b[0m\u001b[1;33m\u001b[0m\u001b[0m\n",
      "\u001b[1;31mTypeError\u001b[0m: '>' not supported between instances of 'str' and 'int'"
     ]
    }
   ],
   "source": [
    "for i in range(len(Invoice_Qty)):\n",
    "    if(Invoice_Qty[i]>10000):\n",
    "        print(Invoice_Qty[i])"
   ]
  },
  {
   "cell_type": "code",
   "execution_count": 94,
   "metadata": {},
   "outputs": [
    {
     "data": {
      "text/plain": [
       "pandas.core.series.Series"
      ]
     },
     "execution_count": 94,
     "metadata": {},
     "output_type": "execute_result"
    }
   ],
   "source": [
    "type(Invoice_Qty)"
   ]
  },
  {
   "cell_type": "code",
   "execution_count": 95,
   "metadata": {},
   "outputs": [],
   "source": [
    "from locale import atof"
   ]
  },
  {
   "cell_type": "code",
   "execution_count": 115,
   "metadata": {},
   "outputs": [
    {
     "data": {
      "text/html": [
       "<div>\n",
       "<style scoped>\n",
       "    .dataframe tbody tr th:only-of-type {\n",
       "        vertical-align: middle;\n",
       "    }\n",
       "\n",
       "    .dataframe tbody tr th {\n",
       "        vertical-align: top;\n",
       "    }\n",
       "\n",
       "    .dataframe thead th {\n",
       "        text-align: right;\n",
       "    }\n",
       "</style>\n",
       "<table border=\"1\" class=\"dataframe\">\n",
       "  <thead>\n",
       "    <tr style=\"text-align: right;\">\n",
       "      <th></th>\n",
       "    </tr>\n",
       "  </thead>\n",
       "  <tbody>\n",
       "  </tbody>\n",
       "</table>\n",
       "</div>"
      ],
      "text/plain": [
       "Empty DataFrame\n",
       "Columns: []\n",
       "Index: []"
      ]
     },
     "execution_count": 115,
     "metadata": {},
     "output_type": "execute_result"
    }
   ],
   "source": [
    "new_data.applymap(atof)"
   ]
  },
  {
   "cell_type": "code",
   "execution_count": 111,
   "metadata": {},
   "outputs": [],
   "source": [
    "new_data=pd.DataFrame()"
   ]
  },
  {
   "cell_type": "code",
   "execution_count": 102,
   "metadata": {},
   "outputs": [
    {
     "ename": "TypeError",
     "evalue": "append() got an unexpected keyword argument 'axis'",
     "output_type": "error",
     "traceback": [
      "\u001b[1;31m---------------------------------------------------------------------------\u001b[0m",
      "\u001b[1;31mTypeError\u001b[0m                                 Traceback (most recent call last)",
      "\u001b[1;32m<ipython-input-102-e9b980e5e3a6>\u001b[0m in \u001b[0;36m<module>\u001b[1;34m\u001b[0m\n\u001b[1;32m----> 1\u001b[1;33m \u001b[0mnew_data\u001b[0m\u001b[1;33m.\u001b[0m\u001b[0mappend\u001b[0m\u001b[1;33m(\u001b[0m\u001b[0mdata\u001b[0m\u001b[1;33m[\u001b[0m\u001b[1;34m'Invoice Qty'\u001b[0m\u001b[1;33m]\u001b[0m\u001b[1;33m,\u001b[0m \u001b[0maxis\u001b[0m\u001b[1;33m=\u001b[0m\u001b[1;36m1\u001b[0m\u001b[1;33m)\u001b[0m\u001b[1;33m\u001b[0m\u001b[1;33m\u001b[0m\u001b[0m\n\u001b[0m",
      "\u001b[1;31mTypeError\u001b[0m: append() got an unexpected keyword argument 'axis'"
     ]
    }
   ],
   "source": [
    "new_data.append(data['Invoice Qty'], axis=1)"
   ]
  },
  {
   "cell_type": "code",
   "execution_count": 104,
   "metadata": {},
   "outputs": [],
   "source": [
    "new_data=[]"
   ]
  },
  {
   "cell_type": "code",
   "execution_count": 107,
   "metadata": {},
   "outputs": [
    {
     "data": {
      "text/html": [
       "<div>\n",
       "<style scoped>\n",
       "    .dataframe tbody tr th:only-of-type {\n",
       "        vertical-align: middle;\n",
       "    }\n",
       "\n",
       "    .dataframe tbody tr th {\n",
       "        vertical-align: top;\n",
       "    }\n",
       "\n",
       "    .dataframe thead th {\n",
       "        text-align: right;\n",
       "    }\n",
       "</style>\n",
       "<table border=\"1\" class=\"dataframe\">\n",
       "  <thead>\n",
       "    <tr style=\"text-align: right;\">\n",
       "      <th></th>\n",
       "    </tr>\n",
       "  </thead>\n",
       "  <tbody>\n",
       "  </tbody>\n",
       "</table>\n",
       "</div>"
      ],
      "text/plain": [
       "Empty DataFrame\n",
       "Columns: []\n",
       "Index: []"
      ]
     },
     "execution_count": 107,
     "metadata": {},
     "output_type": "execute_result"
    }
   ],
   "source": [
    "new_data"
   ]
  },
  {
   "cell_type": "code",
   "execution_count": 116,
   "metadata": {},
   "outputs": [],
   "source": [
    "new_data['Invoice_Qty']=data['Invoice Qty']"
   ]
  },
  {
   "cell_type": "code",
   "execution_count": 109,
   "metadata": {},
   "outputs": [
    {
     "data": {
      "text/html": [
       "<div>\n",
       "<style scoped>\n",
       "    .dataframe tbody tr th:only-of-type {\n",
       "        vertical-align: middle;\n",
       "    }\n",
       "\n",
       "    .dataframe tbody tr th {\n",
       "        vertical-align: top;\n",
       "    }\n",
       "\n",
       "    .dataframe thead th {\n",
       "        text-align: right;\n",
       "    }\n",
       "</style>\n",
       "<table border=\"1\" class=\"dataframe\">\n",
       "  <thead>\n",
       "    <tr style=\"text-align: right;\">\n",
       "      <th></th>\n",
       "      <th>Invoice_Qty</th>\n",
       "    </tr>\n",
       "  </thead>\n",
       "  <tbody>\n",
       "    <tr>\n",
       "      <th>0</th>\n",
       "      <td>1</td>\n",
       "    </tr>\n",
       "    <tr>\n",
       "      <th>1</th>\n",
       "      <td>1</td>\n",
       "    </tr>\n",
       "    <tr>\n",
       "      <th>2</th>\n",
       "      <td>1</td>\n",
       "    </tr>\n",
       "    <tr>\n",
       "      <th>3</th>\n",
       "      <td>1</td>\n",
       "    </tr>\n",
       "    <tr>\n",
       "      <th>4</th>\n",
       "      <td>1</td>\n",
       "    </tr>\n",
       "    <tr>\n",
       "      <th>...</th>\n",
       "      <td>...</td>\n",
       "    </tr>\n",
       "    <tr>\n",
       "      <th>409908</th>\n",
       "      <td>15</td>\n",
       "    </tr>\n",
       "    <tr>\n",
       "      <th>409909</th>\n",
       "      <td>2</td>\n",
       "    </tr>\n",
       "    <tr>\n",
       "      <th>409910</th>\n",
       "      <td>25</td>\n",
       "    </tr>\n",
       "    <tr>\n",
       "      <th>409911</th>\n",
       "      <td>8</td>\n",
       "    </tr>\n",
       "    <tr>\n",
       "      <th>409912</th>\n",
       "      <td>178</td>\n",
       "    </tr>\n",
       "  </tbody>\n",
       "</table>\n",
       "<p>349880 rows × 1 columns</p>\n",
       "</div>"
      ],
      "text/plain": [
       "       Invoice_Qty\n",
       "0                1\n",
       "1                1\n",
       "2                1\n",
       "3                1\n",
       "4                1\n",
       "...            ...\n",
       "409908          15\n",
       "409909           2\n",
       "409910          25\n",
       "409911           8\n",
       "409912         178\n",
       "\n",
       "[349880 rows x 1 columns]"
      ]
     },
     "execution_count": 109,
     "metadata": {},
     "output_type": "execute_result"
    }
   ],
   "source": [
    "new_data"
   ]
  },
  {
   "cell_type": "code",
   "execution_count": 113,
   "metadata": {},
   "outputs": [
    {
     "data": {
      "text/html": [
       "<div>\n",
       "<style scoped>\n",
       "    .dataframe tbody tr th:only-of-type {\n",
       "        vertical-align: middle;\n",
       "    }\n",
       "\n",
       "    .dataframe tbody tr th {\n",
       "        vertical-align: top;\n",
       "    }\n",
       "\n",
       "    .dataframe thead th {\n",
       "        text-align: right;\n",
       "    }\n",
       "</style>\n",
       "<table border=\"1\" class=\"dataframe\">\n",
       "  <thead>\n",
       "    <tr style=\"text-align: right;\">\n",
       "      <th></th>\n",
       "    </tr>\n",
       "  </thead>\n",
       "  <tbody>\n",
       "  </tbody>\n",
       "</table>\n",
       "</div>"
      ],
      "text/plain": [
       "Empty DataFrame\n",
       "Columns: []\n",
       "Index: []"
      ]
     },
     "execution_count": 113,
     "metadata": {},
     "output_type": "execute_result"
    }
   ],
   "source": [
    "new_data.applymap(atof)"
   ]
  },
  {
   "cell_type": "code",
   "execution_count": 114,
   "metadata": {},
   "outputs": [
    {
     "data": {
      "text/html": [
       "<div>\n",
       "<style scoped>\n",
       "    .dataframe tbody tr th:only-of-type {\n",
       "        vertical-align: middle;\n",
       "    }\n",
       "\n",
       "    .dataframe tbody tr th {\n",
       "        vertical-align: top;\n",
       "    }\n",
       "\n",
       "    .dataframe thead th {\n",
       "        text-align: right;\n",
       "    }\n",
       "</style>\n",
       "<table border=\"1\" class=\"dataframe\">\n",
       "  <thead>\n",
       "    <tr style=\"text-align: right;\">\n",
       "      <th></th>\n",
       "    </tr>\n",
       "  </thead>\n",
       "  <tbody>\n",
       "  </tbody>\n",
       "</table>\n",
       "</div>"
      ],
      "text/plain": [
       "Empty DataFrame\n",
       "Columns: []\n",
       "Index: []"
      ]
     },
     "execution_count": 114,
     "metadata": {},
     "output_type": "execute_result"
    }
   ],
   "source": [
    "new_data"
   ]
  },
  {
   "cell_type": "code",
   "execution_count": 117,
   "metadata": {},
   "outputs": [
    {
     "data": {
      "text/plain": [
       "str"
      ]
     },
     "execution_count": 117,
     "metadata": {},
     "output_type": "execute_result"
    }
   ],
   "source": [
    "type(new_data['Invoice_Qty'][0])"
   ]
  },
  {
   "cell_type": "code",
   "execution_count": 130,
   "metadata": {},
   "outputs": [],
   "source": [
    "import locale "
   ]
  },
  {
   "cell_type": "code",
   "execution_count": 131,
   "metadata": {},
   "outputs": [],
   "source": [
    "from locale import atof"
   ]
  },
  {
   "cell_type": "code",
   "execution_count": 133,
   "metadata": {},
   "outputs": [
    {
     "data": {
      "text/plain": [
       "'English_India.1252'"
      ]
     },
     "execution_count": 133,
     "metadata": {},
     "output_type": "execute_result"
    }
   ],
   "source": [
    "locale.setlocale(locale.LC_NUMERIC, '')"
   ]
  },
  {
   "cell_type": "code",
   "execution_count": 134,
   "metadata": {},
   "outputs": [
    {
     "data": {
      "text/html": [
       "<div>\n",
       "<style scoped>\n",
       "    .dataframe tbody tr th:only-of-type {\n",
       "        vertical-align: middle;\n",
       "    }\n",
       "\n",
       "    .dataframe tbody tr th {\n",
       "        vertical-align: top;\n",
       "    }\n",
       "\n",
       "    .dataframe thead th {\n",
       "        text-align: right;\n",
       "    }\n",
       "</style>\n",
       "<table border=\"1\" class=\"dataframe\">\n",
       "  <thead>\n",
       "    <tr style=\"text-align: right;\">\n",
       "      <th></th>\n",
       "      <th>Invoice_Qty</th>\n",
       "    </tr>\n",
       "  </thead>\n",
       "  <tbody>\n",
       "    <tr>\n",
       "      <th>0</th>\n",
       "      <td>1.0</td>\n",
       "    </tr>\n",
       "    <tr>\n",
       "      <th>1</th>\n",
       "      <td>1.0</td>\n",
       "    </tr>\n",
       "    <tr>\n",
       "      <th>2</th>\n",
       "      <td>1.0</td>\n",
       "    </tr>\n",
       "    <tr>\n",
       "      <th>3</th>\n",
       "      <td>1.0</td>\n",
       "    </tr>\n",
       "    <tr>\n",
       "      <th>4</th>\n",
       "      <td>1.0</td>\n",
       "    </tr>\n",
       "    <tr>\n",
       "      <th>...</th>\n",
       "      <td>...</td>\n",
       "    </tr>\n",
       "    <tr>\n",
       "      <th>409908</th>\n",
       "      <td>15.0</td>\n",
       "    </tr>\n",
       "    <tr>\n",
       "      <th>409909</th>\n",
       "      <td>2.0</td>\n",
       "    </tr>\n",
       "    <tr>\n",
       "      <th>409910</th>\n",
       "      <td>25.0</td>\n",
       "    </tr>\n",
       "    <tr>\n",
       "      <th>409911</th>\n",
       "      <td>8.0</td>\n",
       "    </tr>\n",
       "    <tr>\n",
       "      <th>409912</th>\n",
       "      <td>178.0</td>\n",
       "    </tr>\n",
       "  </tbody>\n",
       "</table>\n",
       "<p>349880 rows × 1 columns</p>\n",
       "</div>"
      ],
      "text/plain": [
       "        Invoice_Qty\n",
       "0               1.0\n",
       "1               1.0\n",
       "2               1.0\n",
       "3               1.0\n",
       "4               1.0\n",
       "...             ...\n",
       "409908         15.0\n",
       "409909          2.0\n",
       "409910         25.0\n",
       "409911          8.0\n",
       "409912        178.0\n",
       "\n",
       "[349880 rows x 1 columns]"
      ]
     },
     "execution_count": 134,
     "metadata": {},
     "output_type": "execute_result"
    }
   ],
   "source": [
    "new_data.applymap(atof)"
   ]
  },
  {
   "cell_type": "code",
   "execution_count": 136,
   "metadata": {},
   "outputs": [
    {
     "data": {
      "text/plain": [
       "pandas.core.series.Series"
      ]
     },
     "execution_count": 136,
     "metadata": {},
     "output_type": "execute_result"
    }
   ],
   "source": [
    "type(new_data['Invoice_Qty'])"
   ]
  },
  {
   "cell_type": "code",
   "execution_count": 137,
   "metadata": {},
   "outputs": [
    {
     "data": {
      "text/plain": [
       "'10,000.00'"
      ]
     },
     "execution_count": 137,
     "metadata": {},
     "output_type": "execute_result"
    }
   ],
   "source": [
    "new_data['Invoice_Qty'][100]"
   ]
  },
  {
   "cell_type": "code",
   "execution_count": 141,
   "metadata": {},
   "outputs": [
    {
     "ename": "AttributeError",
     "evalue": "'DataFrame' object has no attribute 'str'",
     "output_type": "error",
     "traceback": [
      "\u001b[1;31m---------------------------------------------------------------------------\u001b[0m",
      "\u001b[1;31mAttributeError\u001b[0m                            Traceback (most recent call last)",
      "\u001b[1;32m<ipython-input-141-4af9c550cf86>\u001b[0m in \u001b[0;36m<module>\u001b[1;34m\u001b[0m\n\u001b[1;32m----> 1\u001b[1;33m \u001b[0mnew_data\u001b[0m\u001b[1;33m.\u001b[0m\u001b[0miloc\u001b[0m\u001b[1;33m[\u001b[0m\u001b[1;33m:\u001b[0m\u001b[1;33m,\u001b[0m\u001b[1;33m:\u001b[0m\u001b[1;33m]\u001b[0m\u001b[1;33m.\u001b[0m\u001b[0mstr\u001b[0m\u001b[1;33m.\u001b[0m\u001b[0mreplace\u001b[0m\u001b[1;33m(\u001b[0m\u001b[1;34m','\u001b[0m\u001b[1;33m,\u001b[0m \u001b[1;34m''\u001b[0m\u001b[1;33m)\u001b[0m\u001b[1;33m.\u001b[0m\u001b[0mastype\u001b[0m\u001b[1;33m(\u001b[0m\u001b[0mfloat\u001b[0m\u001b[1;33m)\u001b[0m\u001b[1;33m\u001b[0m\u001b[1;33m\u001b[0m\u001b[0m\n\u001b[0m",
      "\u001b[1;32m~\\AppData\\Local\\Programs\\Python\\Python37\\lib\\site-packages\\pandas\\core\\generic.py\u001b[0m in \u001b[0;36m__getattr__\u001b[1;34m(self, name)\u001b[0m\n\u001b[0;32m   5272\u001b[0m             \u001b[1;32mif\u001b[0m \u001b[0mself\u001b[0m\u001b[1;33m.\u001b[0m\u001b[0m_info_axis\u001b[0m\u001b[1;33m.\u001b[0m\u001b[0m_can_hold_identifiers_and_holds_name\u001b[0m\u001b[1;33m(\u001b[0m\u001b[0mname\u001b[0m\u001b[1;33m)\u001b[0m\u001b[1;33m:\u001b[0m\u001b[1;33m\u001b[0m\u001b[1;33m\u001b[0m\u001b[0m\n\u001b[0;32m   5273\u001b[0m                 \u001b[1;32mreturn\u001b[0m \u001b[0mself\u001b[0m\u001b[1;33m[\u001b[0m\u001b[0mname\u001b[0m\u001b[1;33m]\u001b[0m\u001b[1;33m\u001b[0m\u001b[1;33m\u001b[0m\u001b[0m\n\u001b[1;32m-> 5274\u001b[1;33m             \u001b[1;32mreturn\u001b[0m \u001b[0mobject\u001b[0m\u001b[1;33m.\u001b[0m\u001b[0m__getattribute__\u001b[0m\u001b[1;33m(\u001b[0m\u001b[0mself\u001b[0m\u001b[1;33m,\u001b[0m \u001b[0mname\u001b[0m\u001b[1;33m)\u001b[0m\u001b[1;33m\u001b[0m\u001b[1;33m\u001b[0m\u001b[0m\n\u001b[0m\u001b[0;32m   5275\u001b[0m \u001b[1;33m\u001b[0m\u001b[0m\n\u001b[0;32m   5276\u001b[0m     \u001b[1;32mdef\u001b[0m \u001b[0m__setattr__\u001b[0m\u001b[1;33m(\u001b[0m\u001b[0mself\u001b[0m\u001b[1;33m,\u001b[0m \u001b[0mname\u001b[0m\u001b[1;33m:\u001b[0m \u001b[0mstr\u001b[0m\u001b[1;33m,\u001b[0m \u001b[0mvalue\u001b[0m\u001b[1;33m)\u001b[0m \u001b[1;33m->\u001b[0m \u001b[1;32mNone\u001b[0m\u001b[1;33m:\u001b[0m\u001b[1;33m\u001b[0m\u001b[1;33m\u001b[0m\u001b[0m\n",
      "\u001b[1;31mAttributeError\u001b[0m: 'DataFrame' object has no attribute 'str'"
     ]
    }
   ],
   "source": [
    "new_data.iloc[:,:].str.replace(',', '').astype(float)"
   ]
  },
  {
   "cell_type": "code",
   "execution_count": 142,
   "metadata": {},
   "outputs": [],
   "source": [
    "new_data['Invoice_Qty'] = new_data['Invoice_Qty'].str.replace(',', '').astype(float)"
   ]
  },
  {
   "cell_type": "code",
   "execution_count": 145,
   "metadata": {},
   "outputs": [
    {
     "data": {
      "text/plain": [
       "numpy.float64"
      ]
     },
     "execution_count": 145,
     "metadata": {},
     "output_type": "execute_result"
    }
   ],
   "source": [
    "type(new_data['Invoice_Qty'][0])"
   ]
  },
  {
   "cell_type": "code",
   "execution_count": 146,
   "metadata": {},
   "outputs": [
    {
     "data": {
      "text/plain": [
       "1700000.0"
      ]
     },
     "execution_count": 146,
     "metadata": {},
     "output_type": "execute_result"
    }
   ],
   "source": [
    "max(new_data['Invoice_Qty'])"
   ]
  },
  {
   "cell_type": "code",
   "execution_count": 147,
   "metadata": {},
   "outputs": [],
   "source": [
    "data['Invoice Qty']=data['Invoice Qty'].str.replace(',', '').astype(float)"
   ]
  },
  {
   "cell_type": "code",
   "execution_count": 148,
   "metadata": {},
   "outputs": [],
   "source": [
    "data['Incoming Qty']=data['Incoming Qty'].str.replace(',', '').astype(float)"
   ]
  },
  {
   "cell_type": "code",
   "execution_count": 149,
   "metadata": {},
   "outputs": [],
   "source": [
    "data['P/O Qty']=data['P/O Qty'].str.replace(',', '').astype(float)"
   ]
  },
  {
   "cell_type": "code",
   "execution_count": 162,
   "metadata": {},
   "outputs": [
    {
     "name": "stdout",
     "output_type": "stream",
     "text": [
      "       Application Date  Department       Consumption Dept.  \\\n",
      "0            2020-01-03          IT     DEVELOPMENT ( ADM )   \n",
      "1            2020-01-03          IT                 LABORAT   \n",
      "2            2020-01-03          IT              PURCHASING   \n",
      "3            2020-01-03          IT               FACTORY.1   \n",
      "4            2020-01-03          IT  FACTORY. 2 ( MEKANIK )   \n",
      "...                 ...         ...                     ...   \n",
      "409908       2020-12-31  PURCHASING              PURCHASING   \n",
      "409909       2020-12-11  PURCHASING              PURCHASING   \n",
      "409910       2020-12-23  PURCHASING              PURCHASING   \n",
      "409911       2020-12-23  PURCHASING              PURCHASING   \n",
      "409912       2020-12-11  PURCHASING              PURCHASING   \n",
      "\n",
      "       Accounting .Conf.Date Supplier Agency Location Invoice Date Supplier  \\\n",
      "0                   20200212          Z01779    Local   2020-01-03   Z01779   \n",
      "1                   20200212          Z01779    Local   2020-01-03   Z01779   \n",
      "2                   20200212          Z01779    Local   2020-01-03   Z01779   \n",
      "3                   20200212          Z01779    Local   2020-01-03   Z01779   \n",
      "4                   20200212          Z01779    Local   2020-01-03   Z01779   \n",
      "...                      ...             ...      ...          ...      ...   \n",
      "409908              20210107          E00003   Import   2020-12-04   B00052   \n",
      "409909              20201223          E00003   Import   2020-11-28   B00362   \n",
      "409910              20210106          E00003   Import   2020-12-18   B00362   \n",
      "409911              20210106          E00003   Import   2020-12-18   Z01141   \n",
      "409912              20201223          E00003   Import   2020-12-05   B00362   \n",
      "\n",
      "                                            Material Name  Unit  ...  \\\n",
      "0                                     MOUSE LOGITECH B100  UNIT  ...   \n",
      "1                               PC NONE BRAND CORE I3 SET  UNIT  ...   \n",
      "2                                     MOUSE LOGITECH B100  UNIT  ...   \n",
      "3                             MINI PC ASUS VM62-4030 PLUS   SET  ...   \n",
      "4                                     MAINBOARD H81M-SP2H   PCS  ...   \n",
      "...                                                   ...   ...  ...   \n",
      "409908              DJT 2836 JC MESH II PRIMEBLUE - EPM 5     M  ...   \n",
      "409909                          HF SD 10641 CDP-P - EPM 5  YARD  ...   \n",
      "409910                                        HF ZJ 584 N  YARD  ...   \n",
      "409911  1180 AU E TPU X 25 130 BLK STM BASF (PUREBOOST...   PRS  ...   \n",
      "409912                                HF SD 10641 P EPM 5  YARD  ...   \n",
      "\n",
      "                Warehouse Incoming Qty                   P/O No    PO Date  \\\n",
      "0        PWI Consumer W/H          1.0  PWI1-ESP-PO-191227-0008 2019-12-27   \n",
      "1        PWI Consumer W/H          1.0  PWI1-ESP-PO-191227-0010 2019-12-27   \n",
      "2        PWI Consumer W/H          1.0  PWI1-ESP-PO-191227-0006 2019-12-27   \n",
      "3        PWI Consumer W/H          1.0  PWI1-ESP-PO-191227-0005 2019-12-27   \n",
      "4        PWI Consumer W/H          1.0  PWI1-ESP-PO-191219-0004 2019-12-19   \n",
      "...                   ...          ...                      ...        ...   \n",
      "409908  PWI Mat W/H(Main)         15.0  PWI1-PFO-UO-201126-0030 2020-11-26   \n",
      "409909  PWI Mat W/H(Main)          2.0  PWI1-PRD-UO-201114-0042 2020-11-14   \n",
      "409910  PWI Mat W/H(Main)         25.0  PWI1-PRD-UO-201201-0012 2020-12-01   \n",
      "409911  PWI Mat W/H(Main)          8.0  PWI1-PRD-UO-201031-0034 2020-10-31   \n",
      "409912  PWI Mat W/H(Main)        178.0  PWI1-PRD-UO-201114-0042 2020-11-14   \n",
      "\n",
      "              RTD        RTA P/O Qty Application Date Vs Inv Date  \\\n",
      "0      2019-12-27 2019-12-27     1.0                            0   \n",
      "1      2019-12-27 2019-12-27     1.0                            0   \n",
      "2      2019-12-27 2019-12-27     1.0                            0   \n",
      "3      2019-12-27 2019-12-27     1.0                            0   \n",
      "4      2019-12-19 2019-12-19     1.0                            0   \n",
      "...           ...        ...     ...                          ...   \n",
      "409908 2020-11-27 2020-12-11    15.0                           27   \n",
      "409909 2020-11-27 2020-12-11     2.0                           13   \n",
      "409910 2020-12-21 2021-01-04    25.0                            5   \n",
      "409911 2020-11-27 2020-12-11     8.0                            5   \n",
      "409912 2020-11-27 2020-12-11   178.0                            6   \n",
      "\n",
      "       Incoming Date Vs PO Date  Incoming Date Vs RTD  \n",
      "0                           7.0                   7.0  \n",
      "1                           7.0                   7.0  \n",
      "2                           7.0                   7.0  \n",
      "3                           7.0                   7.0  \n",
      "4                          15.0                  15.0  \n",
      "...                         ...                   ...  \n",
      "409908                     25.0                  24.0  \n",
      "409909                     23.0                  10.0  \n",
      "409910                     27.0                   7.0  \n",
      "409911                     58.0                  31.0  \n",
      "409912                     30.0                  17.0  \n",
      "\n",
      "[349880 rows x 23 columns]\n"
     ]
    }
   ],
   "source": [
    "print(data)"
   ]
  },
  {
   "cell_type": "code",
   "execution_count": 163,
   "metadata": {},
   "outputs": [
    {
     "name": "stdout",
     "output_type": "stream",
     "text": [
      "Setup Complete\n"
     ]
    }
   ],
   "source": [
    "import pandas as pd\n",
    "pd.plotting.register_matplotlib_converters()\n",
    "import matplotlib.pyplot as plt\n",
    "%matplotlib inline\n",
    "import seaborn as sns\n",
    "print(\"Setup Complete\")"
   ]
  },
  {
   "cell_type": "code",
   "execution_count": 244,
   "metadata": {},
   "outputs": [],
   "source": [
    "df=pd.DataFrame()"
   ]
  },
  {
   "cell_type": "code",
   "execution_count": 166,
   "metadata": {},
   "outputs": [
    {
     "data": {
      "text/plain": [
       "pandas.core.frame.DataFrame"
      ]
     },
     "execution_count": 166,
     "metadata": {},
     "output_type": "execute_result"
    }
   ],
   "source": [
    "type(df)"
   ]
  },
  {
   "cell_type": "code",
   "execution_count": 246,
   "metadata": {},
   "outputs": [],
   "source": [
    "df['Application_date']=data['Application Date']\n",
    "df['Department']=data['Department']\n",
    "df['Consumption Dept.']=data['Consumption Dept.']\n",
    "df['Supplier Agency']=data['Supplier Agency']\n",
    "df['Location']=data['Location']\n",
    "df['Invoice Date']=data['Invoice Date']\n",
    "df['Supplier']=data['Supplier']\n",
    "df['Material Name']=data['Material Name']\n",
    "df['Invoice Qty']=data['Invoice Qty']\n",
    "df['Incoming Date']=data['Incoming Date']\n",
    "df['Warehouse']=data['Warehouse']\n",
    "df['Incoming Qty']=data['Incoming Qty']\n",
    "df['P/O No']=data['P/O No']\n",
    "df['PO Date']=data['PO Date']\n",
    "df['RTD']=data['RTD']\n",
    "df['RTA']=data['RTA']\n",
    "df['P/O Qty']=data['P/O Qty']\n",
    "df['Application Date Vs Inv Date']=data['Application Date Vs Inv Date']\n",
    "df['Incoming Date Vs PO Date']=data['Incoming Date Vs PO Date']\n",
    "df['Incoming Date Vs RTD']=data['Incoming Date Vs RTD']\n",
    "df['Department']=data['Department']"
   ]
  },
  {
   "cell_type": "code",
   "execution_count": 247,
   "metadata": {},
   "outputs": [
    {
     "data": {
      "text/html": [
       "<div>\n",
       "<style scoped>\n",
       "    .dataframe tbody tr th:only-of-type {\n",
       "        vertical-align: middle;\n",
       "    }\n",
       "\n",
       "    .dataframe tbody tr th {\n",
       "        vertical-align: top;\n",
       "    }\n",
       "\n",
       "    .dataframe thead th {\n",
       "        text-align: right;\n",
       "    }\n",
       "</style>\n",
       "<table border=\"1\" class=\"dataframe\">\n",
       "  <thead>\n",
       "    <tr style=\"text-align: right;\">\n",
       "      <th></th>\n",
       "      <th>Application_date</th>\n",
       "      <th>Department</th>\n",
       "      <th>Consumption Dept.</th>\n",
       "      <th>Supplier Agency</th>\n",
       "      <th>Location</th>\n",
       "      <th>Invoice Date</th>\n",
       "      <th>Supplier</th>\n",
       "      <th>Material Name</th>\n",
       "      <th>Invoice Qty</th>\n",
       "      <th>Incoming Date</th>\n",
       "      <th>Warehouse</th>\n",
       "      <th>Incoming Qty</th>\n",
       "      <th>P/O No</th>\n",
       "      <th>PO Date</th>\n",
       "      <th>RTD</th>\n",
       "      <th>RTA</th>\n",
       "      <th>P/O Qty</th>\n",
       "      <th>Application Date Vs Inv Date</th>\n",
       "      <th>Incoming Date Vs PO Date</th>\n",
       "      <th>Incoming Date Vs RTD</th>\n",
       "    </tr>\n",
       "  </thead>\n",
       "  <tbody>\n",
       "    <tr>\n",
       "      <th>0</th>\n",
       "      <td>2020-01-03</td>\n",
       "      <td>IT</td>\n",
       "      <td>DEVELOPMENT ( ADM )</td>\n",
       "      <td>Z01779</td>\n",
       "      <td>Local</td>\n",
       "      <td>2020-01-03</td>\n",
       "      <td>Z01779</td>\n",
       "      <td>MOUSE LOGITECH B100</td>\n",
       "      <td>1.0</td>\n",
       "      <td>2020-01-03</td>\n",
       "      <td>PWI Consumer W/H</td>\n",
       "      <td>1.0</td>\n",
       "      <td>PWI1-ESP-PO-191227-0008</td>\n",
       "      <td>2019-12-27</td>\n",
       "      <td>2019-12-27</td>\n",
       "      <td>2019-12-27</td>\n",
       "      <td>1.0</td>\n",
       "      <td>0</td>\n",
       "      <td>7.0</td>\n",
       "      <td>7.0</td>\n",
       "    </tr>\n",
       "    <tr>\n",
       "      <th>1</th>\n",
       "      <td>2020-01-03</td>\n",
       "      <td>IT</td>\n",
       "      <td>LABORAT</td>\n",
       "      <td>Z01779</td>\n",
       "      <td>Local</td>\n",
       "      <td>2020-01-03</td>\n",
       "      <td>Z01779</td>\n",
       "      <td>PC NONE BRAND CORE I3 SET</td>\n",
       "      <td>1.0</td>\n",
       "      <td>2020-01-03</td>\n",
       "      <td>PWI Consumer W/H</td>\n",
       "      <td>1.0</td>\n",
       "      <td>PWI1-ESP-PO-191227-0010</td>\n",
       "      <td>2019-12-27</td>\n",
       "      <td>2019-12-27</td>\n",
       "      <td>2019-12-27</td>\n",
       "      <td>1.0</td>\n",
       "      <td>0</td>\n",
       "      <td>7.0</td>\n",
       "      <td>7.0</td>\n",
       "    </tr>\n",
       "    <tr>\n",
       "      <th>2</th>\n",
       "      <td>2020-01-03</td>\n",
       "      <td>IT</td>\n",
       "      <td>PURCHASING</td>\n",
       "      <td>Z01779</td>\n",
       "      <td>Local</td>\n",
       "      <td>2020-01-03</td>\n",
       "      <td>Z01779</td>\n",
       "      <td>MOUSE LOGITECH B100</td>\n",
       "      <td>1.0</td>\n",
       "      <td>2020-01-03</td>\n",
       "      <td>PWI Consumer W/H</td>\n",
       "      <td>1.0</td>\n",
       "      <td>PWI1-ESP-PO-191227-0006</td>\n",
       "      <td>2019-12-27</td>\n",
       "      <td>2019-12-27</td>\n",
       "      <td>2019-12-27</td>\n",
       "      <td>1.0</td>\n",
       "      <td>0</td>\n",
       "      <td>7.0</td>\n",
       "      <td>7.0</td>\n",
       "    </tr>\n",
       "    <tr>\n",
       "      <th>3</th>\n",
       "      <td>2020-01-03</td>\n",
       "      <td>IT</td>\n",
       "      <td>FACTORY.1</td>\n",
       "      <td>Z01779</td>\n",
       "      <td>Local</td>\n",
       "      <td>2020-01-03</td>\n",
       "      <td>Z01779</td>\n",
       "      <td>MINI PC ASUS VM62-4030 PLUS</td>\n",
       "      <td>1.0</td>\n",
       "      <td>2020-01-03</td>\n",
       "      <td>PWI Consumer W/H</td>\n",
       "      <td>1.0</td>\n",
       "      <td>PWI1-ESP-PO-191227-0005</td>\n",
       "      <td>2019-12-27</td>\n",
       "      <td>2019-12-27</td>\n",
       "      <td>2019-12-27</td>\n",
       "      <td>1.0</td>\n",
       "      <td>0</td>\n",
       "      <td>7.0</td>\n",
       "      <td>7.0</td>\n",
       "    </tr>\n",
       "    <tr>\n",
       "      <th>4</th>\n",
       "      <td>2020-01-03</td>\n",
       "      <td>IT</td>\n",
       "      <td>FACTORY. 2 ( MEKANIK )</td>\n",
       "      <td>Z01779</td>\n",
       "      <td>Local</td>\n",
       "      <td>2020-01-03</td>\n",
       "      <td>Z01779</td>\n",
       "      <td>MAINBOARD H81M-SP2H</td>\n",
       "      <td>1.0</td>\n",
       "      <td>2020-01-03</td>\n",
       "      <td>PWI Consumer W/H</td>\n",
       "      <td>1.0</td>\n",
       "      <td>PWI1-ESP-PO-191219-0004</td>\n",
       "      <td>2019-12-19</td>\n",
       "      <td>2019-12-19</td>\n",
       "      <td>2019-12-19</td>\n",
       "      <td>1.0</td>\n",
       "      <td>0</td>\n",
       "      <td>15.0</td>\n",
       "      <td>15.0</td>\n",
       "    </tr>\n",
       "    <tr>\n",
       "      <th>...</th>\n",
       "      <td>...</td>\n",
       "      <td>...</td>\n",
       "      <td>...</td>\n",
       "      <td>...</td>\n",
       "      <td>...</td>\n",
       "      <td>...</td>\n",
       "      <td>...</td>\n",
       "      <td>...</td>\n",
       "      <td>...</td>\n",
       "      <td>...</td>\n",
       "      <td>...</td>\n",
       "      <td>...</td>\n",
       "      <td>...</td>\n",
       "      <td>...</td>\n",
       "      <td>...</td>\n",
       "      <td>...</td>\n",
       "      <td>...</td>\n",
       "      <td>...</td>\n",
       "      <td>...</td>\n",
       "      <td>...</td>\n",
       "    </tr>\n",
       "    <tr>\n",
       "      <th>409908</th>\n",
       "      <td>2020-12-31</td>\n",
       "      <td>PURCHASING</td>\n",
       "      <td>PURCHASING</td>\n",
       "      <td>E00003</td>\n",
       "      <td>Import</td>\n",
       "      <td>2020-12-04</td>\n",
       "      <td>B00052</td>\n",
       "      <td>DJT 2836 JC MESH II PRIMEBLUE - EPM 5</td>\n",
       "      <td>15.0</td>\n",
       "      <td>2020-12-21</td>\n",
       "      <td>PWI Mat W/H(Main)</td>\n",
       "      <td>15.0</td>\n",
       "      <td>PWI1-PFO-UO-201126-0030</td>\n",
       "      <td>2020-11-26</td>\n",
       "      <td>2020-11-27</td>\n",
       "      <td>2020-12-11</td>\n",
       "      <td>15.0</td>\n",
       "      <td>27</td>\n",
       "      <td>25.0</td>\n",
       "      <td>24.0</td>\n",
       "    </tr>\n",
       "    <tr>\n",
       "      <th>409909</th>\n",
       "      <td>2020-12-11</td>\n",
       "      <td>PURCHASING</td>\n",
       "      <td>PURCHASING</td>\n",
       "      <td>E00003</td>\n",
       "      <td>Import</td>\n",
       "      <td>2020-11-28</td>\n",
       "      <td>B00362</td>\n",
       "      <td>HF SD 10641 CDP-P - EPM 5</td>\n",
       "      <td>2.0</td>\n",
       "      <td>2020-12-07</td>\n",
       "      <td>PWI Mat W/H(Main)</td>\n",
       "      <td>2.0</td>\n",
       "      <td>PWI1-PRD-UO-201114-0042</td>\n",
       "      <td>2020-11-14</td>\n",
       "      <td>2020-11-27</td>\n",
       "      <td>2020-12-11</td>\n",
       "      <td>2.0</td>\n",
       "      <td>13</td>\n",
       "      <td>23.0</td>\n",
       "      <td>10.0</td>\n",
       "    </tr>\n",
       "    <tr>\n",
       "      <th>409910</th>\n",
       "      <td>2020-12-23</td>\n",
       "      <td>PURCHASING</td>\n",
       "      <td>PURCHASING</td>\n",
       "      <td>E00003</td>\n",
       "      <td>Import</td>\n",
       "      <td>2020-12-18</td>\n",
       "      <td>B00362</td>\n",
       "      <td>HF ZJ 584 N</td>\n",
       "      <td>25.0</td>\n",
       "      <td>2020-12-28</td>\n",
       "      <td>PWI Mat W/H(Main)</td>\n",
       "      <td>25.0</td>\n",
       "      <td>PWI1-PRD-UO-201201-0012</td>\n",
       "      <td>2020-12-01</td>\n",
       "      <td>2020-12-21</td>\n",
       "      <td>2021-01-04</td>\n",
       "      <td>25.0</td>\n",
       "      <td>5</td>\n",
       "      <td>27.0</td>\n",
       "      <td>7.0</td>\n",
       "    </tr>\n",
       "    <tr>\n",
       "      <th>409911</th>\n",
       "      <td>2020-12-23</td>\n",
       "      <td>PURCHASING</td>\n",
       "      <td>PURCHASING</td>\n",
       "      <td>E00003</td>\n",
       "      <td>Import</td>\n",
       "      <td>2020-12-18</td>\n",
       "      <td>Z01141</td>\n",
       "      <td>1180 AU E TPU X 25 130 BLK STM BASF (PUREBOOST...</td>\n",
       "      <td>8.0</td>\n",
       "      <td>2020-12-28</td>\n",
       "      <td>PWI Mat W/H(Main)</td>\n",
       "      <td>8.0</td>\n",
       "      <td>PWI1-PRD-UO-201031-0034</td>\n",
       "      <td>2020-10-31</td>\n",
       "      <td>2020-11-27</td>\n",
       "      <td>2020-12-11</td>\n",
       "      <td>8.0</td>\n",
       "      <td>5</td>\n",
       "      <td>58.0</td>\n",
       "      <td>31.0</td>\n",
       "    </tr>\n",
       "    <tr>\n",
       "      <th>409912</th>\n",
       "      <td>2020-12-11</td>\n",
       "      <td>PURCHASING</td>\n",
       "      <td>PURCHASING</td>\n",
       "      <td>E00003</td>\n",
       "      <td>Import</td>\n",
       "      <td>2020-12-05</td>\n",
       "      <td>B00362</td>\n",
       "      <td>HF SD 10641 P EPM 5</td>\n",
       "      <td>178.0</td>\n",
       "      <td>2020-12-14</td>\n",
       "      <td>PWI Mat W/H(Main)</td>\n",
       "      <td>178.0</td>\n",
       "      <td>PWI1-PRD-UO-201114-0042</td>\n",
       "      <td>2020-11-14</td>\n",
       "      <td>2020-11-27</td>\n",
       "      <td>2020-12-11</td>\n",
       "      <td>178.0</td>\n",
       "      <td>6</td>\n",
       "      <td>30.0</td>\n",
       "      <td>17.0</td>\n",
       "    </tr>\n",
       "  </tbody>\n",
       "</table>\n",
       "<p>349880 rows × 20 columns</p>\n",
       "</div>"
      ],
      "text/plain": [
       "       Application_date  Department       Consumption Dept. Supplier Agency  \\\n",
       "0            2020-01-03          IT     DEVELOPMENT ( ADM )          Z01779   \n",
       "1            2020-01-03          IT                 LABORAT          Z01779   \n",
       "2            2020-01-03          IT              PURCHASING          Z01779   \n",
       "3            2020-01-03          IT               FACTORY.1          Z01779   \n",
       "4            2020-01-03          IT  FACTORY. 2 ( MEKANIK )          Z01779   \n",
       "...                 ...         ...                     ...             ...   \n",
       "409908       2020-12-31  PURCHASING              PURCHASING          E00003   \n",
       "409909       2020-12-11  PURCHASING              PURCHASING          E00003   \n",
       "409910       2020-12-23  PURCHASING              PURCHASING          E00003   \n",
       "409911       2020-12-23  PURCHASING              PURCHASING          E00003   \n",
       "409912       2020-12-11  PURCHASING              PURCHASING          E00003   \n",
       "\n",
       "       Location Invoice Date Supplier  \\\n",
       "0         Local   2020-01-03   Z01779   \n",
       "1         Local   2020-01-03   Z01779   \n",
       "2         Local   2020-01-03   Z01779   \n",
       "3         Local   2020-01-03   Z01779   \n",
       "4         Local   2020-01-03   Z01779   \n",
       "...         ...          ...      ...   \n",
       "409908   Import   2020-12-04   B00052   \n",
       "409909   Import   2020-11-28   B00362   \n",
       "409910   Import   2020-12-18   B00362   \n",
       "409911   Import   2020-12-18   Z01141   \n",
       "409912   Import   2020-12-05   B00362   \n",
       "\n",
       "                                            Material Name  Invoice Qty  \\\n",
       "0                                     MOUSE LOGITECH B100          1.0   \n",
       "1                               PC NONE BRAND CORE I3 SET          1.0   \n",
       "2                                     MOUSE LOGITECH B100          1.0   \n",
       "3                             MINI PC ASUS VM62-4030 PLUS          1.0   \n",
       "4                                     MAINBOARD H81M-SP2H          1.0   \n",
       "...                                                   ...          ...   \n",
       "409908              DJT 2836 JC MESH II PRIMEBLUE - EPM 5         15.0   \n",
       "409909                          HF SD 10641 CDP-P - EPM 5          2.0   \n",
       "409910                                        HF ZJ 584 N         25.0   \n",
       "409911  1180 AU E TPU X 25 130 BLK STM BASF (PUREBOOST...          8.0   \n",
       "409912                                HF SD 10641 P EPM 5        178.0   \n",
       "\n",
       "       Incoming Date          Warehouse  Incoming Qty  \\\n",
       "0         2020-01-03   PWI Consumer W/H           1.0   \n",
       "1         2020-01-03   PWI Consumer W/H           1.0   \n",
       "2         2020-01-03   PWI Consumer W/H           1.0   \n",
       "3         2020-01-03   PWI Consumer W/H           1.0   \n",
       "4         2020-01-03   PWI Consumer W/H           1.0   \n",
       "...              ...                ...           ...   \n",
       "409908    2020-12-21  PWI Mat W/H(Main)          15.0   \n",
       "409909    2020-12-07  PWI Mat W/H(Main)           2.0   \n",
       "409910    2020-12-28  PWI Mat W/H(Main)          25.0   \n",
       "409911    2020-12-28  PWI Mat W/H(Main)           8.0   \n",
       "409912    2020-12-14  PWI Mat W/H(Main)         178.0   \n",
       "\n",
       "                         P/O No    PO Date        RTD        RTA  P/O Qty  \\\n",
       "0       PWI1-ESP-PO-191227-0008 2019-12-27 2019-12-27 2019-12-27      1.0   \n",
       "1       PWI1-ESP-PO-191227-0010 2019-12-27 2019-12-27 2019-12-27      1.0   \n",
       "2       PWI1-ESP-PO-191227-0006 2019-12-27 2019-12-27 2019-12-27      1.0   \n",
       "3       PWI1-ESP-PO-191227-0005 2019-12-27 2019-12-27 2019-12-27      1.0   \n",
       "4       PWI1-ESP-PO-191219-0004 2019-12-19 2019-12-19 2019-12-19      1.0   \n",
       "...                         ...        ...        ...        ...      ...   \n",
       "409908  PWI1-PFO-UO-201126-0030 2020-11-26 2020-11-27 2020-12-11     15.0   \n",
       "409909  PWI1-PRD-UO-201114-0042 2020-11-14 2020-11-27 2020-12-11      2.0   \n",
       "409910  PWI1-PRD-UO-201201-0012 2020-12-01 2020-12-21 2021-01-04     25.0   \n",
       "409911  PWI1-PRD-UO-201031-0034 2020-10-31 2020-11-27 2020-12-11      8.0   \n",
       "409912  PWI1-PRD-UO-201114-0042 2020-11-14 2020-11-27 2020-12-11    178.0   \n",
       "\n",
       "        Application Date Vs Inv Date  Incoming Date Vs PO Date  \\\n",
       "0                                  0                       7.0   \n",
       "1                                  0                       7.0   \n",
       "2                                  0                       7.0   \n",
       "3                                  0                       7.0   \n",
       "4                                  0                      15.0   \n",
       "...                              ...                       ...   \n",
       "409908                            27                      25.0   \n",
       "409909                            13                      23.0   \n",
       "409910                             5                      27.0   \n",
       "409911                             5                      58.0   \n",
       "409912                             6                      30.0   \n",
       "\n",
       "        Incoming Date Vs RTD  \n",
       "0                        7.0  \n",
       "1                        7.0  \n",
       "2                        7.0  \n",
       "3                        7.0  \n",
       "4                       15.0  \n",
       "...                      ...  \n",
       "409908                  24.0  \n",
       "409909                  10.0  \n",
       "409910                   7.0  \n",
       "409911                  31.0  \n",
       "409912                  17.0  \n",
       "\n",
       "[349880 rows x 20 columns]"
      ]
     },
     "execution_count": 247,
     "metadata": {},
     "output_type": "execute_result"
    }
   ],
   "source": [
    "pd.set_option('display.max_columns', None)\n",
    "df"
   ]
  },
  {
   "cell_type": "code",
   "execution_count": 232,
   "metadata": {},
   "outputs": [
    {
     "ename": "SyntaxError",
     "evalue": "invalid syntax (<ipython-input-232-eed761f0ab22>, line 1)",
     "output_type": "error",
     "traceback": [
      "\u001b[1;36m  File \u001b[1;32m\"<ipython-input-232-eed761f0ab22>\"\u001b[1;36m, line \u001b[1;32m1\u001b[0m\n\u001b[1;33m    x=[1, 2, 3, 4, 5, 6, 7, 8, ,9, 10, 11, 12]\u001b[0m\n\u001b[1;37m                               ^\u001b[0m\n\u001b[1;31mSyntaxError\u001b[0m\u001b[1;31m:\u001b[0m invalid syntax\n"
     ]
    }
   ],
   "source": [
    "x=[]"
   ]
  },
  {
   "cell_type": "code",
   "execution_count": 178,
   "metadata": {},
   "outputs": [
    {
     "ename": "AttributeError",
     "evalue": "'Series' object has no attribute 'month'",
     "output_type": "error",
     "traceback": [
      "\u001b[1;31m---------------------------------------------------------------------------\u001b[0m",
      "\u001b[1;31mAttributeError\u001b[0m                            Traceback (most recent call last)",
      "\u001b[1;32m<ipython-input-178-8df0ebf31296>\u001b[0m in \u001b[0;36m<module>\u001b[1;34m\u001b[0m\n\u001b[1;32m----> 1\u001b[1;33m \u001b[0msns\u001b[0m\u001b[1;33m.\u001b[0m\u001b[0mregplot\u001b[0m\u001b[1;33m(\u001b[0m\u001b[0mx\u001b[0m\u001b[1;33m=\u001b[0m\u001b[0mdf\u001b[0m\u001b[1;33m[\u001b[0m\u001b[1;34m'Application_date'\u001b[0m\u001b[1;33m]\u001b[0m\u001b[1;33m.\u001b[0m\u001b[0mmonth\u001b[0m\u001b[1;33m,\u001b[0m \u001b[0my\u001b[0m\u001b[1;33m=\u001b[0m\u001b[0mdf\u001b[0m\u001b[1;33m[\u001b[0m\u001b[1;34m'Invoice Qty'\u001b[0m\u001b[1;33m]\u001b[0m\u001b[1;33m)\u001b[0m\u001b[1;33m\u001b[0m\u001b[1;33m\u001b[0m\u001b[0m\n\u001b[0m",
      "\u001b[1;32m~\\AppData\\Local\\Programs\\Python\\Python37\\lib\\site-packages\\pandas\\core\\generic.py\u001b[0m in \u001b[0;36m__getattr__\u001b[1;34m(self, name)\u001b[0m\n\u001b[0;32m   5272\u001b[0m             \u001b[1;32mif\u001b[0m \u001b[0mself\u001b[0m\u001b[1;33m.\u001b[0m\u001b[0m_info_axis\u001b[0m\u001b[1;33m.\u001b[0m\u001b[0m_can_hold_identifiers_and_holds_name\u001b[0m\u001b[1;33m(\u001b[0m\u001b[0mname\u001b[0m\u001b[1;33m)\u001b[0m\u001b[1;33m:\u001b[0m\u001b[1;33m\u001b[0m\u001b[1;33m\u001b[0m\u001b[0m\n\u001b[0;32m   5273\u001b[0m                 \u001b[1;32mreturn\u001b[0m \u001b[0mself\u001b[0m\u001b[1;33m[\u001b[0m\u001b[0mname\u001b[0m\u001b[1;33m]\u001b[0m\u001b[1;33m\u001b[0m\u001b[1;33m\u001b[0m\u001b[0m\n\u001b[1;32m-> 5274\u001b[1;33m             \u001b[1;32mreturn\u001b[0m \u001b[0mobject\u001b[0m\u001b[1;33m.\u001b[0m\u001b[0m__getattribute__\u001b[0m\u001b[1;33m(\u001b[0m\u001b[0mself\u001b[0m\u001b[1;33m,\u001b[0m \u001b[0mname\u001b[0m\u001b[1;33m)\u001b[0m\u001b[1;33m\u001b[0m\u001b[1;33m\u001b[0m\u001b[0m\n\u001b[0m\u001b[0;32m   5275\u001b[0m \u001b[1;33m\u001b[0m\u001b[0m\n\u001b[0;32m   5276\u001b[0m     \u001b[1;32mdef\u001b[0m \u001b[0m__setattr__\u001b[0m\u001b[1;33m(\u001b[0m\u001b[0mself\u001b[0m\u001b[1;33m,\u001b[0m \u001b[0mname\u001b[0m\u001b[1;33m:\u001b[0m \u001b[0mstr\u001b[0m\u001b[1;33m,\u001b[0m \u001b[0mvalue\u001b[0m\u001b[1;33m)\u001b[0m \u001b[1;33m->\u001b[0m \u001b[1;32mNone\u001b[0m\u001b[1;33m:\u001b[0m\u001b[1;33m\u001b[0m\u001b[1;33m\u001b[0m\u001b[0m\n",
      "\u001b[1;31mAttributeError\u001b[0m: 'Series' object has no attribute 'month'"
     ]
    }
   ],
   "source": [
    "sns.regplot(p, y=df['Invoice Qty'])"
   ]
  },
  {
   "cell_type": "code",
   "execution_count": null,
   "metadata": {},
   "outputs": [],
   "source": []
  },
  {
   "cell_type": "code",
   "execution_count": 229,
   "metadata": {},
   "outputs": [],
   "source": [
    "x=df['Application_date'][0].month"
   ]
  },
  {
   "cell_type": "code",
   "execution_count": 234,
   "metadata": {},
   "outputs": [],
   "source": [
    "p=np.array([1, 2, 3, 4, 5, 6, 7, 8, 9, 10, 11, 12])"
   ]
  },
  {
   "cell_type": "code",
   "execution_count": 235,
   "metadata": {},
   "outputs": [
    {
     "data": {
      "text/plain": [
       "array([ 1,  2,  3,  4,  5,  6,  7,  8,  9, 10, 11, 12])"
      ]
     },
     "execution_count": 235,
     "metadata": {},
     "output_type": "execute_result"
    }
   ],
   "source": [
    "p"
   ]
  },
  {
   "cell_type": "code",
   "execution_count": 211,
   "metadata": {},
   "outputs": [
    {
     "data": {
      "text/plain": [
       "int"
      ]
     },
     "execution_count": 211,
     "metadata": {},
     "output_type": "execute_result"
    }
   ],
   "source": [
    "type(x)"
   ]
  },
  {
   "cell_type": "code",
   "execution_count": 213,
   "metadata": {},
   "outputs": [
    {
     "data": {
      "text/plain": [
       "numpy.float64"
      ]
     },
     "execution_count": 213,
     "metadata": {},
     "output_type": "execute_result"
    }
   ],
   "source": [
    "type(df['Invoice Qty'][0])"
   ]
  },
  {
   "cell_type": "code",
   "execution_count": 248,
   "metadata": {},
   "outputs": [
    {
     "data": {
      "text/plain": [
       "(Timestamp('2020-01-03 00:00:00'), Timestamp('2020-12-31 00:00:00'))"
      ]
     },
     "execution_count": 248,
     "metadata": {},
     "output_type": "execute_result"
    }
   ],
   "source": [
    "df['Application_date'].min() , df['Application_date'].max()"
   ]
  },
  {
   "cell_type": "code",
   "execution_count": 282,
   "metadata": {},
   "outputs": [
    {
     "name": "stderr",
     "output_type": "stream",
     "text": [
      "C:\\Users\\VENKATESH\\AppData\\Local\\Programs\\Python\\Python37\\lib\\site-packages\\seaborn\\_decorators.py:43: FutureWarning: Pass the following variable as a keyword arg: x. From version 0.12, the only valid positional argument will be `data`, and passing other arguments without an explicit keyword will result in an error or misinterpretation.\n",
      "  FutureWarning\n"
     ]
    },
    {
     "data": {
      "text/plain": [
       "<matplotlib.axes._subplots.AxesSubplot at 0x1fcc5d0f208>"
      ]
     },
     "execution_count": 282,
     "metadata": {},
     "output_type": "execute_result"
    },
    {
     "data": {
      "image/png": "[encoded data removed]",
      "text/plain": [
       "<Figure size 3600x1008 with 1 Axes>"
      ]
     },
     "metadata": {
      "needs_background": "light"
     },
     "output_type": "display_data"
    }
   ],
   "source": [
    "from matplotlib import rcParams\n",
    "plt.rcParams.update(params)\n",
    "rcParams['figure.figsize'] = 50,14\n",
    "sns.countplot(df['Department'].sort_values(ascending = True))"
   ]
  },
  {
   "cell_type": "code",
   "execution_count": 276,
   "metadata": {},
   "outputs": [
    {
     "data": {
      "text/plain": [
       "array(['MOUSE LOGITECH B100', 'PC NONE BRAND CORE I3 SET',\n",
       "       'MINI PC ASUS VM62-4030 PLUS', ...,\n",
       "       'FX6659 / PRINTING + GLOSSY / HEEL',\n",
       "       'FX6882 / STITCHING UPPER + SCREEN PRINTING + EMBROIDERY / UPPER',\n",
       "       'HF SD13006 P CDP JACQUARD'], dtype=object)"
      ]
     },
     "execution_count": 276,
     "metadata": {},
     "output_type": "execute_result"
    }
   ],
   "source": [
    "df['Material Name'].unique()"
   ]
  },
  {
   "cell_type": "code",
   "execution_count": 285,
   "metadata": {},
   "outputs": [
    {
     "name": "stderr",
     "output_type": "stream",
     "text": [
      "C:\\Users\\VENKATESH\\AppData\\Local\\Programs\\Python\\Python37\\lib\\site-packages\\seaborn\\_decorators.py:43: FutureWarning: Pass the following variable as a keyword arg: x. From version 0.12, the only valid positional argument will be `data`, and passing other arguments without an explicit keyword will result in an error or misinterpretation.\n",
      "  FutureWarning\n"
     ]
    },
    {
     "data": {
      "text/plain": [
       "<matplotlib.axes._subplots.AxesSubplot at 0x1fd2c1288d0>"
      ]
     },
     "execution_count": 285,
     "metadata": {},
     "output_type": "execute_result"
    },
    {
     "data": {
      "image/png": "[encoded data removed]",
      "text/plain": [
       "<Figure size 3600x1008 with 1 Axes>"
      ]
     },
     "metadata": {
      "needs_background": "light"
     },
     "output_type": "display_data"
    }
   ],
   "source": [
    "rcParams['figure.figsize'] = 50,14\n",
    "sns.countplot(df['Warehouse'].sort_values(ascending = True))"
   ]
  },
  {
   "cell_type": "code",
   "execution_count": 288,
   "metadata": {},
   "outputs": [],
   "source": [
    "import statsmodels.api as sm\n",
    "from statsmodels.tsa.statespace.sarimax import SARIMAX"
   ]
  },
  {
   "cell_type": "code",
   "execution_count": 289,
   "metadata": {},
   "outputs": [
    {
     "ename": "NameError",
     "evalue": "name 'train_X' is not defined",
     "output_type": "error",
     "traceback": [
      "\u001b[1;31m---------------------------------------------------------------------------\u001b[0m",
      "\u001b[1;31mNameError\u001b[0m                                 Traceback (most recent call last)",
      "\u001b[1;32m<ipython-input-289-0ba24de346f9>\u001b[0m in \u001b[0;36m<module>\u001b[1;34m\u001b[0m\n\u001b[0;32m      3\u001b[0m \u001b[1;33m\u001b[0m\u001b[0m\n\u001b[0;32m      4\u001b[0m \u001b[0mforest_model\u001b[0m \u001b[1;33m=\u001b[0m \u001b[0mRandomForestRegressor\u001b[0m\u001b[1;33m(\u001b[0m\u001b[0mrandom_state\u001b[0m\u001b[1;33m=\u001b[0m\u001b[1;36m1\u001b[0m\u001b[1;33m)\u001b[0m\u001b[1;33m\u001b[0m\u001b[1;33m\u001b[0m\u001b[0m\n\u001b[1;32m----> 5\u001b[1;33m \u001b[0mforest_model\u001b[0m\u001b[1;33m.\u001b[0m\u001b[0mfit\u001b[0m\u001b[1;33m(\u001b[0m\u001b[0mtrain_X\u001b[0m\u001b[1;33m,\u001b[0m \u001b[0mtrain_y\u001b[0m\u001b[1;33m)\u001b[0m\u001b[1;33m\u001b[0m\u001b[1;33m\u001b[0m\u001b[0m\n\u001b[0m\u001b[0;32m      6\u001b[0m \u001b[0mmelb_preds\u001b[0m \u001b[1;33m=\u001b[0m \u001b[0mforest_model\u001b[0m\u001b[1;33m.\u001b[0m\u001b[0mpredict\u001b[0m\u001b[1;33m(\u001b[0m\u001b[0mval_X\u001b[0m\u001b[1;33m)\u001b[0m\u001b[1;33m\u001b[0m\u001b[1;33m\u001b[0m\u001b[0m\n\u001b[0;32m      7\u001b[0m \u001b[0mprint\u001b[0m\u001b[1;33m(\u001b[0m\u001b[0mmean_absolute_error\u001b[0m\u001b[1;33m(\u001b[0m\u001b[0mval_y\u001b[0m\u001b[1;33m,\u001b[0m \u001b[0mmelb_preds\u001b[0m\u001b[1;33m)\u001b[0m\u001b[1;33m)\u001b[0m\u001b[1;33m\u001b[0m\u001b[1;33m\u001b[0m\u001b[0m\n",
      "\u001b[1;31mNameError\u001b[0m: name 'train_X' is not defined"
     ]
    }
   ],
   "source": [
    "from sklearn.ensemble import RandomForestRegressor\n",
    "from sklearn.metrics import mean_absolute_error\n",
    "\n",
    "forest_model = RandomForestRegressor(random_state=1)\n",
    "forest_model.fit(train_X, train_y)\n",
    "melb_preds = forest_model.predict(val_X)\n",
    "print(mean_absolute_error(val_y, melb_preds))"
   ]
  },
  {
   "cell_type": "code",
   "execution_count": null,
   "metadata": {},
   "outputs": [],
   "source": []
  },
  {
   "cell_type": "code",
   "execution_count": 297,
   "metadata": {},
   "outputs": [],
   "source": [
    "train_features = ['Application_date', 'Department', 'Supplier Agency', 'Consumption Dept.',\n",
    "                        'Location', 'Invoice Date', 'Material Name', 'Warehouse']\n",
    "\n"
   ]
  },
  {
   "cell_type": "code",
   "execution_count": 298,
   "metadata": {},
   "outputs": [
    {
     "data": {
      "text/plain": [
       "['Application_date',\n",
       " 'Department',\n",
       " 'Supplier Agency',\n",
       " 'Consumption Dept.',\n",
       " 'Location',\n",
       " 'Invoice Date',\n",
       " 'Material Name',\n",
       " 'Warehouse']"
      ]
     },
     "execution_count": 298,
     "metadata": {},
     "output_type": "execute_result"
    }
   ],
   "source": [
    "train_features"
   ]
  },
  {
   "cell_type": "code",
   "execution_count": 301,
   "metadata": {},
   "outputs": [],
   "source": [
    "X=df[train_features]\n",
    "y=df['Invoice Qty']"
   ]
  },
  {
   "cell_type": "code",
   "execution_count": 302,
   "metadata": {},
   "outputs": [],
   "source": [
    "from sklearn.model_selection import train_test_split\n",
    "\n",
    "train_X, val_X, train_y, val_y = train_test_split(X, y,random_state = 0)"
   ]
  },
  {
   "cell_type": "code",
   "execution_count": 304,
   "metadata": {},
   "outputs": [
    {
     "ename": "TypeError",
     "evalue": "float() argument must be a string or a number, not 'Timestamp'",
     "output_type": "error",
     "traceback": [
      "\u001b[1;31m---------------------------------------------------------------------------\u001b[0m",
      "\u001b[1;31mTypeError\u001b[0m                                 Traceback (most recent call last)",
      "\u001b[1;32m<ipython-input-304-96dc50b187a3>\u001b[0m in \u001b[0;36m<module>\u001b[1;34m\u001b[0m\n\u001b[0;32m      3\u001b[0m \u001b[1;33m\u001b[0m\u001b[0m\n\u001b[0;32m      4\u001b[0m \u001b[0mforest_model\u001b[0m \u001b[1;33m=\u001b[0m \u001b[0mRandomForestRegressor\u001b[0m\u001b[1;33m(\u001b[0m\u001b[0mrandom_state\u001b[0m\u001b[1;33m=\u001b[0m\u001b[1;36m1\u001b[0m\u001b[1;33m)\u001b[0m\u001b[1;33m\u001b[0m\u001b[1;33m\u001b[0m\u001b[0m\n\u001b[1;32m----> 5\u001b[1;33m \u001b[0mforest_model\u001b[0m\u001b[1;33m.\u001b[0m\u001b[0mfit\u001b[0m\u001b[1;33m(\u001b[0m\u001b[0mtrain_X\u001b[0m\u001b[1;33m,\u001b[0m \u001b[0mtrain_y\u001b[0m\u001b[1;33m)\u001b[0m\u001b[1;33m\u001b[0m\u001b[1;33m\u001b[0m\u001b[0m\n\u001b[0m\u001b[0;32m      6\u001b[0m \u001b[0mpredict\u001b[0m \u001b[1;33m=\u001b[0m \u001b[0mforest_model\u001b[0m\u001b[1;33m.\u001b[0m\u001b[0mpredict\u001b[0m\u001b[1;33m(\u001b[0m\u001b[0mval_X\u001b[0m\u001b[1;33m)\u001b[0m\u001b[1;33m\u001b[0m\u001b[1;33m\u001b[0m\u001b[0m\n\u001b[0;32m      7\u001b[0m \u001b[0mprint\u001b[0m\u001b[1;33m(\u001b[0m\u001b[0mmean_absolute_error\u001b[0m\u001b[1;33m(\u001b[0m\u001b[0mval_y\u001b[0m\u001b[1;33m,\u001b[0m \u001b[0mpredict\u001b[0m\u001b[1;33m)\u001b[0m\u001b[1;33m)\u001b[0m\u001b[1;33m\u001b[0m\u001b[1;33m\u001b[0m\u001b[0m\n",
      "\u001b[1;32m~\\AppData\\Local\\Programs\\Python\\Python37\\lib\\site-packages\\sklearn\\ensemble\\_forest.py\u001b[0m in \u001b[0;36mfit\u001b[1;34m(self, X, y, sample_weight)\u001b[0m\n\u001b[0;32m    302\u001b[0m             )\n\u001b[0;32m    303\u001b[0m         X, y = self._validate_data(X, y, multi_output=True,\n\u001b[1;32m--> 304\u001b[1;33m                                    accept_sparse=\"csc\", dtype=DTYPE)\n\u001b[0m\u001b[0;32m    305\u001b[0m         \u001b[1;32mif\u001b[0m \u001b[0msample_weight\u001b[0m \u001b[1;32mis\u001b[0m \u001b[1;32mnot\u001b[0m \u001b[1;32mNone\u001b[0m\u001b[1;33m:\u001b[0m\u001b[1;33m\u001b[0m\u001b[1;33m\u001b[0m\u001b[0m\n\u001b[0;32m    306\u001b[0m             \u001b[0msample_weight\u001b[0m \u001b[1;33m=\u001b[0m \u001b[0m_check_sample_weight\u001b[0m\u001b[1;33m(\u001b[0m\u001b[0msample_weight\u001b[0m\u001b[1;33m,\u001b[0m \u001b[0mX\u001b[0m\u001b[1;33m)\u001b[0m\u001b[1;33m\u001b[0m\u001b[1;33m\u001b[0m\u001b[0m\n",
      "\u001b[1;32m~\\AppData\\Local\\Programs\\Python\\Python37\\lib\\site-packages\\sklearn\\base.py\u001b[0m in \u001b[0;36m_validate_data\u001b[1;34m(self, X, y, reset, validate_separately, **check_params)\u001b[0m\n\u001b[0;32m    430\u001b[0m                 \u001b[0my\u001b[0m \u001b[1;33m=\u001b[0m \u001b[0mcheck_array\u001b[0m\u001b[1;33m(\u001b[0m\u001b[0my\u001b[0m\u001b[1;33m,\u001b[0m \u001b[1;33m**\u001b[0m\u001b[0mcheck_y_params\u001b[0m\u001b[1;33m)\u001b[0m\u001b[1;33m\u001b[0m\u001b[1;33m\u001b[0m\u001b[0m\n\u001b[0;32m    431\u001b[0m             \u001b[1;32melse\u001b[0m\u001b[1;33m:\u001b[0m\u001b[1;33m\u001b[0m\u001b[1;33m\u001b[0m\u001b[0m\n\u001b[1;32m--> 432\u001b[1;33m                 \u001b[0mX\u001b[0m\u001b[1;33m,\u001b[0m \u001b[0my\u001b[0m \u001b[1;33m=\u001b[0m \u001b[0mcheck_X_y\u001b[0m\u001b[1;33m(\u001b[0m\u001b[0mX\u001b[0m\u001b[1;33m,\u001b[0m \u001b[0my\u001b[0m\u001b[1;33m,\u001b[0m \u001b[1;33m**\u001b[0m\u001b[0mcheck_params\u001b[0m\u001b[1;33m)\u001b[0m\u001b[1;33m\u001b[0m\u001b[1;33m\u001b[0m\u001b[0m\n\u001b[0m\u001b[0;32m    433\u001b[0m             \u001b[0mout\u001b[0m \u001b[1;33m=\u001b[0m \u001b[0mX\u001b[0m\u001b[1;33m,\u001b[0m \u001b[0my\u001b[0m\u001b[1;33m\u001b[0m\u001b[1;33m\u001b[0m\u001b[0m\n\u001b[0;32m    434\u001b[0m \u001b[1;33m\u001b[0m\u001b[0m\n",
      "\u001b[1;32m~\\AppData\\Local\\Programs\\Python\\Python37\\lib\\site-packages\\sklearn\\utils\\validation.py\u001b[0m in \u001b[0;36minner_f\u001b[1;34m(*args, **kwargs)\u001b[0m\n\u001b[0;32m     71\u001b[0m                           FutureWarning)\n\u001b[0;32m     72\u001b[0m         \u001b[0mkwargs\u001b[0m\u001b[1;33m.\u001b[0m\u001b[0mupdate\u001b[0m\u001b[1;33m(\u001b[0m\u001b[1;33m{\u001b[0m\u001b[0mk\u001b[0m\u001b[1;33m:\u001b[0m \u001b[0marg\u001b[0m \u001b[1;32mfor\u001b[0m \u001b[0mk\u001b[0m\u001b[1;33m,\u001b[0m \u001b[0marg\u001b[0m \u001b[1;32min\u001b[0m \u001b[0mzip\u001b[0m\u001b[1;33m(\u001b[0m\u001b[0msig\u001b[0m\u001b[1;33m.\u001b[0m\u001b[0mparameters\u001b[0m\u001b[1;33m,\u001b[0m \u001b[0margs\u001b[0m\u001b[1;33m)\u001b[0m\u001b[1;33m}\u001b[0m\u001b[1;33m)\u001b[0m\u001b[1;33m\u001b[0m\u001b[1;33m\u001b[0m\u001b[0m\n\u001b[1;32m---> 73\u001b[1;33m         \u001b[1;32mreturn\u001b[0m \u001b[0mf\u001b[0m\u001b[1;33m(\u001b[0m\u001b[1;33m**\u001b[0m\u001b[0mkwargs\u001b[0m\u001b[1;33m)\u001b[0m\u001b[1;33m\u001b[0m\u001b[1;33m\u001b[0m\u001b[0m\n\u001b[0m\u001b[0;32m     74\u001b[0m     \u001b[1;32mreturn\u001b[0m \u001b[0minner_f\u001b[0m\u001b[1;33m\u001b[0m\u001b[1;33m\u001b[0m\u001b[0m\n\u001b[0;32m     75\u001b[0m \u001b[1;33m\u001b[0m\u001b[0m\n",
      "\u001b[1;32m~\\AppData\\Local\\Programs\\Python\\Python37\\lib\\site-packages\\sklearn\\utils\\validation.py\u001b[0m in \u001b[0;36mcheck_X_y\u001b[1;34m(X, y, accept_sparse, accept_large_sparse, dtype, order, copy, force_all_finite, ensure_2d, allow_nd, multi_output, ensure_min_samples, ensure_min_features, y_numeric, estimator)\u001b[0m\n\u001b[0;32m    801\u001b[0m                     \u001b[0mensure_min_samples\u001b[0m\u001b[1;33m=\u001b[0m\u001b[0mensure_min_samples\u001b[0m\u001b[1;33m,\u001b[0m\u001b[1;33m\u001b[0m\u001b[1;33m\u001b[0m\u001b[0m\n\u001b[0;32m    802\u001b[0m                     \u001b[0mensure_min_features\u001b[0m\u001b[1;33m=\u001b[0m\u001b[0mensure_min_features\u001b[0m\u001b[1;33m,\u001b[0m\u001b[1;33m\u001b[0m\u001b[1;33m\u001b[0m\u001b[0m\n\u001b[1;32m--> 803\u001b[1;33m                     estimator=estimator)\n\u001b[0m\u001b[0;32m    804\u001b[0m     \u001b[1;32mif\u001b[0m \u001b[0mmulti_output\u001b[0m\u001b[1;33m:\u001b[0m\u001b[1;33m\u001b[0m\u001b[1;33m\u001b[0m\u001b[0m\n\u001b[0;32m    805\u001b[0m         y = check_array(y, accept_sparse='csr', force_all_finite=True,\n",
      "\u001b[1;32m~\\AppData\\Local\\Programs\\Python\\Python37\\lib\\site-packages\\sklearn\\utils\\validation.py\u001b[0m in \u001b[0;36minner_f\u001b[1;34m(*args, **kwargs)\u001b[0m\n\u001b[0;32m     71\u001b[0m                           FutureWarning)\n\u001b[0;32m     72\u001b[0m         \u001b[0mkwargs\u001b[0m\u001b[1;33m.\u001b[0m\u001b[0mupdate\u001b[0m\u001b[1;33m(\u001b[0m\u001b[1;33m{\u001b[0m\u001b[0mk\u001b[0m\u001b[1;33m:\u001b[0m \u001b[0marg\u001b[0m \u001b[1;32mfor\u001b[0m \u001b[0mk\u001b[0m\u001b[1;33m,\u001b[0m \u001b[0marg\u001b[0m \u001b[1;32min\u001b[0m \u001b[0mzip\u001b[0m\u001b[1;33m(\u001b[0m\u001b[0msig\u001b[0m\u001b[1;33m.\u001b[0m\u001b[0mparameters\u001b[0m\u001b[1;33m,\u001b[0m \u001b[0margs\u001b[0m\u001b[1;33m)\u001b[0m\u001b[1;33m}\u001b[0m\u001b[1;33m)\u001b[0m\u001b[1;33m\u001b[0m\u001b[1;33m\u001b[0m\u001b[0m\n\u001b[1;32m---> 73\u001b[1;33m         \u001b[1;32mreturn\u001b[0m \u001b[0mf\u001b[0m\u001b[1;33m(\u001b[0m\u001b[1;33m**\u001b[0m\u001b[0mkwargs\u001b[0m\u001b[1;33m)\u001b[0m\u001b[1;33m\u001b[0m\u001b[1;33m\u001b[0m\u001b[0m\n\u001b[0m\u001b[0;32m     74\u001b[0m     \u001b[1;32mreturn\u001b[0m \u001b[0minner_f\u001b[0m\u001b[1;33m\u001b[0m\u001b[1;33m\u001b[0m\u001b[0m\n\u001b[0;32m     75\u001b[0m \u001b[1;33m\u001b[0m\u001b[0m\n",
      "\u001b[1;32m~\\AppData\\Local\\Programs\\Python\\Python37\\lib\\site-packages\\sklearn\\utils\\validation.py\u001b[0m in \u001b[0;36mcheck_array\u001b[1;34m(array, accept_sparse, accept_large_sparse, dtype, order, copy, force_all_finite, ensure_2d, allow_nd, ensure_min_samples, ensure_min_features, estimator)\u001b[0m\n\u001b[0;32m    597\u001b[0m                     \u001b[0marray\u001b[0m \u001b[1;33m=\u001b[0m \u001b[0marray\u001b[0m\u001b[1;33m.\u001b[0m\u001b[0mastype\u001b[0m\u001b[1;33m(\u001b[0m\u001b[0mdtype\u001b[0m\u001b[1;33m,\u001b[0m \u001b[0mcasting\u001b[0m\u001b[1;33m=\u001b[0m\u001b[1;34m\"unsafe\"\u001b[0m\u001b[1;33m,\u001b[0m \u001b[0mcopy\u001b[0m\u001b[1;33m=\u001b[0m\u001b[1;32mFalse\u001b[0m\u001b[1;33m)\u001b[0m\u001b[1;33m\u001b[0m\u001b[1;33m\u001b[0m\u001b[0m\n\u001b[0;32m    598\u001b[0m                 \u001b[1;32melse\u001b[0m\u001b[1;33m:\u001b[0m\u001b[1;33m\u001b[0m\u001b[1;33m\u001b[0m\u001b[0m\n\u001b[1;32m--> 599\u001b[1;33m                     \u001b[0marray\u001b[0m \u001b[1;33m=\u001b[0m \u001b[0mnp\u001b[0m\u001b[1;33m.\u001b[0m\u001b[0masarray\u001b[0m\u001b[1;33m(\u001b[0m\u001b[0marray\u001b[0m\u001b[1;33m,\u001b[0m \u001b[0morder\u001b[0m\u001b[1;33m=\u001b[0m\u001b[0morder\u001b[0m\u001b[1;33m,\u001b[0m \u001b[0mdtype\u001b[0m\u001b[1;33m=\u001b[0m\u001b[0mdtype\u001b[0m\u001b[1;33m)\u001b[0m\u001b[1;33m\u001b[0m\u001b[1;33m\u001b[0m\u001b[0m\n\u001b[0m\u001b[0;32m    600\u001b[0m             \u001b[1;32mexcept\u001b[0m \u001b[0mComplexWarning\u001b[0m\u001b[1;33m:\u001b[0m\u001b[1;33m\u001b[0m\u001b[1;33m\u001b[0m\u001b[0m\n\u001b[0;32m    601\u001b[0m                 raise ValueError(\"Complex data not supported\\n\"\n",
      "\u001b[1;32m~\\AppData\\Local\\Programs\\Python\\Python37\\lib\\site-packages\\numpy\\core\\_asarray.py\u001b[0m in \u001b[0;36masarray\u001b[1;34m(a, dtype, order)\u001b[0m\n\u001b[0;32m     83\u001b[0m \u001b[1;33m\u001b[0m\u001b[0m\n\u001b[0;32m     84\u001b[0m     \"\"\"\n\u001b[1;32m---> 85\u001b[1;33m     \u001b[1;32mreturn\u001b[0m \u001b[0marray\u001b[0m\u001b[1;33m(\u001b[0m\u001b[0ma\u001b[0m\u001b[1;33m,\u001b[0m \u001b[0mdtype\u001b[0m\u001b[1;33m,\u001b[0m \u001b[0mcopy\u001b[0m\u001b[1;33m=\u001b[0m\u001b[1;32mFalse\u001b[0m\u001b[1;33m,\u001b[0m \u001b[0morder\u001b[0m\u001b[1;33m=\u001b[0m\u001b[0morder\u001b[0m\u001b[1;33m)\u001b[0m\u001b[1;33m\u001b[0m\u001b[1;33m\u001b[0m\u001b[0m\n\u001b[0m\u001b[0;32m     86\u001b[0m \u001b[1;33m\u001b[0m\u001b[0m\n\u001b[0;32m     87\u001b[0m \u001b[1;33m\u001b[0m\u001b[0m\n",
      "\u001b[1;31mTypeError\u001b[0m: float() argument must be a string or a number, not 'Timestamp'"
     ]
    }
   ],
   "source": [
    "from sklearn.ensemble import RandomForestRegressor\n",
    "from sklearn.metrics import mean_absolute_error\n",
    "\n",
    "forest_model = RandomForestRegressor(random_state=1)\n",
    "forest_model.fit(train_X, train_y)\n",
    "predict = forest_model.predict(val_X)\n",
    "print(mean_absolute_error(val_y, predict))"
   ]
  },
  {
   "cell_type": "code",
   "execution_count": 307,
   "metadata": {},
   "outputs": [],
   "source": [
    "df['Application_month']=df['Application_date'].dt.month\n",
    "df['Application_week']=df['Application_date'].dt.week"
   ]
  },
  {
   "cell_type": "code",
   "execution_count": 330,
   "metadata": {},
   "outputs": [
    {
     "data": {
      "text/html": [
       "<div>\n",
       "<style scoped>\n",
       "    .dataframe tbody tr th:only-of-type {\n",
       "        vertical-align: middle;\n",
       "    }\n",
       "\n",
       "    .dataframe tbody tr th {\n",
       "        vertical-align: top;\n",
       "    }\n",
       "\n",
       "    .dataframe thead th {\n",
       "        text-align: right;\n",
       "    }\n",
       "</style>\n",
       "<table border=\"1\" class=\"dataframe\">\n",
       "  <thead>\n",
       "    <tr style=\"text-align: right;\">\n",
       "      <th></th>\n",
       "      <th>Application_date</th>\n",
       "      <th>Department</th>\n",
       "      <th>Consumption Dept.</th>\n",
       "      <th>Supplier Agency</th>\n",
       "      <th>Location</th>\n",
       "      <th>Invoice Date</th>\n",
       "      <th>Supplier</th>\n",
       "      <th>Material Name</th>\n",
       "      <th>Invoice Qty</th>\n",
       "      <th>Incoming Date</th>\n",
       "      <th>Warehouse</th>\n",
       "      <th>Incoming Qty</th>\n",
       "      <th>P/O No</th>\n",
       "      <th>PO Date</th>\n",
       "      <th>RTD</th>\n",
       "      <th>RTA</th>\n",
       "      <th>P/O Qty</th>\n",
       "      <th>Application Date Vs Inv Date</th>\n",
       "      <th>Incoming Date Vs PO Date</th>\n",
       "      <th>Incoming Date Vs RTD</th>\n",
       "      <th>Application_month</th>\n",
       "      <th>Application_week</th>\n",
       "    </tr>\n",
       "  </thead>\n",
       "  <tbody>\n",
       "    <tr>\n",
       "      <th>0</th>\n",
       "      <td>2020-01-03</td>\n",
       "      <td>IT</td>\n",
       "      <td>DEVELOPMENT ( ADM )</td>\n",
       "      <td>Z01779</td>\n",
       "      <td>Local</td>\n",
       "      <td>2020-01-03</td>\n",
       "      <td>Z01779</td>\n",
       "      <td>MOUSE LOGITECH B100</td>\n",
       "      <td>1.0</td>\n",
       "      <td>2020-01-03</td>\n",
       "      <td>PWI Consumer W/H</td>\n",
       "      <td>1.0</td>\n",
       "      <td>PWI1-ESP-PO-191227-0008</td>\n",
       "      <td>2019-12-27</td>\n",
       "      <td>2019-12-27</td>\n",
       "      <td>2019-12-27</td>\n",
       "      <td>1.0</td>\n",
       "      <td>0</td>\n",
       "      <td>7.0</td>\n",
       "      <td>7.0</td>\n",
       "      <td>1</td>\n",
       "      <td>1</td>\n",
       "    </tr>\n",
       "    <tr>\n",
       "      <th>1</th>\n",
       "      <td>2020-01-03</td>\n",
       "      <td>IT</td>\n",
       "      <td>LABORAT</td>\n",
       "      <td>Z01779</td>\n",
       "      <td>Local</td>\n",
       "      <td>2020-01-03</td>\n",
       "      <td>Z01779</td>\n",
       "      <td>PC NONE BRAND CORE I3 SET</td>\n",
       "      <td>1.0</td>\n",
       "      <td>2020-01-03</td>\n",
       "      <td>PWI Consumer W/H</td>\n",
       "      <td>1.0</td>\n",
       "      <td>PWI1-ESP-PO-191227-0010</td>\n",
       "      <td>2019-12-27</td>\n",
       "      <td>2019-12-27</td>\n",
       "      <td>2019-12-27</td>\n",
       "      <td>1.0</td>\n",
       "      <td>0</td>\n",
       "      <td>7.0</td>\n",
       "      <td>7.0</td>\n",
       "      <td>1</td>\n",
       "      <td>1</td>\n",
       "    </tr>\n",
       "  </tbody>\n",
       "</table>\n",
       "</div>"
      ],
      "text/plain": [
       "  Application_date Department    Consumption Dept. Supplier Agency Location  \\\n",
       "0       2020-01-03         IT  DEVELOPMENT ( ADM )          Z01779    Local   \n",
       "1       2020-01-03         IT              LABORAT          Z01779    Local   \n",
       "\n",
       "  Invoice Date Supplier              Material Name  Invoice Qty Incoming Date  \\\n",
       "0   2020-01-03   Z01779        MOUSE LOGITECH B100          1.0    2020-01-03   \n",
       "1   2020-01-03   Z01779  PC NONE BRAND CORE I3 SET          1.0    2020-01-03   \n",
       "\n",
       "          Warehouse  Incoming Qty                   P/O No    PO Date  \\\n",
       "0  PWI Consumer W/H           1.0  PWI1-ESP-PO-191227-0008 2019-12-27   \n",
       "1  PWI Consumer W/H           1.0  PWI1-ESP-PO-191227-0010 2019-12-27   \n",
       "\n",
       "         RTD        RTA  P/O Qty  Application Date Vs Inv Date  \\\n",
       "0 2019-12-27 2019-12-27      1.0                             0   \n",
       "1 2019-12-27 2019-12-27      1.0                             0   \n",
       "\n",
       "   Incoming Date Vs PO Date  Incoming Date Vs RTD  Application_month  \\\n",
       "0                       7.0                   7.0                  1   \n",
       "1                       7.0                   7.0                  1   \n",
       "\n",
       "   Application_week  \n",
       "0                 1  \n",
       "1                 1  "
      ]
     },
     "execution_count": 330,
     "metadata": {},
     "output_type": "execute_result"
    }
   ],
   "source": [
    "df.head(2)"
   ]
  },
  {
   "cell_type": "code",
   "execution_count": 335,
   "metadata": {},
   "outputs": [
    {
     "data": {
      "text/html": [
       "<div>\n",
       "<style scoped>\n",
       "    .dataframe tbody tr th:only-of-type {\n",
       "        vertical-align: middle;\n",
       "    }\n",
       "\n",
       "    .dataframe tbody tr th {\n",
       "        vertical-align: top;\n",
       "    }\n",
       "\n",
       "    .dataframe thead th {\n",
       "        text-align: right;\n",
       "    }\n",
       "</style>\n",
       "<table border=\"1\" class=\"dataframe\">\n",
       "  <thead>\n",
       "    <tr style=\"text-align: right;\">\n",
       "      <th></th>\n",
       "      <th>Application_date</th>\n",
       "      <th>Department</th>\n",
       "      <th>Consumption_Dept</th>\n",
       "      <th>Supplier_agency</th>\n",
       "      <th>Location</th>\n",
       "      <th>Invoice_Date</th>\n",
       "      <th>Supplier</th>\n",
       "      <th>Material_Name</th>\n",
       "      <th>Invoice Qty</th>\n",
       "      <th>Incoming Date</th>\n",
       "      <th>Warehouse</th>\n",
       "      <th>Incoming Qty</th>\n",
       "      <th>P/O No</th>\n",
       "      <th>PO Date</th>\n",
       "      <th>RTD</th>\n",
       "      <th>RTA</th>\n",
       "      <th>P/O Qty</th>\n",
       "      <th>Application Date Vs Inv Date</th>\n",
       "      <th>Incoming Date Vs PO Date</th>\n",
       "      <th>Incoming Date Vs RTD</th>\n",
       "      <th>Application_month</th>\n",
       "      <th>Application_week</th>\n",
       "    </tr>\n",
       "  </thead>\n",
       "  <tbody>\n",
       "    <tr>\n",
       "      <th>0</th>\n",
       "      <td>2020-01-03</td>\n",
       "      <td>IT</td>\n",
       "      <td>DEVELOPMENT ( ADM )</td>\n",
       "      <td>Z01779</td>\n",
       "      <td>Local</td>\n",
       "      <td>2020-01-03</td>\n",
       "      <td>Z01779</td>\n",
       "      <td>MOUSE LOGITECH B100</td>\n",
       "      <td>1.0</td>\n",
       "      <td>2020-01-03</td>\n",
       "      <td>PWI Consumer W/H</td>\n",
       "      <td>1.0</td>\n",
       "      <td>PWI1-ESP-PO-191227-0008</td>\n",
       "      <td>2019-12-27</td>\n",
       "      <td>2019-12-27</td>\n",
       "      <td>2019-12-27</td>\n",
       "      <td>1.0</td>\n",
       "      <td>0</td>\n",
       "      <td>7.0</td>\n",
       "      <td>7.0</td>\n",
       "      <td>1</td>\n",
       "      <td>1</td>\n",
       "    </tr>\n",
       "    <tr>\n",
       "      <th>1</th>\n",
       "      <td>2020-01-03</td>\n",
       "      <td>IT</td>\n",
       "      <td>LABORAT</td>\n",
       "      <td>Z01779</td>\n",
       "      <td>Local</td>\n",
       "      <td>2020-01-03</td>\n",
       "      <td>Z01779</td>\n",
       "      <td>PC NONE BRAND CORE I3 SET</td>\n",
       "      <td>1.0</td>\n",
       "      <td>2020-01-03</td>\n",
       "      <td>PWI Consumer W/H</td>\n",
       "      <td>1.0</td>\n",
       "      <td>PWI1-ESP-PO-191227-0010</td>\n",
       "      <td>2019-12-27</td>\n",
       "      <td>2019-12-27</td>\n",
       "      <td>2019-12-27</td>\n",
       "      <td>1.0</td>\n",
       "      <td>0</td>\n",
       "      <td>7.0</td>\n",
       "      <td>7.0</td>\n",
       "      <td>1</td>\n",
       "      <td>1</td>\n",
       "    </tr>\n",
       "  </tbody>\n",
       "</table>\n",
       "</div>"
      ],
      "text/plain": [
       "  Application_date Department     Consumption_Dept Supplier_agency Location  \\\n",
       "0       2020-01-03         IT  DEVELOPMENT ( ADM )          Z01779    Local   \n",
       "1       2020-01-03         IT              LABORAT          Z01779    Local   \n",
       "\n",
       "  Invoice_Date Supplier              Material_Name  Invoice Qty Incoming Date  \\\n",
       "0   2020-01-03   Z01779        MOUSE LOGITECH B100          1.0    2020-01-03   \n",
       "1   2020-01-03   Z01779  PC NONE BRAND CORE I3 SET          1.0    2020-01-03   \n",
       "\n",
       "          Warehouse  Incoming Qty                   P/O No    PO Date  \\\n",
       "0  PWI Consumer W/H           1.0  PWI1-ESP-PO-191227-0008 2019-12-27   \n",
       "1  PWI Consumer W/H           1.0  PWI1-ESP-PO-191227-0010 2019-12-27   \n",
       "\n",
       "         RTD        RTA  P/O Qty  Application Date Vs Inv Date  \\\n",
       "0 2019-12-27 2019-12-27      1.0                             0   \n",
       "1 2019-12-27 2019-12-27      1.0                             0   \n",
       "\n",
       "   Incoming Date Vs PO Date  Incoming Date Vs RTD  Application_month  \\\n",
       "0                       7.0                   7.0                  1   \n",
       "1                       7.0                   7.0                  1   \n",
       "\n",
       "   Application_week  \n",
       "0                 1  \n",
       "1                 1  "
      ]
     },
     "execution_count": 335,
     "metadata": {},
     "output_type": "execute_result"
    }
   ],
   "source": [
    "df=df.rename(columns={'Supplier Agency': 'Supplier_agency', 'Invoice Date':'Invoice_Date', 'Material Name':'Material_Name', 'Consumption Dept.': 'Consumption_Dept'})\n",
    "df.head(2)"
   ]
  },
  {
   "cell_type": "code",
   "execution_count": 342,
   "metadata": {},
   "outputs": [
    {
     "name": "stderr",
     "output_type": "stream",
     "text": [
      "C:\\Users\\VENKATESH\\AppData\\Local\\Programs\\Python\\Python37\\lib\\site-packages\\ipykernel_launcher.py:5: SettingWithCopyWarning: \n",
      "A value is trying to be set on a copy of a slice from a DataFrame.\n",
      "Try using .loc[row_indexer,col_indexer] = value instead\n",
      "\n",
      "See the caveats in the documentation: https://pandas.pydata.org/pandas-docs/stable/user_guide/indexing.html#returning-a-view-versus-a-copy\n",
      "  \"\"\"\n",
      "C:\\Users\\VENKATESH\\AppData\\Local\\Programs\\Python\\Python37\\lib\\site-packages\\ipykernel_launcher.py:6: SettingWithCopyWarning: \n",
      "A value is trying to be set on a copy of a slice from a DataFrame.\n",
      "Try using .loc[row_indexer,col_indexer] = value instead\n",
      "\n",
      "See the caveats in the documentation: https://pandas.pydata.org/pandas-docs/stable/user_guide/indexing.html#returning-a-view-versus-a-copy\n",
      "  \n",
      "C:\\Users\\VENKATESH\\AppData\\Local\\Programs\\Python\\Python37\\lib\\site-packages\\ipykernel_launcher.py:7: SettingWithCopyWarning: \n",
      "A value is trying to be set on a copy of a slice from a DataFrame.\n",
      "Try using .loc[row_indexer,col_indexer] = value instead\n",
      "\n",
      "See the caveats in the documentation: https://pandas.pydata.org/pandas-docs/stable/user_guide/indexing.html#returning-a-view-versus-a-copy\n",
      "  import sys\n",
      "C:\\Users\\VENKATESH\\AppData\\Local\\Programs\\Python\\Python37\\lib\\site-packages\\ipykernel_launcher.py:8: SettingWithCopyWarning: \n",
      "A value is trying to be set on a copy of a slice from a DataFrame.\n",
      "Try using .loc[row_indexer,col_indexer] = value instead\n",
      "\n",
      "See the caveats in the documentation: https://pandas.pydata.org/pandas-docs/stable/user_guide/indexing.html#returning-a-view-versus-a-copy\n",
      "  \n",
      "C:\\Users\\VENKATESH\\AppData\\Local\\Programs\\Python\\Python37\\lib\\site-packages\\ipykernel_launcher.py:9: SettingWithCopyWarning: \n",
      "A value is trying to be set on a copy of a slice from a DataFrame.\n",
      "Try using .loc[row_indexer,col_indexer] = value instead\n",
      "\n",
      "See the caveats in the documentation: https://pandas.pydata.org/pandas-docs/stable/user_guide/indexing.html#returning-a-view-versus-a-copy\n",
      "  if __name__ == '__main__':\n"
     ]
    },
    {
     "ename": "ValueError",
     "evalue": "could not convert string to float: 'PURCHASING'",
     "output_type": "error",
     "traceback": [
      "\u001b[1;31m---------------------------------------------------------------------------\u001b[0m",
      "\u001b[1;31mValueError\u001b[0m                                Traceback (most recent call last)",
      "\u001b[1;32m<ipython-input-342-78a560bed8c1>\u001b[0m in \u001b[0;36m<module>\u001b[1;34m\u001b[0m\n\u001b[0;32m     12\u001b[0m \u001b[1;33m\u001b[0m\u001b[0m\n\u001b[0;32m     13\u001b[0m \u001b[0mforest_model\u001b[0m \u001b[1;33m=\u001b[0m \u001b[0mRandomForestRegressor\u001b[0m\u001b[1;33m(\u001b[0m\u001b[0mrandom_state\u001b[0m\u001b[1;33m=\u001b[0m\u001b[1;36m1\u001b[0m\u001b[1;33m)\u001b[0m\u001b[1;33m\u001b[0m\u001b[1;33m\u001b[0m\u001b[0m\n\u001b[1;32m---> 14\u001b[1;33m \u001b[0mforest_model\u001b[0m\u001b[1;33m.\u001b[0m\u001b[0mfit\u001b[0m\u001b[1;33m(\u001b[0m\u001b[0mtrain_X\u001b[0m\u001b[1;33m,\u001b[0m \u001b[0mtrain_y\u001b[0m\u001b[1;33m)\u001b[0m\u001b[1;33m\u001b[0m\u001b[1;33m\u001b[0m\u001b[0m\n\u001b[0m\u001b[0;32m     15\u001b[0m \u001b[0mpredict\u001b[0m \u001b[1;33m=\u001b[0m \u001b[0mforest_model\u001b[0m\u001b[1;33m.\u001b[0m\u001b[0mpredict\u001b[0m\u001b[1;33m(\u001b[0m\u001b[0mtest_X\u001b[0m\u001b[1;33m)\u001b[0m\u001b[1;33m\u001b[0m\u001b[1;33m\u001b[0m\u001b[0m\n\u001b[0;32m     16\u001b[0m \u001b[0mprint\u001b[0m\u001b[1;33m(\u001b[0m\u001b[0mmean_absolute_error\u001b[0m\u001b[1;33m(\u001b[0m\u001b[0mtest_y\u001b[0m\u001b[1;33m,\u001b[0m \u001b[0mpredict\u001b[0m\u001b[1;33m)\u001b[0m\u001b[1;33m)\u001b[0m\u001b[1;33m\u001b[0m\u001b[1;33m\u001b[0m\u001b[0m\n",
      "\u001b[1;32m~\\AppData\\Local\\Programs\\Python\\Python37\\lib\\site-packages\\sklearn\\ensemble\\_forest.py\u001b[0m in \u001b[0;36mfit\u001b[1;34m(self, X, y, sample_weight)\u001b[0m\n\u001b[0;32m    302\u001b[0m             )\n\u001b[0;32m    303\u001b[0m         X, y = self._validate_data(X, y, multi_output=True,\n\u001b[1;32m--> 304\u001b[1;33m                                    accept_sparse=\"csc\", dtype=DTYPE)\n\u001b[0m\u001b[0;32m    305\u001b[0m         \u001b[1;32mif\u001b[0m \u001b[0msample_weight\u001b[0m \u001b[1;32mis\u001b[0m \u001b[1;32mnot\u001b[0m \u001b[1;32mNone\u001b[0m\u001b[1;33m:\u001b[0m\u001b[1;33m\u001b[0m\u001b[1;33m\u001b[0m\u001b[0m\n\u001b[0;32m    306\u001b[0m             \u001b[0msample_weight\u001b[0m \u001b[1;33m=\u001b[0m \u001b[0m_check_sample_weight\u001b[0m\u001b[1;33m(\u001b[0m\u001b[0msample_weight\u001b[0m\u001b[1;33m,\u001b[0m \u001b[0mX\u001b[0m\u001b[1;33m)\u001b[0m\u001b[1;33m\u001b[0m\u001b[1;33m\u001b[0m\u001b[0m\n",
      "\u001b[1;32m~\\AppData\\Local\\Programs\\Python\\Python37\\lib\\site-packages\\sklearn\\base.py\u001b[0m in \u001b[0;36m_validate_data\u001b[1;34m(self, X, y, reset, validate_separately, **check_params)\u001b[0m\n\u001b[0;32m    430\u001b[0m                 \u001b[0my\u001b[0m \u001b[1;33m=\u001b[0m \u001b[0mcheck_array\u001b[0m\u001b[1;33m(\u001b[0m\u001b[0my\u001b[0m\u001b[1;33m,\u001b[0m \u001b[1;33m**\u001b[0m\u001b[0mcheck_y_params\u001b[0m\u001b[1;33m)\u001b[0m\u001b[1;33m\u001b[0m\u001b[1;33m\u001b[0m\u001b[0m\n\u001b[0;32m    431\u001b[0m             \u001b[1;32melse\u001b[0m\u001b[1;33m:\u001b[0m\u001b[1;33m\u001b[0m\u001b[1;33m\u001b[0m\u001b[0m\n\u001b[1;32m--> 432\u001b[1;33m                 \u001b[0mX\u001b[0m\u001b[1;33m,\u001b[0m \u001b[0my\u001b[0m \u001b[1;33m=\u001b[0m \u001b[0mcheck_X_y\u001b[0m\u001b[1;33m(\u001b[0m\u001b[0mX\u001b[0m\u001b[1;33m,\u001b[0m \u001b[0my\u001b[0m\u001b[1;33m,\u001b[0m \u001b[1;33m**\u001b[0m\u001b[0mcheck_params\u001b[0m\u001b[1;33m)\u001b[0m\u001b[1;33m\u001b[0m\u001b[1;33m\u001b[0m\u001b[0m\n\u001b[0m\u001b[0;32m    433\u001b[0m             \u001b[0mout\u001b[0m \u001b[1;33m=\u001b[0m \u001b[0mX\u001b[0m\u001b[1;33m,\u001b[0m \u001b[0my\u001b[0m\u001b[1;33m\u001b[0m\u001b[1;33m\u001b[0m\u001b[0m\n\u001b[0;32m    434\u001b[0m \u001b[1;33m\u001b[0m\u001b[0m\n",
      "\u001b[1;32m~\\AppData\\Local\\Programs\\Python\\Python37\\lib\\site-packages\\sklearn\\utils\\validation.py\u001b[0m in \u001b[0;36minner_f\u001b[1;34m(*args, **kwargs)\u001b[0m\n\u001b[0;32m     71\u001b[0m                           FutureWarning)\n\u001b[0;32m     72\u001b[0m         \u001b[0mkwargs\u001b[0m\u001b[1;33m.\u001b[0m\u001b[0mupdate\u001b[0m\u001b[1;33m(\u001b[0m\u001b[1;33m{\u001b[0m\u001b[0mk\u001b[0m\u001b[1;33m:\u001b[0m \u001b[0marg\u001b[0m \u001b[1;32mfor\u001b[0m \u001b[0mk\u001b[0m\u001b[1;33m,\u001b[0m \u001b[0marg\u001b[0m \u001b[1;32min\u001b[0m \u001b[0mzip\u001b[0m\u001b[1;33m(\u001b[0m\u001b[0msig\u001b[0m\u001b[1;33m.\u001b[0m\u001b[0mparameters\u001b[0m\u001b[1;33m,\u001b[0m \u001b[0margs\u001b[0m\u001b[1;33m)\u001b[0m\u001b[1;33m}\u001b[0m\u001b[1;33m)\u001b[0m\u001b[1;33m\u001b[0m\u001b[1;33m\u001b[0m\u001b[0m\n\u001b[1;32m---> 73\u001b[1;33m         \u001b[1;32mreturn\u001b[0m \u001b[0mf\u001b[0m\u001b[1;33m(\u001b[0m\u001b[1;33m**\u001b[0m\u001b[0mkwargs\u001b[0m\u001b[1;33m)\u001b[0m\u001b[1;33m\u001b[0m\u001b[1;33m\u001b[0m\u001b[0m\n\u001b[0m\u001b[0;32m     74\u001b[0m     \u001b[1;32mreturn\u001b[0m \u001b[0minner_f\u001b[0m\u001b[1;33m\u001b[0m\u001b[1;33m\u001b[0m\u001b[0m\n\u001b[0;32m     75\u001b[0m \u001b[1;33m\u001b[0m\u001b[0m\n",
      "\u001b[1;32m~\\AppData\\Local\\Programs\\Python\\Python37\\lib\\site-packages\\sklearn\\utils\\validation.py\u001b[0m in \u001b[0;36mcheck_X_y\u001b[1;34m(X, y, accept_sparse, accept_large_sparse, dtype, order, copy, force_all_finite, ensure_2d, allow_nd, multi_output, ensure_min_samples, ensure_min_features, y_numeric, estimator)\u001b[0m\n\u001b[0;32m    801\u001b[0m                     \u001b[0mensure_min_samples\u001b[0m\u001b[1;33m=\u001b[0m\u001b[0mensure_min_samples\u001b[0m\u001b[1;33m,\u001b[0m\u001b[1;33m\u001b[0m\u001b[1;33m\u001b[0m\u001b[0m\n\u001b[0;32m    802\u001b[0m                     \u001b[0mensure_min_features\u001b[0m\u001b[1;33m=\u001b[0m\u001b[0mensure_min_features\u001b[0m\u001b[1;33m,\u001b[0m\u001b[1;33m\u001b[0m\u001b[1;33m\u001b[0m\u001b[0m\n\u001b[1;32m--> 803\u001b[1;33m                     estimator=estimator)\n\u001b[0m\u001b[0;32m    804\u001b[0m     \u001b[1;32mif\u001b[0m \u001b[0mmulti_output\u001b[0m\u001b[1;33m:\u001b[0m\u001b[1;33m\u001b[0m\u001b[1;33m\u001b[0m\u001b[0m\n\u001b[0;32m    805\u001b[0m         y = check_array(y, accept_sparse='csr', force_all_finite=True,\n",
      "\u001b[1;32m~\\AppData\\Local\\Programs\\Python\\Python37\\lib\\site-packages\\sklearn\\utils\\validation.py\u001b[0m in \u001b[0;36minner_f\u001b[1;34m(*args, **kwargs)\u001b[0m\n\u001b[0;32m     71\u001b[0m                           FutureWarning)\n\u001b[0;32m     72\u001b[0m         \u001b[0mkwargs\u001b[0m\u001b[1;33m.\u001b[0m\u001b[0mupdate\u001b[0m\u001b[1;33m(\u001b[0m\u001b[1;33m{\u001b[0m\u001b[0mk\u001b[0m\u001b[1;33m:\u001b[0m \u001b[0marg\u001b[0m \u001b[1;32mfor\u001b[0m \u001b[0mk\u001b[0m\u001b[1;33m,\u001b[0m \u001b[0marg\u001b[0m \u001b[1;32min\u001b[0m \u001b[0mzip\u001b[0m\u001b[1;33m(\u001b[0m\u001b[0msig\u001b[0m\u001b[1;33m.\u001b[0m\u001b[0mparameters\u001b[0m\u001b[1;33m,\u001b[0m \u001b[0margs\u001b[0m\u001b[1;33m)\u001b[0m\u001b[1;33m}\u001b[0m\u001b[1;33m)\u001b[0m\u001b[1;33m\u001b[0m\u001b[1;33m\u001b[0m\u001b[0m\n\u001b[1;32m---> 73\u001b[1;33m         \u001b[1;32mreturn\u001b[0m \u001b[0mf\u001b[0m\u001b[1;33m(\u001b[0m\u001b[1;33m**\u001b[0m\u001b[0mkwargs\u001b[0m\u001b[1;33m)\u001b[0m\u001b[1;33m\u001b[0m\u001b[1;33m\u001b[0m\u001b[0m\n\u001b[0m\u001b[0;32m     74\u001b[0m     \u001b[1;32mreturn\u001b[0m \u001b[0minner_f\u001b[0m\u001b[1;33m\u001b[0m\u001b[1;33m\u001b[0m\u001b[0m\n\u001b[0;32m     75\u001b[0m \u001b[1;33m\u001b[0m\u001b[0m\n",
      "\u001b[1;32m~\\AppData\\Local\\Programs\\Python\\Python37\\lib\\site-packages\\sklearn\\utils\\validation.py\u001b[0m in \u001b[0;36mcheck_array\u001b[1;34m(array, accept_sparse, accept_large_sparse, dtype, order, copy, force_all_finite, ensure_2d, allow_nd, ensure_min_samples, ensure_min_features, estimator)\u001b[0m\n\u001b[0;32m    597\u001b[0m                     \u001b[0marray\u001b[0m \u001b[1;33m=\u001b[0m \u001b[0marray\u001b[0m\u001b[1;33m.\u001b[0m\u001b[0mastype\u001b[0m\u001b[1;33m(\u001b[0m\u001b[0mdtype\u001b[0m\u001b[1;33m,\u001b[0m \u001b[0mcasting\u001b[0m\u001b[1;33m=\u001b[0m\u001b[1;34m\"unsafe\"\u001b[0m\u001b[1;33m,\u001b[0m \u001b[0mcopy\u001b[0m\u001b[1;33m=\u001b[0m\u001b[1;32mFalse\u001b[0m\u001b[1;33m)\u001b[0m\u001b[1;33m\u001b[0m\u001b[1;33m\u001b[0m\u001b[0m\n\u001b[0;32m    598\u001b[0m                 \u001b[1;32melse\u001b[0m\u001b[1;33m:\u001b[0m\u001b[1;33m\u001b[0m\u001b[1;33m\u001b[0m\u001b[0m\n\u001b[1;32m--> 599\u001b[1;33m                     \u001b[0marray\u001b[0m \u001b[1;33m=\u001b[0m \u001b[0mnp\u001b[0m\u001b[1;33m.\u001b[0m\u001b[0masarray\u001b[0m\u001b[1;33m(\u001b[0m\u001b[0marray\u001b[0m\u001b[1;33m,\u001b[0m \u001b[0morder\u001b[0m\u001b[1;33m=\u001b[0m\u001b[0morder\u001b[0m\u001b[1;33m,\u001b[0m \u001b[0mdtype\u001b[0m\u001b[1;33m=\u001b[0m\u001b[0mdtype\u001b[0m\u001b[1;33m)\u001b[0m\u001b[1;33m\u001b[0m\u001b[1;33m\u001b[0m\u001b[0m\n\u001b[0m\u001b[0;32m    600\u001b[0m             \u001b[1;32mexcept\u001b[0m \u001b[0mComplexWarning\u001b[0m\u001b[1;33m:\u001b[0m\u001b[1;33m\u001b[0m\u001b[1;33m\u001b[0m\u001b[0m\n\u001b[0;32m    601\u001b[0m                 raise ValueError(\"Complex data not supported\\n\"\n",
      "\u001b[1;32m~\\AppData\\Local\\Programs\\Python\\Python37\\lib\\site-packages\\numpy\\core\\_asarray.py\u001b[0m in \u001b[0;36masarray\u001b[1;34m(a, dtype, order)\u001b[0m\n\u001b[0;32m     83\u001b[0m \u001b[1;33m\u001b[0m\u001b[0m\n\u001b[0;32m     84\u001b[0m     \"\"\"\n\u001b[1;32m---> 85\u001b[1;33m     \u001b[1;32mreturn\u001b[0m \u001b[0marray\u001b[0m\u001b[1;33m(\u001b[0m\u001b[0ma\u001b[0m\u001b[1;33m,\u001b[0m \u001b[0mdtype\u001b[0m\u001b[1;33m,\u001b[0m \u001b[0mcopy\u001b[0m\u001b[1;33m=\u001b[0m\u001b[1;32mFalse\u001b[0m\u001b[1;33m,\u001b[0m \u001b[0morder\u001b[0m\u001b[1;33m=\u001b[0m\u001b[0morder\u001b[0m\u001b[1;33m)\u001b[0m\u001b[1;33m\u001b[0m\u001b[1;33m\u001b[0m\u001b[0m\n\u001b[0m\u001b[0;32m     86\u001b[0m \u001b[1;33m\u001b[0m\u001b[0m\n\u001b[0;32m     87\u001b[0m \u001b[1;33m\u001b[0m\u001b[0m\n",
      "\u001b[1;31mValueError\u001b[0m: could not convert string to float: 'PURCHASING'"
     ]
    }
   ],
   "source": [
    "train_features = ['Application_month', 'Department', 'Supplier_agency', 'Consumption_Dept',\n",
    "                        'Location', 'Invoice_Date', 'Material_Name', 'Warehouse']\n",
    "\n",
    "X=df[train_features]\n",
    "y=df['Invoice Qty']\n",
    "\n",
    "\n",
    "train_X, test_X, train_y, test_y = train_test_split(X, y,random_state = 0)\n",
    "\n",
    "train_X=convert(train_X)\n",
    "test_X=convert(test_X)\n",
    "\n",
    "train_y=convert(train_y)\n",
    "test_y=convert(test_y)\n",
    "\n",
    "\n",
    "forest_model = RandomForestRegressor(random_state=1)\n",
    "forest_model.fit(train_X, train_y)\n",
    "predict = forest_model.predict(test_X)\n",
    "print(mean_absolute_error(test_y, predict))"
   ]
  },
  {
   "cell_type": "code",
   "execution_count": 314,
   "metadata": {},
   "outputs": [
    {
     "data": {
      "text/plain": [
       "numpy.int64"
      ]
     },
     "execution_count": 314,
     "metadata": {},
     "output_type": "execute_result"
    }
   ],
   "source": [
    "type(df['Application_month'][0])"
   ]
  },
  {
   "cell_type": "code",
   "execution_count": 315,
   "metadata": {},
   "outputs": [],
   "source": []
  },
  {
   "cell_type": "code",
   "execution_count": 316,
   "metadata": {},
   "outputs": [
    {
     "data": {
      "text/html": [
       "<div>\n",
       "<style scoped>\n",
       "    .dataframe tbody tr th:only-of-type {\n",
       "        vertical-align: middle;\n",
       "    }\n",
       "\n",
       "    .dataframe tbody tr th {\n",
       "        vertical-align: top;\n",
       "    }\n",
       "\n",
       "    .dataframe thead th {\n",
       "        text-align: right;\n",
       "    }\n",
       "</style>\n",
       "<table border=\"1\" class=\"dataframe\">\n",
       "  <thead>\n",
       "    <tr style=\"text-align: right;\">\n",
       "      <th></th>\n",
       "      <th>Application_month</th>\n",
       "      <th>Department</th>\n",
       "      <th>Supplier Agency</th>\n",
       "      <th>Consumption Dept.</th>\n",
       "      <th>Location</th>\n",
       "      <th>Invoice Date</th>\n",
       "      <th>Material Name</th>\n",
       "      <th>Warehouse</th>\n",
       "    </tr>\n",
       "  </thead>\n",
       "  <tbody>\n",
       "    <tr>\n",
       "      <th>71023</th>\n",
       "      <td>2</td>\n",
       "      <td>PURCHASING</td>\n",
       "      <td>004400</td>\n",
       "      <td>PURCHASING</td>\n",
       "      <td>Local</td>\n",
       "      <td>2020-02-11</td>\n",
       "      <td>FV4723 / PAINTING /SPRAY / MIDSOLE</td>\n",
       "      <td>PWI Plan W/H</td>\n",
       "    </tr>\n",
       "    <tr>\n",
       "      <th>159125</th>\n",
       "      <td>4</td>\n",
       "      <td>PURCHASING</td>\n",
       "      <td>004229</td>\n",
       "      <td>PURCHASING</td>\n",
       "      <td>Local</td>\n",
       "      <td>2020-04-23</td>\n",
       "      <td>FW9260 / NO SEW + HF WELDING / VAMP QUARTER</td>\n",
       "      <td>PWI Plan W/H</td>\n",
       "    </tr>\n",
       "    <tr>\n",
       "      <th>241320</th>\n",
       "      <td>7</td>\n",
       "      <td>PURCHASING</td>\n",
       "      <td>B00029</td>\n",
       "      <td>PURCHASING</td>\n",
       "      <td>Local</td>\n",
       "      <td>2020-07-14</td>\n",
       "      <td>SHOE LACE T 4004</td>\n",
       "      <td>PWI Mat W/H(Main)</td>\n",
       "    </tr>\n",
       "    <tr>\n",
       "      <th>344605</th>\n",
       "      <td>10</td>\n",
       "      <td>DEV. SAMPLE</td>\n",
       "      <td>B00181</td>\n",
       "      <td>DEVELOPMENT ( SAMPLE )</td>\n",
       "      <td>Local</td>\n",
       "      <td>2020-08-10</td>\n",
       "      <td>FLAT LACE 32308 - EPM 5, Length: 115CM Width: 6MM</td>\n",
       "      <td>PWI Sample Mat W/H</td>\n",
       "    </tr>\n",
       "    <tr>\n",
       "      <th>137452</th>\n",
       "      <td>3</td>\n",
       "      <td>PURCHASING</td>\n",
       "      <td>E00003</td>\n",
       "      <td>PURCHASING</td>\n",
       "      <td>Import</td>\n",
       "      <td>2020-03-16</td>\n",
       "      <td>1180 AU E TPU 32 110 STM BASF (X9000L3 Ms)</td>\n",
       "      <td>PWI Mat W/H(Main)</td>\n",
       "    </tr>\n",
       "    <tr>\n",
       "      <th>...</th>\n",
       "      <td>...</td>\n",
       "      <td>...</td>\n",
       "      <td>...</td>\n",
       "      <td>...</td>\n",
       "      <td>...</td>\n",
       "      <td>...</td>\n",
       "      <td>...</td>\n",
       "      <td>...</td>\n",
       "    </tr>\n",
       "    <tr>\n",
       "      <th>151700</th>\n",
       "      <td>4</td>\n",
       "      <td>PURCHASING</td>\n",
       "      <td>B00029</td>\n",
       "      <td>PURCHASING</td>\n",
       "      <td>Local</td>\n",
       "      <td>2020-04-21</td>\n",
       "      <td>EG5400 / NO SEW / VAMP QUARTER</td>\n",
       "      <td>PWI Plan W/H</td>\n",
       "    </tr>\n",
       "    <tr>\n",
       "      <th>358119</th>\n",
       "      <td>11</td>\n",
       "      <td>PURCHASING</td>\n",
       "      <td>B00494</td>\n",
       "      <td>PURCHASING</td>\n",
       "      <td>Local</td>\n",
       "      <td>2020-11-24</td>\n",
       "      <td>FY5680 / Sewing, laminating, cutting , logo / ...</td>\n",
       "      <td>PWI I/S WH</td>\n",
       "    </tr>\n",
       "    <tr>\n",
       "      <th>185085</th>\n",
       "      <td>5</td>\n",
       "      <td>PURCHASING</td>\n",
       "      <td>E00003</td>\n",
       "      <td>PURCHASING</td>\n",
       "      <td>Import</td>\n",
       "      <td>2020-05-11</td>\n",
       "      <td>1180 AU E TPU X 25 130 STM BASF (X9000L4 Ms)</td>\n",
       "      <td>PWI Mat W/H(Main)</td>\n",
       "    </tr>\n",
       "    <tr>\n",
       "      <th>146807</th>\n",
       "      <td>4</td>\n",
       "      <td>PLAN</td>\n",
       "      <td>Z01594</td>\n",
       "      <td>PLANNING ( PRODUCTION )</td>\n",
       "      <td>Local</td>\n",
       "      <td>2020-04-30</td>\n",
       "      <td>FW9262 / STITCHING UPPER / UPPER</td>\n",
       "      <td>PWI Plan W/H</td>\n",
       "    </tr>\n",
       "    <tr>\n",
       "      <th>359780</th>\n",
       "      <td>11</td>\n",
       "      <td>DEV. SAMPLE</td>\n",
       "      <td>B00181</td>\n",
       "      <td>DEVELOPMENT ( SAMPLE )</td>\n",
       "      <td>Local</td>\n",
       "      <td>2020-10-30</td>\n",
       "      <td>Round lace 32333 - EPM 5/4MM X 120 CM</td>\n",
       "      <td>PWI Sample Mat W/H</td>\n",
       "    </tr>\n",
       "  </tbody>\n",
       "</table>\n",
       "<p>262410 rows × 8 columns</p>\n",
       "</div>"
      ],
      "text/plain": [
       "        Application_month   Department Supplier Agency  \\\n",
       "71023                   2   PURCHASING          004400   \n",
       "159125                  4   PURCHASING          004229   \n",
       "241320                  7   PURCHASING          B00029   \n",
       "344605                 10  DEV. SAMPLE          B00181   \n",
       "137452                  3   PURCHASING          E00003   \n",
       "...                   ...          ...             ...   \n",
       "151700                  4   PURCHASING          B00029   \n",
       "358119                 11   PURCHASING          B00494   \n",
       "185085                  5   PURCHASING          E00003   \n",
       "146807                  4         PLAN          Z01594   \n",
       "359780                 11  DEV. SAMPLE          B00181   \n",
       "\n",
       "              Consumption Dept. Location Invoice Date  \\\n",
       "71023                PURCHASING    Local   2020-02-11   \n",
       "159125               PURCHASING    Local   2020-04-23   \n",
       "241320               PURCHASING    Local   2020-07-14   \n",
       "344605   DEVELOPMENT ( SAMPLE )    Local   2020-08-10   \n",
       "137452               PURCHASING   Import   2020-03-16   \n",
       "...                         ...      ...          ...   \n",
       "151700               PURCHASING    Local   2020-04-21   \n",
       "358119               PURCHASING    Local   2020-11-24   \n",
       "185085               PURCHASING   Import   2020-05-11   \n",
       "146807  PLANNING ( PRODUCTION )    Local   2020-04-30   \n",
       "359780   DEVELOPMENT ( SAMPLE )    Local   2020-10-30   \n",
       "\n",
       "                                            Material Name           Warehouse  \n",
       "71023                  FV4723 / PAINTING /SPRAY / MIDSOLE        PWI Plan W/H  \n",
       "159125        FW9260 / NO SEW + HF WELDING / VAMP QUARTER        PWI Plan W/H  \n",
       "241320                                   SHOE LACE T 4004   PWI Mat W/H(Main)  \n",
       "344605  FLAT LACE 32308 - EPM 5, Length: 115CM Width: 6MM  PWI Sample Mat W/H  \n",
       "137452         1180 AU E TPU 32 110 STM BASF (X9000L3 Ms)   PWI Mat W/H(Main)  \n",
       "...                                                   ...                 ...  \n",
       "151700                     EG5400 / NO SEW / VAMP QUARTER        PWI Plan W/H  \n",
       "358119  FY5680 / Sewing, laminating, cutting , logo / ...          PWI I/S WH  \n",
       "185085       1180 AU E TPU X 25 130 STM BASF (X9000L4 Ms)   PWI Mat W/H(Main)  \n",
       "146807                   FW9262 / STITCHING UPPER / UPPER        PWI Plan W/H  \n",
       "359780              Round lace 32333 - EPM 5/4MM X 120 CM  PWI Sample Mat W/H  \n",
       "\n",
       "[262410 rows x 8 columns]"
      ]
     },
     "execution_count": 316,
     "metadata": {},
     "output_type": "execute_result"
    }
   ],
   "source": [
    "train_X"
   ]
  },
  {
   "cell_type": "code",
   "execution_count": 340,
   "metadata": {},
   "outputs": [],
   "source": [
    "from sklearn import preprocessing\n",
    "\n",
    "def convert(d):\n",
    "    number=preprocessing.LabelEncoder()\n",
    "    d['Department']=number.fit_transform(d.Department)\n",
    "    d['Supplier_Agency']=number.fit_transform(d.Supplier_agency)\n",
    "    d['Consumption_Dept']=number.fit_transform(d.Consumption_Dept)\n",
    "    d['Location']=number.fit_transform(d.Location)\n",
    "    d['Material_Name']=number.fit_transform(d.Material_Name)\n",
    "    d['Warehouse']=number.fit_transform(d.Warehouse)\n",
    "    return d\n",
    "    \n"
   ]
  },
  {
   "cell_type": "code",
   "execution_count": 326,
   "metadata": {},
   "outputs": [
    {
     "data": {
      "text/html": [
       "<div>\n",
       "<style scoped>\n",
       "    .dataframe tbody tr th:only-of-type {\n",
       "        vertical-align: middle;\n",
       "    }\n",
       "\n",
       "    .dataframe tbody tr th {\n",
       "        vertical-align: top;\n",
       "    }\n",
       "\n",
       "    .dataframe thead th {\n",
       "        text-align: right;\n",
       "    }\n",
       "</style>\n",
       "<table border=\"1\" class=\"dataframe\">\n",
       "  <thead>\n",
       "    <tr style=\"text-align: right;\">\n",
       "      <th></th>\n",
       "      <th>Application_month</th>\n",
       "      <th>Department</th>\n",
       "      <th>Supplier Agency</th>\n",
       "      <th>Consumption Dept.</th>\n",
       "      <th>Location</th>\n",
       "      <th>Invoice Date</th>\n",
       "      <th>Material Name</th>\n",
       "      <th>Warehouse</th>\n",
       "    </tr>\n",
       "  </thead>\n",
       "  <tbody>\n",
       "    <tr>\n",
       "      <th>150658</th>\n",
       "      <td>4</td>\n",
       "      <td>10</td>\n",
       "      <td>194</td>\n",
       "      <td>33</td>\n",
       "      <td>0</td>\n",
       "      <td>2020-03-27</td>\n",
       "      <td>7717</td>\n",
       "      <td>8</td>\n",
       "    </tr>\n",
       "    <tr>\n",
       "      <th>145358</th>\n",
       "      <td>4</td>\n",
       "      <td>10</td>\n",
       "      <td>206</td>\n",
       "      <td>33</td>\n",
       "      <td>2</td>\n",
       "      <td>2020-04-16</td>\n",
       "      <td>6978</td>\n",
       "      <td>8</td>\n",
       "    </tr>\n",
       "    <tr>\n",
       "      <th>390558</th>\n",
       "      <td>12</td>\n",
       "      <td>10</td>\n",
       "      <td>121</td>\n",
       "      <td>33</td>\n",
       "      <td>0</td>\n",
       "      <td>2020-12-05</td>\n",
       "      <td>5717</td>\n",
       "      <td>8</td>\n",
       "    </tr>\n",
       "    <tr>\n",
       "      <th>375762</th>\n",
       "      <td>11</td>\n",
       "      <td>10</td>\n",
       "      <td>153</td>\n",
       "      <td>33</td>\n",
       "      <td>2</td>\n",
       "      <td>2020-11-25</td>\n",
       "      <td>4724</td>\n",
       "      <td>11</td>\n",
       "    </tr>\n",
       "    <tr>\n",
       "      <th>309444</th>\n",
       "      <td>9</td>\n",
       "      <td>10</td>\n",
       "      <td>34</td>\n",
       "      <td>33</td>\n",
       "      <td>2</td>\n",
       "      <td>2020-09-26</td>\n",
       "      <td>8510</td>\n",
       "      <td>8</td>\n",
       "    </tr>\n",
       "    <tr>\n",
       "      <th>...</th>\n",
       "      <td>...</td>\n",
       "      <td>...</td>\n",
       "      <td>...</td>\n",
       "      <td>...</td>\n",
       "      <td>...</td>\n",
       "      <td>...</td>\n",
       "      <td>...</td>\n",
       "      <td>...</td>\n",
       "    </tr>\n",
       "    <tr>\n",
       "      <th>317290</th>\n",
       "      <td>10</td>\n",
       "      <td>4</td>\n",
       "      <td>242</td>\n",
       "      <td>9</td>\n",
       "      <td>2</td>\n",
       "      <td>2020-09-09</td>\n",
       "      <td>1117</td>\n",
       "      <td>13</td>\n",
       "    </tr>\n",
       "    <tr>\n",
       "      <th>381196</th>\n",
       "      <td>11</td>\n",
       "      <td>6</td>\n",
       "      <td>147</td>\n",
       "      <td>25</td>\n",
       "      <td>2</td>\n",
       "      <td>2020-11-06</td>\n",
       "      <td>8302</td>\n",
       "      <td>6</td>\n",
       "    </tr>\n",
       "    <tr>\n",
       "      <th>186560</th>\n",
       "      <td>5</td>\n",
       "      <td>10</td>\n",
       "      <td>40</td>\n",
       "      <td>33</td>\n",
       "      <td>2</td>\n",
       "      <td>2020-05-11</td>\n",
       "      <td>3650</td>\n",
       "      <td>11</td>\n",
       "    </tr>\n",
       "    <tr>\n",
       "      <th>369252</th>\n",
       "      <td>11</td>\n",
       "      <td>10</td>\n",
       "      <td>121</td>\n",
       "      <td>33</td>\n",
       "      <td>0</td>\n",
       "      <td>2020-11-03</td>\n",
       "      <td>2857</td>\n",
       "      <td>8</td>\n",
       "    </tr>\n",
       "    <tr>\n",
       "      <th>91717</th>\n",
       "      <td>3</td>\n",
       "      <td>10</td>\n",
       "      <td>121</td>\n",
       "      <td>33</td>\n",
       "      <td>0</td>\n",
       "      <td>2020-03-06</td>\n",
       "      <td>7125</td>\n",
       "      <td>8</td>\n",
       "    </tr>\n",
       "  </tbody>\n",
       "</table>\n",
       "<p>87470 rows × 8 columns</p>\n",
       "</div>"
      ],
      "text/plain": [
       "        Application_month  Department  Supplier Agency  Consumption Dept.  \\\n",
       "150658                  4          10              194                 33   \n",
       "145358                  4          10              206                 33   \n",
       "390558                 12          10              121                 33   \n",
       "375762                 11          10              153                 33   \n",
       "309444                  9          10               34                 33   \n",
       "...                   ...         ...              ...                ...   \n",
       "317290                 10           4              242                  9   \n",
       "381196                 11           6              147                 25   \n",
       "186560                  5          10               40                 33   \n",
       "369252                 11          10              121                 33   \n",
       "91717                   3          10              121                 33   \n",
       "\n",
       "        Location Invoice Date  Material Name  Warehouse  \n",
       "150658         0   2020-03-27           7717          8  \n",
       "145358         2   2020-04-16           6978          8  \n",
       "390558         0   2020-12-05           5717          8  \n",
       "375762         2   2020-11-25           4724         11  \n",
       "309444         2   2020-09-26           8510          8  \n",
       "...          ...          ...            ...        ...  \n",
       "317290         2   2020-09-09           1117         13  \n",
       "381196         2   2020-11-06           8302          6  \n",
       "186560         2   2020-05-11           3650         11  \n",
       "369252         0   2020-11-03           2857          8  \n",
       "91717          0   2020-03-06           7125          8  \n",
       "\n",
       "[87470 rows x 8 columns]"
      ]
     },
     "execution_count": 326,
     "metadata": {},
     "output_type": "execute_result"
    }
   ],
   "source": []
  },
  {
   "cell_type": "code",
   "execution_count": null,
   "metadata": {},
   "outputs": [],
   "source": []
  }
 ],
 "metadata": {
  "kernelspec": {
   "display_name": "Python 3",
   "language": "python",
   "name": "python3"
  },
  "language_info": {
   "codemirror_mode": {
    "name": "ipython",
    "version": 3
   },
   "file_extension": ".py",
   "mimetype": "text/x-python",
   "name": "python",
   "nbconvert_exporter": "python",
   "pygments_lexer": "ipython3",
   "version": "3.7.3"
  }
 },
 "nbformat": 4,
 "nbformat_minor": 4
}
